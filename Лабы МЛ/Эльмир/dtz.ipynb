{
 "cells": [
  {
   "cell_type": "markdown",
   "metadata": {},
   "source": [
    "# Гасанов Эльмир ПИ18-3 ДТЗ"
   ]
  },
  {
   "cell_type": "markdown",
   "metadata": {},
   "source": [
    "# Парсинг сайта https://av.by/"
   ]
  },
  {
   "cell_type": "code",
   "execution_count": 20,
   "metadata": {},
   "outputs": [
    {
     "name": "stdout",
     "output_type": "stream",
     "text": [
      "1\n",
      "2\n",
      "3\n",
      "4\n",
      "5\n",
      "6\n",
      "7\n",
      "8\n",
      "9\n",
      "10\n",
      "11\n",
      "12\n",
      "13\n",
      "14\n",
      "15\n",
      "16\n",
      "17\n",
      "18\n",
      "19\n",
      "20\n",
      "21\n",
      "22\n",
      "23\n",
      "24\n",
      "25\n",
      "26\n",
      "27\n",
      "28\n",
      "29\n",
      "30\n",
      "31\n",
      "32\n",
      "33\n",
      "34\n",
      "35\n",
      "36\n",
      "37\n",
      "38\n",
      "39\n",
      "40\n",
      "41\n",
      "42\n",
      "43\n",
      "44\n",
      "45\n",
      "46\n",
      "47\n",
      "48\n",
      "49\n",
      "50\n",
      "51\n",
      "52\n",
      "53\n",
      "54\n",
      "55\n",
      "56\n",
      "57\n",
      "58\n",
      "59\n",
      "60\n",
      "61\n",
      "62\n",
      "63\n",
      "64\n",
      "65\n",
      "66\n",
      "67\n",
      "68\n",
      "69\n",
      "70\n",
      "71\n",
      "72\n",
      "73\n",
      "74\n",
      "75\n",
      "76\n",
      "77\n",
      "78\n",
      "79\n",
      "80\n",
      "81\n",
      "82\n",
      "83\n",
      "84\n",
      "85\n",
      "86\n",
      "87\n",
      "88\n",
      "89\n",
      "90\n",
      "91\n",
      "92\n",
      "93\n",
      "94\n",
      "95\n",
      "96\n",
      "97\n",
      "98\n",
      "99\n",
      "100\n",
      "101\n",
      "102\n",
      "103\n",
      "104\n",
      "105\n",
      "106\n",
      "107\n",
      "108\n",
      "109\n",
      "110\n",
      "111\n",
      "112\n",
      "113\n",
      "114\n",
      "115\n",
      "116\n",
      "117\n",
      "118\n",
      "119\n",
      "120\n",
      "121\n",
      "122\n",
      "123\n",
      "124\n",
      "125\n",
      "126\n",
      "127\n",
      "128\n",
      "129\n",
      "130\n",
      "131\n",
      "132\n",
      "133\n",
      "134\n",
      "135\n",
      "136\n",
      "137\n",
      "138\n",
      "139\n",
      "140\n",
      "141\n",
      "142\n",
      "143\n",
      "144\n",
      "145\n",
      "146\n",
      "147\n",
      "148\n",
      "149\n"
     ]
    }
   ],
   "source": [
    "from bs4 import BeautifulSoup\n",
    "import requests\n",
    "import csv\n",
    "\n",
    "URL = \"https://cars.av.by/filter?price_currency=2&page=\"\n",
    "HEADERS = {\n",
    "    \"User-Agent\": \"Mozilla/5.0 (Windows NT 10.0; Win64; x64) AppleWebKit/537.36 (KHTML, like Gecko) Chrome/87.0.4280.141 Safari/537.36 OPR/73.0.3856.344\"}\n",
    "\n",
    "def writeCsv(comps):\n",
    "    with open(\"data.csv\", 'w', newline='', encoding=\"utf-8\") as csvfile:\n",
    "        writer = csv.writer(csvfile, delimiter=\";\")\n",
    "        for comp in comps:\n",
    "            writer.writerow([str(comp[\"Name\"]),\n",
    "                             str(comp[\"Price\"]),\n",
    "                             str(comp[\"Year\"]),\n",
    "                             str(comp[\"Transmission\"]),\n",
    "                             str(comp[\"Volume\"]),\n",
    "                             str(comp[\"Fuel\"]),\n",
    "                             str(comp[\"Mileage\"])\n",
    "            ])\n",
    "\n",
    "def parse():\n",
    "    count = 0\n",
    "    comps = []\n",
    "    for i in range(1, 150):\n",
    "        count += 1\n",
    "        response = requests.get(URL + str(i), headers=HEADERS)\n",
    "        soup = BeautifulSoup(response.content, \"html.parser\")\n",
    "        items = soup.findAll(\"div\", class_=\"listing-item\")\n",
    "        for item in items:\n",
    "\n",
    "            info = item.find(\"div\", class_=\"listing-item__params\").get_text(strip=True)\n",
    "\n",
    "            splited_info = info.replace(\"\\xa0\", '').replace(\",\", ' ').replace(\"г.\", ' ').split(' ')\n",
    "\n",
    "            if splited_info[1][0] == \"а\":\n",
    "                transmission = \"auto\"\n",
    "            else:\n",
    "                transmission = \"mech\"\n",
    "\n",
    "            if splited_info[2] == \"электро\":\n",
    "                volume = \"-\"\n",
    "                fuel = \"Elec\"\n",
    "            else:\n",
    "                volume = splited_info[2][0:len(splited_info[2])-1]\n",
    "                if splited_info[3][0] == \"б\":\n",
    "                    fuel = \"Benz\"\n",
    "                else:\n",
    "                    fuel = \"Diz\"\n",
    "\n",
    "            mileage = info[len(info) - 10:len(info) - 3].replace(\" \", '')\n",
    "            while not mileage.isdigit():\n",
    "                mileage = mileage[1::1]\n",
    "\n",
    "            comps.append({\n",
    "                \"Name\": item.find(\"span\", class_=\"link-text\").get_text(strip=True),\n",
    "                \"Price\": item.find(\"div\", class_=\"listing-item__price\").get_text(strip=True)[0:len(item.find(\"div\", class_=\"listing-item__price\").get_text(strip=True)) - 3],\n",
    "                \"Year\": item.find(\"div\", class_=\"listing-item__params\").get_text(strip=True)[0:4],\n",
    "                \"Transmission\": transmission,\n",
    "                \"Volume\": volume,\n",
    "                \"Fuel\": fuel,\n",
    "                \"Mileage\": mileage\n",
    "            })\n",
    "        print(count)\n",
    "\n",
    "    writeCsv(comps)\n",
    "\n",
    "\n",
    "if __name__ == '__main__':\n",
    "    parse()\n"
   ]
  },
  {
   "cell_type": "markdown",
   "metadata": {},
   "source": [
    "# Работа с данными"
   ]
  },
  {
   "cell_type": "markdown",
   "metadata": {},
   "source": [
    "Не смотря на то, что я записывал файл в кодировке utf-8, все равно перед тем, как запускать код ниже- нужно пересохранить csv-файл с кодировкой utf-8 вручную."
   ]
  },
  {
   "cell_type": "markdown",
   "metadata": {},
   "source": [
    "Импортирую нужные библиотеки"
   ]
  },
  {
   "cell_type": "code",
   "execution_count": 136,
   "metadata": {},
   "outputs": [],
   "source": [
    "import pandas as pd\n",
    "import numpy as np\n",
    "from sklearn.model_selection import train_test_split\n",
    "from sklearn.linear_model import LinearRegression\n",
    "from sklearn.metrics import mean_squared_error, r2_score\n",
    "from sklearn.ensemble import RandomForestRegressor\n",
    "from sklearn.model_selection import GridSearchCV\n",
    "from sklearn.decomposition import PCA\n",
    "\n",
    "import matplotlib.pyplot as plt\n",
    "plt.style.use('seaborn')\n",
    "import seaborn as sns"
   ]
  },
  {
   "cell_type": "code",
   "execution_count": 137,
   "metadata": {},
   "outputs": [],
   "source": [
    "data = pd.read_csv('data1.csv', sep=';', encoding='utf-8', \n",
    "                   names=['name', 'price', 'year', 'type', 'consumption', 'fuel_type', 'mileage'], index_col= 'name')"
   ]
  },
  {
   "cell_type": "code",
   "execution_count": 138,
   "metadata": {},
   "outputs": [
    {
     "data": {
      "text/html": [
       "<div>\n",
       "<style scoped>\n",
       "    .dataframe tbody tr th:only-of-type {\n",
       "        vertical-align: middle;\n",
       "    }\n",
       "\n",
       "    .dataframe tbody tr th {\n",
       "        vertical-align: top;\n",
       "    }\n",
       "\n",
       "    .dataframe thead th {\n",
       "        text-align: right;\n",
       "    }\n",
       "</style>\n",
       "<table border=\"1\" class=\"dataframe\">\n",
       "  <thead>\n",
       "    <tr style=\"text-align: right;\">\n",
       "      <th></th>\n",
       "      <th>price</th>\n",
       "      <th>year</th>\n",
       "      <th>type</th>\n",
       "      <th>fuel_type</th>\n",
       "      <th>mileage</th>\n",
       "    </tr>\n",
       "    <tr>\n",
       "      <th>name</th>\n",
       "      <th></th>\n",
       "      <th></th>\n",
       "      <th></th>\n",
       "      <th></th>\n",
       "      <th></th>\n",
       "    </tr>\n",
       "  </thead>\n",
       "  <tbody>\n",
       "    <tr>\n",
       "      <th>DodgeGrand CaravanIV,7В РјРµСЃС‚</th>\n",
       "      <td>11461</td>\n",
       "      <td>2001</td>\n",
       "      <td>auto</td>\n",
       "      <td>Benz</td>\n",
       "      <td>280025</td>\n",
       "    </tr>\n",
       "    <tr>\n",
       "      <th>BMW5 СЃРµСЂРёСЏF07 (GT)</th>\n",
       "      <td>42543</td>\n",
       "      <td>2011</td>\n",
       "      <td>auto</td>\n",
       "      <td>Benz</td>\n",
       "      <td>169000</td>\n",
       "    </tr>\n",
       "    <tr>\n",
       "      <th>RenaultLoganII В· Р РµСЃС‚Р°Р№Р»РёРЅРі</th>\n",
       "      <td>20890</td>\n",
       "      <td>2019</td>\n",
       "      <td>mech</td>\n",
       "      <td>Benz</td>\n",
       "      <td>43000</td>\n",
       "    </tr>\n",
       "    <tr>\n",
       "      <th>Land RoverRange RoverIV</th>\n",
       "      <td>115911</td>\n",
       "      <td>2012</td>\n",
       "      <td>auto</td>\n",
       "      <td>Diz</td>\n",
       "      <td>150000</td>\n",
       "    </tr>\n",
       "    <tr>\n",
       "      <th>OpelSintra,7В РјРµСЃС‚</th>\n",
       "      <td>6624</td>\n",
       "      <td>1998</td>\n",
       "      <td>mech</td>\n",
       "      <td>Benz</td>\n",
       "      <td>415000</td>\n",
       "    </tr>\n",
       "  </tbody>\n",
       "</table>\n",
       "</div>"
      ],
      "text/plain": [
       "                                         price  year  type fuel_type  mileage\n",
       "name                                                                         \n",
       "DodgeGrand CaravanIV,7В РјРµСЃС‚         11461  2001  auto      Benz   280025\n",
       "BMW5 СЃРµСЂРёСЏF07 (GT)                  42543  2011  auto      Benz   169000\n",
       "RenaultLoganII В· Р РµСЃС‚Р°Р№Р»РёРЅРі   20890  2019  mech      Benz    43000\n",
       "Land RoverRange RoverIV                 115911  2012  auto       Diz   150000\n",
       "OpelSintra,7В РјРµСЃС‚                    6624  1998  mech      Benz   415000"
      ]
     },
     "execution_count": 138,
     "metadata": {},
     "output_type": "execute_result"
    }
   ],
   "source": [
    "data = data.drop('consumption', axis = 1)\n",
    "data.head()"
   ]
  },
  {
   "cell_type": "markdown",
   "metadata": {},
   "source": [
    "Моей задачей будет предсказать цену на автомобиль. Воспользуюсь для этого методами регрессии библиотеки sklearn"
   ]
  },
  {
   "cell_type": "code",
   "execution_count": 139,
   "metadata": {},
   "outputs": [
    {
     "data": {
      "text/plain": [
       "(3000, 5)"
      ]
     },
     "execution_count": 139,
     "metadata": {},
     "output_type": "execute_result"
    }
   ],
   "source": [
    "data.shape"
   ]
  },
  {
   "cell_type": "markdown",
   "metadata": {},
   "source": [
    "Небольшая описательная статистика распределения числовых данных датасета"
   ]
  },
  {
   "cell_type": "code",
   "execution_count": 140,
   "metadata": {},
   "outputs": [
    {
     "data": {
      "text/html": [
       "<div>\n",
       "<style scoped>\n",
       "    .dataframe tbody tr th:only-of-type {\n",
       "        vertical-align: middle;\n",
       "    }\n",
       "\n",
       "    .dataframe tbody tr th {\n",
       "        vertical-align: top;\n",
       "    }\n",
       "\n",
       "    .dataframe thead th {\n",
       "        text-align: right;\n",
       "    }\n",
       "</style>\n",
       "<table border=\"1\" class=\"dataframe\">\n",
       "  <thead>\n",
       "    <tr style=\"text-align: right;\">\n",
       "      <th></th>\n",
       "      <th>price</th>\n",
       "      <th>year</th>\n",
       "      <th>mileage</th>\n",
       "    </tr>\n",
       "  </thead>\n",
       "  <tbody>\n",
       "    <tr>\n",
       "      <th>count</th>\n",
       "      <td>3000.000000</td>\n",
       "      <td>3000.000000</td>\n",
       "      <td>3000.000000</td>\n",
       "    </tr>\n",
       "    <tr>\n",
       "      <th>mean</th>\n",
       "      <td>22115.655333</td>\n",
       "      <td>2005.951667</td>\n",
       "      <td>228957.595667</td>\n",
       "    </tr>\n",
       "    <tr>\n",
       "      <th>std</th>\n",
       "      <td>19819.682190</td>\n",
       "      <td>7.610079</td>\n",
       "      <td>123427.050629</td>\n",
       "    </tr>\n",
       "    <tr>\n",
       "      <th>min</th>\n",
       "      <td>100.000000</td>\n",
       "      <td>1960.000000</td>\n",
       "      <td>1.000000</td>\n",
       "    </tr>\n",
       "    <tr>\n",
       "      <th>25%</th>\n",
       "      <td>9423.000000</td>\n",
       "      <td>2001.000000</td>\n",
       "      <td>141000.000000</td>\n",
       "    </tr>\n",
       "    <tr>\n",
       "      <th>50%</th>\n",
       "      <td>17068.000000</td>\n",
       "      <td>2007.000000</td>\n",
       "      <td>222000.000000</td>\n",
       "    </tr>\n",
       "    <tr>\n",
       "      <th>75%</th>\n",
       "      <td>28054.750000</td>\n",
       "      <td>2012.000000</td>\n",
       "      <td>310000.000000</td>\n",
       "    </tr>\n",
       "    <tr>\n",
       "      <th>max</th>\n",
       "      <td>203545.000000</td>\n",
       "      <td>2020.000000</td>\n",
       "      <td>999999.000000</td>\n",
       "    </tr>\n",
       "  </tbody>\n",
       "</table>\n",
       "</div>"
      ],
      "text/plain": [
       "               price         year        mileage\n",
       "count    3000.000000  3000.000000    3000.000000\n",
       "mean    22115.655333  2005.951667  228957.595667\n",
       "std     19819.682190     7.610079  123427.050629\n",
       "min       100.000000  1960.000000       1.000000\n",
       "25%      9423.000000  2001.000000  141000.000000\n",
       "50%     17068.000000  2007.000000  222000.000000\n",
       "75%     28054.750000  2012.000000  310000.000000\n",
       "max    203545.000000  2020.000000  999999.000000"
      ]
     },
     "execution_count": 140,
     "metadata": {},
     "output_type": "execute_result"
    }
   ],
   "source": [
    "data.describe()"
   ]
  },
  {
   "cell_type": "markdown",
   "metadata": {},
   "source": [
    "Проверяю, есть ли пропущенные значения. Их нет. Если бы были-их можно удалить методом dropna()"
   ]
  },
  {
   "cell_type": "code",
   "execution_count": 141,
   "metadata": {},
   "outputs": [
    {
     "data": {
      "text/plain": [
       "price        0\n",
       "year         0\n",
       "type         0\n",
       "fuel_type    0\n",
       "mileage      0\n",
       "dtype: int64"
      ]
     },
     "execution_count": 141,
     "metadata": {},
     "output_type": "execute_result"
    }
   ],
   "source": [
    "data.isna().sum()"
   ]
  },
  {
   "cell_type": "markdown",
   "metadata": {},
   "source": [
    "Хитмап по корреляции внутри данных датасета. Отрицательная корреляция между годом выпуска автомобиля и его пробегом. То же самое и с ценой относительно пробега и года выпуска. Логично."
   ]
  },
  {
   "cell_type": "code",
   "execution_count": 142,
   "metadata": {},
   "outputs": [
    {
     "data": {
      "text/plain": [
       "<matplotlib.axes._subplots.AxesSubplot at 0x2a3d99955c0>"
      ]
     },
     "execution_count": 142,
     "metadata": {},
     "output_type": "execute_result"
    },
    {
     "data": {
      "image/png": "[encoded data removed]",
      "text/plain": [
       "<Figure size 576x396 with 2 Axes>"
      ]
     },
     "metadata": {},
     "output_type": "display_data"
    }
   ],
   "source": [
    "sns.heatmap(data.corr())"
   ]
  },
  {
   "cell_type": "markdown",
   "metadata": {},
   "source": [
    "То же самое,только с конкретными числами"
   ]
  },
  {
   "cell_type": "code",
   "execution_count": 143,
   "metadata": {},
   "outputs": [
    {
     "data": {
      "text/html": [
       "<div>\n",
       "<style scoped>\n",
       "    .dataframe tbody tr th:only-of-type {\n",
       "        vertical-align: middle;\n",
       "    }\n",
       "\n",
       "    .dataframe tbody tr th {\n",
       "        vertical-align: top;\n",
       "    }\n",
       "\n",
       "    .dataframe thead th {\n",
       "        text-align: right;\n",
       "    }\n",
       "</style>\n",
       "<table border=\"1\" class=\"dataframe\">\n",
       "  <thead>\n",
       "    <tr style=\"text-align: right;\">\n",
       "      <th></th>\n",
       "      <th>price</th>\n",
       "      <th>year</th>\n",
       "      <th>mileage</th>\n",
       "    </tr>\n",
       "  </thead>\n",
       "  <tbody>\n",
       "    <tr>\n",
       "      <th>price</th>\n",
       "      <td>1.000000</td>\n",
       "      <td>0.643133</td>\n",
       "      <td>-0.446103</td>\n",
       "    </tr>\n",
       "    <tr>\n",
       "      <th>year</th>\n",
       "      <td>0.643133</td>\n",
       "      <td>1.000000</td>\n",
       "      <td>-0.582916</td>\n",
       "    </tr>\n",
       "    <tr>\n",
       "      <th>mileage</th>\n",
       "      <td>-0.446103</td>\n",
       "      <td>-0.582916</td>\n",
       "      <td>1.000000</td>\n",
       "    </tr>\n",
       "  </tbody>\n",
       "</table>\n",
       "</div>"
      ],
      "text/plain": [
       "            price      year   mileage\n",
       "price    1.000000  0.643133 -0.446103\n",
       "year     0.643133  1.000000 -0.582916\n",
       "mileage -0.446103 -0.582916  1.000000"
      ]
     },
     "execution_count": 143,
     "metadata": {},
     "output_type": "execute_result"
    }
   ],
   "source": [
    "data.corr()"
   ]
  },
  {
   "cell_type": "markdown",
   "metadata": {},
   "source": [
    "Строю гистограммы распределений и ящики с усами по численным данным."
   ]
  },
  {
   "cell_type": "code",
   "execution_count": 144,
   "metadata": {},
   "outputs": [
    {
     "data": {
      "image/png": "[encoded data removed]",
      "text/plain": [
       "<Figure size 576x396 with 2 Axes>"
      ]
     },
     "metadata": {},
     "output_type": "display_data"
    },
    {
     "data": {
      "image/png": "[encoded data removed]",
      "text/plain": [
       "<Figure size 576x396 with 2 Axes>"
      ]
     },
     "metadata": {},
     "output_type": "display_data"
    },
    {
     "data": {
      "image/png": "[encoded data removed]",
      "text/plain": [
       "<Figure size 576x396 with 2 Axes>"
      ]
     },
     "metadata": {},
     "output_type": "display_data"
    }
   ],
   "source": [
    "for i in [data.year, data.price, data.mileage]:\n",
    "    fig, ax = plt.subplots(1, 2)\n",
    "    ax[0].hist(i)\n",
    "    ax[0].set_xlabel('Гистограмма')\n",
    "    ax[1].boxplot(i)\n",
    "    ax[1].set_xlabel('Ящик с усами')"
   ]
  },
  {
   "cell_type": "markdown",
   "metadata": {},
   "source": [
    "Как можно заметить, год и пробег распределены нормально, что касается цены- тут правая половина нормального распределения. Связано это с тем, что в целом по статистике дешевых автомобилей на вторичном рынке больше, чем дорогих и автомобилей среднего ценового сегмента, так как даже автомобили премиум- класса при многочисленной перепродаже становятся дешевыми с годами."
   ]
  },
  {
   "cell_type": "markdown",
   "metadata": {},
   "source": [
    "Нужно сделать дамми-переменные из столбцов с типом топлива, годом выпуска и типом коробки передач"
   ]
  },
  {
   "cell_type": "markdown",
   "metadata": {},
   "source": [
    "По хорошему стоит удалить из выборки автомобили, выпущенные ранее 1985 года, так как их достаточно мало, а добавлять из за них лишние колонки- не лучшая идея."
   ]
  },
  {
   "cell_type": "code",
   "execution_count": 145,
   "metadata": {},
   "outputs": [
    {
     "data": {
      "text/html": [
       "<div>\n",
       "<style scoped>\n",
       "    .dataframe tbody tr th:only-of-type {\n",
       "        vertical-align: middle;\n",
       "    }\n",
       "\n",
       "    .dataframe tbody tr th {\n",
       "        vertical-align: top;\n",
       "    }\n",
       "\n",
       "    .dataframe thead th {\n",
       "        text-align: right;\n",
       "    }\n",
       "</style>\n",
       "<table border=\"1\" class=\"dataframe\">\n",
       "  <thead>\n",
       "    <tr style=\"text-align: right;\">\n",
       "      <th></th>\n",
       "      <th>price</th>\n",
       "      <th>year</th>\n",
       "      <th>type</th>\n",
       "      <th>fuel_type</th>\n",
       "      <th>mileage</th>\n",
       "    </tr>\n",
       "    <tr>\n",
       "      <th>name</th>\n",
       "      <th></th>\n",
       "      <th></th>\n",
       "      <th></th>\n",
       "      <th></th>\n",
       "      <th></th>\n",
       "    </tr>\n",
       "  </thead>\n",
       "  <tbody>\n",
       "    <tr>\n",
       "      <th>DodgeGrand CaravanIV,7В РјРµСЃС‚</th>\n",
       "      <td>11461</td>\n",
       "      <td>2001</td>\n",
       "      <td>auto</td>\n",
       "      <td>Benz</td>\n",
       "      <td>280025</td>\n",
       "    </tr>\n",
       "    <tr>\n",
       "      <th>BMW5 СЃРµСЂРёСЏF07 (GT)</th>\n",
       "      <td>42543</td>\n",
       "      <td>2011</td>\n",
       "      <td>auto</td>\n",
       "      <td>Benz</td>\n",
       "      <td>169000</td>\n",
       "    </tr>\n",
       "    <tr>\n",
       "      <th>RenaultLoganII В· Р РµСЃС‚Р°Р№Р»РёРЅРі</th>\n",
       "      <td>20890</td>\n",
       "      <td>2019</td>\n",
       "      <td>mech</td>\n",
       "      <td>Benz</td>\n",
       "      <td>43000</td>\n",
       "    </tr>\n",
       "    <tr>\n",
       "      <th>Land RoverRange RoverIV</th>\n",
       "      <td>115911</td>\n",
       "      <td>2012</td>\n",
       "      <td>auto</td>\n",
       "      <td>Diz</td>\n",
       "      <td>150000</td>\n",
       "    </tr>\n",
       "    <tr>\n",
       "      <th>OpelSintra,7В РјРµСЃС‚</th>\n",
       "      <td>6624</td>\n",
       "      <td>1998</td>\n",
       "      <td>mech</td>\n",
       "      <td>Benz</td>\n",
       "      <td>415000</td>\n",
       "    </tr>\n",
       "  </tbody>\n",
       "</table>\n",
       "</div>"
      ],
      "text/plain": [
       "                                         price  year  type fuel_type  mileage\n",
       "name                                                                         \n",
       "DodgeGrand CaravanIV,7В РјРµСЃС‚         11461  2001  auto      Benz   280025\n",
       "BMW5 СЃРµСЂРёСЏF07 (GT)                  42543  2011  auto      Benz   169000\n",
       "RenaultLoganII В· Р РµСЃС‚Р°Р№Р»РёРЅРі   20890  2019  mech      Benz    43000\n",
       "Land RoverRange RoverIV                 115911  2012  auto       Diz   150000\n",
       "OpelSintra,7В РјРµСЃС‚                    6624  1998  mech      Benz   415000"
      ]
     },
     "execution_count": 145,
     "metadata": {},
     "output_type": "execute_result"
    }
   ],
   "source": [
    "data.drop(data[ (data.year < 1985)].index, axis=0, inplace=True)\n",
    "data.head()"
   ]
  },
  {
   "cell_type": "code",
   "execution_count": 146,
   "metadata": {},
   "outputs": [
    {
     "data": {
      "text/html": [
       "<div>\n",
       "<style scoped>\n",
       "    .dataframe tbody tr th:only-of-type {\n",
       "        vertical-align: middle;\n",
       "    }\n",
       "\n",
       "    .dataframe tbody tr th {\n",
       "        vertical-align: top;\n",
       "    }\n",
       "\n",
       "    .dataframe thead th {\n",
       "        text-align: right;\n",
       "    }\n",
       "</style>\n",
       "<table border=\"1\" class=\"dataframe\">\n",
       "  <thead>\n",
       "    <tr style=\"text-align: right;\">\n",
       "      <th></th>\n",
       "      <th>price</th>\n",
       "      <th>mileage</th>\n",
       "      <th>year_1985</th>\n",
       "      <th>year_1986</th>\n",
       "      <th>year_1987</th>\n",
       "      <th>year_1988</th>\n",
       "      <th>year_1989</th>\n",
       "      <th>year_1990</th>\n",
       "      <th>year_1991</th>\n",
       "      <th>year_1992</th>\n",
       "      <th>...</th>\n",
       "      <th>year_2016</th>\n",
       "      <th>year_2017</th>\n",
       "      <th>year_2018</th>\n",
       "      <th>year_2019</th>\n",
       "      <th>year_2020</th>\n",
       "      <th>fuel_type_Benz</th>\n",
       "      <th>fuel_type_Diz</th>\n",
       "      <th>fuel_type_Elec</th>\n",
       "      <th>type_auto</th>\n",
       "      <th>type_mech</th>\n",
       "    </tr>\n",
       "    <tr>\n",
       "      <th>name</th>\n",
       "      <th></th>\n",
       "      <th></th>\n",
       "      <th></th>\n",
       "      <th></th>\n",
       "      <th></th>\n",
       "      <th></th>\n",
       "      <th></th>\n",
       "      <th></th>\n",
       "      <th></th>\n",
       "      <th></th>\n",
       "      <th></th>\n",
       "      <th></th>\n",
       "      <th></th>\n",
       "      <th></th>\n",
       "      <th></th>\n",
       "      <th></th>\n",
       "      <th></th>\n",
       "      <th></th>\n",
       "      <th></th>\n",
       "      <th></th>\n",
       "      <th></th>\n",
       "    </tr>\n",
       "  </thead>\n",
       "  <tbody>\n",
       "    <tr>\n",
       "      <th>DodgeGrand CaravanIV,7В РјРµСЃС‚</th>\n",
       "      <td>11461</td>\n",
       "      <td>280025</td>\n",
       "      <td>0</td>\n",
       "      <td>0</td>\n",
       "      <td>0</td>\n",
       "      <td>0</td>\n",
       "      <td>0</td>\n",
       "      <td>0</td>\n",
       "      <td>0</td>\n",
       "      <td>0</td>\n",
       "      <td>...</td>\n",
       "      <td>0</td>\n",
       "      <td>0</td>\n",
       "      <td>0</td>\n",
       "      <td>0</td>\n",
       "      <td>0</td>\n",
       "      <td>1</td>\n",
       "      <td>0</td>\n",
       "      <td>0</td>\n",
       "      <td>1</td>\n",
       "      <td>0</td>\n",
       "    </tr>\n",
       "    <tr>\n",
       "      <th>BMW5 СЃРµСЂРёСЏF07 (GT)</th>\n",
       "      <td>42543</td>\n",
       "      <td>169000</td>\n",
       "      <td>0</td>\n",
       "      <td>0</td>\n",
       "      <td>0</td>\n",
       "      <td>0</td>\n",
       "      <td>0</td>\n",
       "      <td>0</td>\n",
       "      <td>0</td>\n",
       "      <td>0</td>\n",
       "      <td>...</td>\n",
       "      <td>0</td>\n",
       "      <td>0</td>\n",
       "      <td>0</td>\n",
       "      <td>0</td>\n",
       "      <td>0</td>\n",
       "      <td>1</td>\n",
       "      <td>0</td>\n",
       "      <td>0</td>\n",
       "      <td>1</td>\n",
       "      <td>0</td>\n",
       "    </tr>\n",
       "    <tr>\n",
       "      <th>RenaultLoganII В· Р РµСЃС‚Р°Р№Р»РёРЅРі</th>\n",
       "      <td>20890</td>\n",
       "      <td>43000</td>\n",
       "      <td>0</td>\n",
       "      <td>0</td>\n",
       "      <td>0</td>\n",
       "      <td>0</td>\n",
       "      <td>0</td>\n",
       "      <td>0</td>\n",
       "      <td>0</td>\n",
       "      <td>0</td>\n",
       "      <td>...</td>\n",
       "      <td>0</td>\n",
       "      <td>0</td>\n",
       "      <td>0</td>\n",
       "      <td>1</td>\n",
       "      <td>0</td>\n",
       "      <td>1</td>\n",
       "      <td>0</td>\n",
       "      <td>0</td>\n",
       "      <td>0</td>\n",
       "      <td>1</td>\n",
       "    </tr>\n",
       "    <tr>\n",
       "      <th>Land RoverRange RoverIV</th>\n",
       "      <td>115911</td>\n",
       "      <td>150000</td>\n",
       "      <td>0</td>\n",
       "      <td>0</td>\n",
       "      <td>0</td>\n",
       "      <td>0</td>\n",
       "      <td>0</td>\n",
       "      <td>0</td>\n",
       "      <td>0</td>\n",
       "      <td>0</td>\n",
       "      <td>...</td>\n",
       "      <td>0</td>\n",
       "      <td>0</td>\n",
       "      <td>0</td>\n",
       "      <td>0</td>\n",
       "      <td>0</td>\n",
       "      <td>0</td>\n",
       "      <td>1</td>\n",
       "      <td>0</td>\n",
       "      <td>1</td>\n",
       "      <td>0</td>\n",
       "    </tr>\n",
       "    <tr>\n",
       "      <th>OpelSintra,7В РјРµСЃС‚</th>\n",
       "      <td>6624</td>\n",
       "      <td>415000</td>\n",
       "      <td>0</td>\n",
       "      <td>0</td>\n",
       "      <td>0</td>\n",
       "      <td>0</td>\n",
       "      <td>0</td>\n",
       "      <td>0</td>\n",
       "      <td>0</td>\n",
       "      <td>0</td>\n",
       "      <td>...</td>\n",
       "      <td>0</td>\n",
       "      <td>0</td>\n",
       "      <td>0</td>\n",
       "      <td>0</td>\n",
       "      <td>0</td>\n",
       "      <td>1</td>\n",
       "      <td>0</td>\n",
       "      <td>0</td>\n",
       "      <td>0</td>\n",
       "      <td>1</td>\n",
       "    </tr>\n",
       "  </tbody>\n",
       "</table>\n",
       "<p>5 rows × 43 columns</p>\n",
       "</div>"
      ],
      "text/plain": [
       "                                         price  mileage  year_1985  year_1986  \\\n",
       "name                                                                            \n",
       "DodgeGrand CaravanIV,7В РјРµСЃС‚         11461   280025          0          0   \n",
       "BMW5 СЃРµСЂРёСЏF07 (GT)                  42543   169000          0          0   \n",
       "RenaultLoganII В· Р РµСЃС‚Р°Р№Р»РёРЅРі   20890    43000          0          0   \n",
       "Land RoverRange RoverIV                 115911   150000          0          0   \n",
       "OpelSintra,7В РјРµСЃС‚                    6624   415000          0          0   \n",
       "\n",
       "                                        year_1987  year_1988  year_1989  \\\n",
       "name                                                                      \n",
       "DodgeGrand CaravanIV,7В РјРµСЃС‚                0          0          0   \n",
       "BMW5 СЃРµСЂРёСЏF07 (GT)                         0          0          0   \n",
       "RenaultLoganII В· Р РµСЃС‚Р°Р№Р»РёРЅРі          0          0          0   \n",
       "Land RoverRange RoverIV                         0          0          0   \n",
       "OpelSintra,7В РјРµСЃС‚                          0          0          0   \n",
       "\n",
       "                                        year_1990  year_1991  year_1992  ...  \\\n",
       "name                                                                     ...   \n",
       "DodgeGrand CaravanIV,7В РјРµСЃС‚                0          0          0  ...   \n",
       "BMW5 СЃРµСЂРёСЏF07 (GT)                         0          0          0  ...   \n",
       "RenaultLoganII В· Р РµСЃС‚Р°Р№Р»РёРЅРі          0          0          0  ...   \n",
       "Land RoverRange RoverIV                         0          0          0  ...   \n",
       "OpelSintra,7В РјРµСЃС‚                          0          0          0  ...   \n",
       "\n",
       "                                        year_2016  year_2017  year_2018  \\\n",
       "name                                                                      \n",
       "DodgeGrand CaravanIV,7В РјРµСЃС‚                0          0          0   \n",
       "BMW5 СЃРµСЂРёСЏF07 (GT)                         0          0          0   \n",
       "RenaultLoganII В· Р РµСЃС‚Р°Р№Р»РёРЅРі          0          0          0   \n",
       "Land RoverRange RoverIV                         0          0          0   \n",
       "OpelSintra,7В РјРµСЃС‚                          0          0          0   \n",
       "\n",
       "                                        year_2019  year_2020  fuel_type_Benz  \\\n",
       "name                                                                           \n",
       "DodgeGrand CaravanIV,7В РјРµСЃС‚                0          0               1   \n",
       "BMW5 СЃРµСЂРёСЏF07 (GT)                         0          0               1   \n",
       "RenaultLoganII В· Р РµСЃС‚Р°Р№Р»РёРЅРі          1          0               1   \n",
       "Land RoverRange RoverIV                         0          0               0   \n",
       "OpelSintra,7В РјРµСЃС‚                          0          0               1   \n",
       "\n",
       "                                        fuel_type_Diz  fuel_type_Elec  \\\n",
       "name                                                                    \n",
       "DodgeGrand CaravanIV,7В РјРµСЃС‚                    0               0   \n",
       "BMW5 СЃРµСЂРёСЏF07 (GT)                             0               0   \n",
       "RenaultLoganII В· Р РµСЃС‚Р°Р№Р»РёРЅРі              0               0   \n",
       "Land RoverRange RoverIV                             1               0   \n",
       "OpelSintra,7В РјРµСЃС‚                              0               0   \n",
       "\n",
       "                                        type_auto  type_mech  \n",
       "name                                                          \n",
       "DodgeGrand CaravanIV,7В РјРµСЃС‚                1          0  \n",
       "BMW5 СЃРµСЂРёСЏF07 (GT)                         1          0  \n",
       "RenaultLoganII В· Р РµСЃС‚Р°Р№Р»РёРЅРі          0          1  \n",
       "Land RoverRange RoverIV                         1          0  \n",
       "OpelSintra,7В РјРµСЃС‚                          0          1  \n",
       "\n",
       "[5 rows x 43 columns]"
      ]
     },
     "execution_count": 146,
     "metadata": {},
     "output_type": "execute_result"
    }
   ],
   "source": [
    "data = pd.get_dummies(data, columns=['year', 'fuel_type', 'type'])\n",
    "data.head()"
   ]
  },
  {
   "cell_type": "code",
   "execution_count": 156,
   "metadata": {},
   "outputs": [
    {
     "data": {
      "text/plain": [
       "(2969, 43)"
      ]
     },
     "execution_count": 156,
     "metadata": {},
     "output_type": "execute_result"
    }
   ],
   "source": [
    "data.shape"
   ]
  },
  {
   "cell_type": "markdown",
   "metadata": {},
   "source": [
    "Удалена всего 31 строка, но при этом удалось значительно уменьшить количество dummy-переменных."
   ]
  },
  {
   "cell_type": "markdown",
   "metadata": {},
   "source": [
    "Теперь у нас 42 колонки фичей и колонка целевой переменной price"
   ]
  },
  {
   "cell_type": "markdown",
   "metadata": {},
   "source": [
    "\n",
    "# Далее- модели."
   ]
  },
  {
   "cell_type": "markdown",
   "metadata": {},
   "source": [
    "Разбиваю датасет"
   ]
  },
  {
   "cell_type": "code",
   "execution_count": 147,
   "metadata": {},
   "outputs": [],
   "source": [
    "X = data.drop('price', axis=1)\n",
    "y = data['price']"
   ]
  },
  {
   "cell_type": "code",
   "execution_count": 148,
   "metadata": {},
   "outputs": [],
   "source": [
    "X_train, X_test, y_train, y_test = train_test_split(X, y, test_size=0.25)"
   ]
  },
  {
   "cell_type": "markdown",
   "metadata": {},
   "source": [
    "Обычная линейная регрессия без гиперпараметров"
   ]
  },
  {
   "cell_type": "code",
   "execution_count": 155,
   "metadata": {},
   "outputs": [
    {
     "name": "stdout",
     "output_type": "stream",
     "text": [
      "train mse: 15821.218808530051\n",
      "0.3820580340534884\n",
      "mse: 14311.295911043982\n",
      "r2:  0.4305538409602212\n"
     ]
    }
   ],
   "source": [
    "regr = LinearRegression()\n",
    "regr.fit(X_train, y_train)\n",
    "\n",
    "y_pred_train = regr.predict(X_train)\n",
    "mse = np.sqrt(mean_squared_error(y_train, y_pred_train))\n",
    "print(f\"train mse: {mse}\")\n",
    "print(regr.score(X_train, y_train))\n",
    "y_pred_test = regr.predict(X_test)\n",
    "mse = np.sqrt(mean_squared_error(y_test, y_pred_test))\n",
    "print(f\"mse: {mse}\")\n",
    "print('r2: ', regr.score(X_test, y_test))"
   ]
  },
  {
   "cell_type": "markdown",
   "metadata": {},
   "source": [
    "Если в линейной регрессии выше SVD не сойдется, нужно просто перезапустить его."
   ]
  },
  {
   "cell_type": "markdown",
   "metadata": {},
   "source": [
    "Корень из средней квадратичной ошибки 14299 у.е. при средней цене на авто 22115.65 у.е.- вполне неплохо для обычной линейной регрессии. Но Р-квадрат низковат. Модель не переобучена."
   ]
  },
  {
   "cell_type": "markdown",
   "metadata": {},
   "source": [
    "Попробую так же и Ансамбль решающих деревьев, без гиперпараметров. Обычно он справляется значительно лучше."
   ]
  },
  {
   "cell_type": "code",
   "execution_count": 150,
   "metadata": {},
   "outputs": [
    {
     "name": "stdout",
     "output_type": "stream",
     "text": [
      "train mse: 5578.930111710807\n",
      "0.9222203588034281\n",
      "mse: 14034.006451504245\n",
      "r2:  0.4739054764077183\n"
     ]
    }
   ],
   "source": [
    "regr = RandomForestRegressor()\n",
    "regr.fit(X_train, y_train)\n",
    "\n",
    "y_pred_train = regr.predict(X_train)\n",
    "mse = np.sqrt(mean_squared_error(y_train, y_pred_train))\n",
    "print(f\"train mse: {mse}\")\n",
    "print(regr.score(X_train, y_train))\n",
    "y_pred_test = regr.predict(X_test)\n",
    "mse = np.sqrt(mean_squared_error(y_test, y_pred_test))\n",
    "print(f\"mse: {mse}\")\n",
    "print('r2: ', regr.score(X_test, y_test))"
   ]
  },
  {
   "cell_type": "markdown",
   "metadata": {},
   "source": [
    "Ожидаемо, на трейновой выборке RandomForest без ораничения max_depth и прочих гиперпараметров переобучился и показал результат не сильно лучше, чем линейная регрессия."
   ]
  },
  {
   "cell_type": "code",
   "execution_count": 151,
   "metadata": {},
   "outputs": [
    {
     "name": "stdout",
     "output_type": "stream",
     "text": [
      "mse: 13925.535708366759 r2: 0.4608388794539702 Количество компонент: 3\n",
      "mse: 12981.85463995037 r2: 0.5314367442897114 Количество компонент: 4\n",
      "mse: 12981.85463995037 r2: 0.5314367442897114 Количество компонент: 5\n",
      "mse: 12695.603524855405 r2: 0.5518726533869809 Количество компонент: 6\n",
      "mse: 12695.603524855405 r2: 0.5518726533869809 Количество компонент: 7\n",
      "mse: 12695.603524855405 r2: 0.5518726533869809 Количество компонент: 8\n",
      "mse: 12695.603524855405 r2: 0.5518726533869809 Количество компонент: 9\n",
      "mse: 12695.603524855405 r2: 0.5518726533869809 Количество компонент: 10\n",
      "mse: 12695.603524855405 r2: 0.5518726533869809 Количество компонент: 11\n",
      "mse: 12695.603524855405 r2: 0.5518726533869809 Количество компонент: 12\n",
      "mse: 12695.603524855405 r2: 0.5518726533869809 Количество компонент: 13\n",
      "mse: 12695.603524855405 r2: 0.5518726533869809 Количество компонент: 14\n"
     ]
    }
   ],
   "source": [
    "best_mse = 20000\n",
    "best_r2 = -1\n",
    "for i in range(3,15):\n",
    "    pca = PCA(n_components=i)\n",
    "    X_new = pca.fit_transform(X)\n",
    "    \n",
    "    X_train, X_test, y_train, y_test = train_test_split(X_new, y, test_size=0.25, random_state=47)\n",
    "    \n",
    "    regr = RandomForestRegressor()\n",
    "\n",
    "    regr.fit(X_train, y_train)\n",
    "    y_pred_test = regr.predict(X_test)\n",
    "    \n",
    "    mse = np.sqrt(mean_squared_error(y_test, y_pred_test))\n",
    "    r2 = r2_score(y_test, y_pred_test)\n",
    "    \n",
    "    if best_mse > mse:\n",
    "        best_mse = mse\n",
    "    if best_r2 < r2:\n",
    "        best_r2 = r2\n",
    "        \n",
    "    print(\"mse: {} r2: {} Количество компонент: {}\".format(best_mse, best_r2, i))"
   ]
  },
  {
   "cell_type": "markdown",
   "metadata": {},
   "source": [
    "Как можно заметить, качество перестало расти после 6 компонент. Следовательно останавливаюсь на 7 компонентах и попытаюсь перебрать гиперпараметры на гриде. Random state использовал для того, чтобы рандом при разбиении датасета не вносил путаницу."
   ]
  },
  {
   "cell_type": "markdown",
   "metadata": {},
   "source": [
    "Сетка гиперпараметров для GridSearchCV"
   ]
  },
  {
   "cell_type": "code",
   "execution_count": 152,
   "metadata": {},
   "outputs": [],
   "source": [
    "params = {\n",
    "    'n_estimators': [50, 100, 150, 200],\n",
    "    'max_depth': [2,3,4,5],\n",
    "    'min_samples_split': [3,5,],\n",
    "    'max_features': ['auto', 'sqrt', 'log2']\n",
    "}"
   ]
  },
  {
   "cell_type": "code",
   "execution_count": 153,
   "metadata": {},
   "outputs": [
    {
     "name": "stdout",
     "output_type": "stream",
     "text": [
      "Fitting 3 folds for each of 96 candidates, totalling 288 fits\n"
     ]
    },
    {
     "name": "stderr",
     "output_type": "stream",
     "text": [
      "[Parallel(n_jobs=-1)]: Using backend LokyBackend with 8 concurrent workers.\n",
      "[Parallel(n_jobs=-1)]: Done  34 tasks      | elapsed:    1.7s\n",
      "[Parallel(n_jobs=-1)]: Done 184 tasks      | elapsed:    9.7s\n",
      "[Parallel(n_jobs=-1)]: Done 288 out of 288 | elapsed:   17.3s finished\n"
     ]
    },
    {
     "name": "stdout",
     "output_type": "stream",
     "text": [
      "{'max_depth': 5, 'max_features': 'log2', 'min_samples_split': 5, 'n_estimators': 200}\n"
     ]
    }
   ],
   "source": [
    "pca = PCA(n_components=6)\n",
    "X_new = pca.fit_transform(X)\n",
    "\n",
    "X_train, X_test, y_train, y_test = train_test_split(X_new, y, test_size=0.25, random_state=47)\n",
    "\n",
    "regr = RandomForestRegressor(n_jobs=-1)\n",
    "\n",
    "regr_grid_search = GridSearchCV(regr, params, cv=3, n_jobs=-1, verbose=True)\n",
    "\n",
    "regr_grid_search.fit(X_train, y_train)\n",
    "\n",
    "print(regr_grid_search.best_params_)"
   ]
  },
  {
   "cell_type": "markdown",
   "metadata": {},
   "source": [
    "Метрики качества"
   ]
  },
  {
   "cell_type": "code",
   "execution_count": 154,
   "metadata": {},
   "outputs": [
    {
     "name": "stdout",
     "output_type": "stream",
     "text": [
      "train mse: 13144.445959741472\n",
      "0.5734672458978016\n",
      "mse: 12062.4155656028\n",
      "r2:  0.5954582791825515\n"
     ]
    }
   ],
   "source": [
    "y_pred_train = regr_grid_search.predict(X_train)\n",
    "mse = np.sqrt(mean_squared_error(y_train, y_pred_train))\n",
    "print(f\"train mse: {mse}\")\n",
    "print(regr_grid_search.score(X_train, y_train))\n",
    "y_pred_test = regr_grid_search.predict(X_test)\n",
    "mse = np.sqrt(mean_squared_error(y_test, y_pred_test))\n",
    "print(f\"mse: {mse}\")\n",
    "print('r2: ', regr_grid_search.score(X_test, y_test))"
   ]
  },
  {
   "cell_type": "markdown",
   "metadata": {},
   "source": [
    "Немного удалось улучшить результат, относительно RandomForest без гиперпараметров и PCA. Так же избавился от сильного переобучения."
   ]
  },
  {
   "cell_type": "markdown",
   "metadata": {},
   "source": [
    "Стоит упомянуть о проблеме метода главных компонент- он \"обезличивает\" наши признаки, всвязи с чем, исследователь данных больше не может сказать, какая из фич конкретно наибольшим образом повлияла на результат предсказания модели. Для просмотра того, насколько сильно компоненты объясняют исходные данные можно использовать pca.explained_variance_ratio_, а для просмотра влияния новых фич, преобразованных pca- feature_importances_)"
   ]
  },
  {
   "cell_type": "code",
   "execution_count": 159,
   "metadata": {},
   "outputs": [
    {
     "data": {
      "text/plain": [
       "array([1.00000000e+00, 3.33619977e-11, 2.59458514e-11, 4.03636721e-12,\n",
       "       3.64323858e-12, 3.36948541e-12])"
      ]
     },
     "execution_count": 159,
     "metadata": {},
     "output_type": "execute_result"
    }
   ],
   "source": [
    "pca.explained_variance_ratio_"
   ]
  },
  {
   "cell_type": "code",
   "execution_count": 158,
   "metadata": {},
   "outputs": [
    {
     "data": {
      "text/plain": [
       "array([0.25544767, 0.15680105, 0.28952838, 0.0869093 , 0.14787565,\n",
       "       0.06343795])"
      ]
     },
     "execution_count": 158,
     "metadata": {},
     "output_type": "execute_result"
    }
   ],
   "source": [
    "regr = RandomForestRegressor(n_jobs=-1, max_depth= 5, max_features= 'log2', min_samples_split= 5, n_estimators= 200)\n",
    "regr.fit(X_train, y_train)\n",
    "regr.feature_importances_"
   ]
  },
  {
   "cell_type": "markdown",
   "metadata": {},
   "source": [
    "Данные для работы были получены парсингом автомобильного сайта https://av.by/\n",
    "\n",
    "Был проведен анализ скачанных данных:\n",
    "\n",
    "* Визуальный обзор и последующий анализ признаков\n",
    "\n",
    "* Обработка категориальных признаков (сделал из них дамми-переменные)\n",
    "\n",
    "* Просмотр распределений данных, как методом describe, хитмапа корреляций так и при помощи гистограмм и ящиков с усами.\n",
    "\n",
    "* Удаление нескольких строк данных для последующего создания дамми-переменных.\n",
    "\n",
    "Проанализировав графики, пришел к выводу о том, что все зависимости вполне закономерны.\n",
    "Обучение без учителя (метод главных компонент) использовал с помощью метода PCA библиотеки Sklearn и ее документации.\n",
    "\n",
    "Далее на Gridsearch перебрал гиперпараметры, устранил ранее замеченное переобучение и пришел к тому, что помимо явного выигрыша в скорости обучения, PCA в купе с гридом улучшил предсказательную силу модели."
   ]
  }
 ],
 "metadata": {
  "kernelspec": {
   "display_name": "Python 3",
   "language": "python",
   "name": "python3"
  },
  "language_info": {
   "codemirror_mode": {
    "name": "ipython",
    "version": 3
   },
   "file_extension": ".py",
   "mimetype": "text/x-python",
   "name": "python",
   "nbconvert_exporter": "python",
   "pygments_lexer": "ipython3",
   "version": "3.7.2"
  }
 },
 "nbformat": 4,
 "nbformat_minor": 2
}
