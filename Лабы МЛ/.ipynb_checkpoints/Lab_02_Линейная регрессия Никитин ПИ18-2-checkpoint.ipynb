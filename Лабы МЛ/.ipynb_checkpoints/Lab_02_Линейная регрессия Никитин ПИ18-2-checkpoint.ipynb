{
 "cells": [
  {
   "cell_type": "code",
   "execution_count": 2,
   "metadata": {},
   "outputs": [],
   "source": [
    "import numpy as np\n",
    "import pandas as pd\n",
    "import matplotlib.pyplot as plt"
   ]
  },
  {
   "cell_type": "code",
   "execution_count": 3,
   "metadata": {},
   "outputs": [],
   "source": [
    "sber = pd.read_csv('yand.txt')\n",
    "mvid = pd.read_csv('mgn.txt')"
   ]
  },
  {
   "cell_type": "code",
   "execution_count": 4,
   "metadata": {},
   "outputs": [
    {
     "data": {
      "text/plain": [
       "(838, 6)"
      ]
     },
     "execution_count": 4,
     "metadata": {},
     "output_type": "execute_result"
    }
   ],
   "source": [
    "sber.head()\n",
    "sber.shape"
   ]
  },
  {
   "cell_type": "code",
   "execution_count": 5,
   "metadata": {},
   "outputs": [
    {
     "data": {
      "text/html": [
       "<div>\n",
       "<style scoped>\n",
       "    .dataframe tbody tr th:only-of-type {\n",
       "        vertical-align: middle;\n",
       "    }\n",
       "\n",
       "    .dataframe tbody tr th {\n",
       "        vertical-align: top;\n",
       "    }\n",
       "\n",
       "    .dataframe thead th {\n",
       "        text-align: right;\n",
       "    }\n",
       "</style>\n",
       "<table border=\"1\" class=\"dataframe\">\n",
       "  <thead>\n",
       "    <tr style=\"text-align: right;\">\n",
       "      <th></th>\n",
       "      <th>&lt;TICKER&gt;</th>\n",
       "      <th>&lt;PER&gt;</th>\n",
       "      <th>&lt;DATE&gt;</th>\n",
       "      <th>&lt;TIME&gt;</th>\n",
       "      <th>&lt;CLOSE&gt;</th>\n",
       "      <th>&lt;VOL&gt;</th>\n",
       "    </tr>\n",
       "  </thead>\n",
       "  <tbody>\n",
       "    <tr>\n",
       "      <th>0</th>\n",
       "      <td>MGNT</td>\n",
       "      <td>D</td>\n",
       "      <td>20101001</td>\n",
       "      <td>0</td>\n",
       "      <td>3800.00</td>\n",
       "      <td>12669</td>\n",
       "    </tr>\n",
       "    <tr>\n",
       "      <th>1</th>\n",
       "      <td>MGNT</td>\n",
       "      <td>D</td>\n",
       "      <td>20101004</td>\n",
       "      <td>0</td>\n",
       "      <td>3746.97</td>\n",
       "      <td>3899</td>\n",
       "    </tr>\n",
       "    <tr>\n",
       "      <th>2</th>\n",
       "      <td>MGNT</td>\n",
       "      <td>D</td>\n",
       "      <td>20101005</td>\n",
       "      <td>0</td>\n",
       "      <td>3669.99</td>\n",
       "      <td>22660</td>\n",
       "    </tr>\n",
       "    <tr>\n",
       "      <th>3</th>\n",
       "      <td>MGNT</td>\n",
       "      <td>D</td>\n",
       "      <td>20101006</td>\n",
       "      <td>0</td>\n",
       "      <td>3664.87</td>\n",
       "      <td>1302</td>\n",
       "    </tr>\n",
       "    <tr>\n",
       "      <th>4</th>\n",
       "      <td>MGNT</td>\n",
       "      <td>D</td>\n",
       "      <td>20101007</td>\n",
       "      <td>0</td>\n",
       "      <td>3611.27</td>\n",
       "      <td>7101</td>\n",
       "    </tr>\n",
       "  </tbody>\n",
       "</table>\n",
       "</div>"
      ],
      "text/plain": [
       "  <TICKER> <PER>    <DATE>  <TIME>  <CLOSE>  <VOL>\n",
       "0     MGNT     D  20101001       0  3800.00  12669\n",
       "1     MGNT     D  20101004       0  3746.97   3899\n",
       "2     MGNT     D  20101005       0  3669.99  22660\n",
       "3     MGNT     D  20101006       0  3664.87   1302\n",
       "4     MGNT     D  20101007       0  3611.27   7101"
      ]
     },
     "execution_count": 5,
     "metadata": {},
     "output_type": "execute_result"
    }
   ],
   "source": [
    "mvid.head()"
   ]
  },
  {
   "cell_type": "code",
   "execution_count": 6,
   "metadata": {},
   "outputs": [
    {
     "data": {
      "text/plain": [
       "<TICKER>    0\n",
       "<PER>       0\n",
       "<DATE>      0\n",
       "<TIME>      0\n",
       "<CLOSE>     0\n",
       "<VOL>       0\n",
       "dtype: int64"
      ]
     },
     "execution_count": 6,
     "metadata": {},
     "output_type": "execute_result"
    }
   ],
   "source": [
    "sber.isna().sum()"
   ]
  },
  {
   "cell_type": "code",
   "execution_count": 7,
   "metadata": {},
   "outputs": [
    {
     "data": {
      "text/plain": [
       "<TICKER>    0\n",
       "<PER>       0\n",
       "<DATE>      0\n",
       "<TIME>      0\n",
       "<CLOSE>     0\n",
       "<VOL>       0\n",
       "dtype: int64"
      ]
     },
     "execution_count": 7,
     "metadata": {},
     "output_type": "execute_result"
    }
   ],
   "source": [
    "mvid.isna().sum()"
   ]
  },
  {
   "cell_type": "code",
   "execution_count": 8,
   "metadata": {},
   "outputs": [],
   "source": [
    "data = sber.merge(mvid, on='<DATE>')"
   ]
  },
  {
   "cell_type": "code",
   "execution_count": 9,
   "metadata": {},
   "outputs": [
    {
     "data": {
      "text/plain": [
       "(838, 11)"
      ]
     },
     "execution_count": 9,
     "metadata": {},
     "output_type": "execute_result"
    }
   ],
   "source": [
    "data.shape"
   ]
  },
  {
   "cell_type": "code",
   "execution_count": 10,
   "metadata": {},
   "outputs": [
    {
     "data": {
      "text/html": [
       "<div>\n",
       "<style scoped>\n",
       "    .dataframe tbody tr th:only-of-type {\n",
       "        vertical-align: middle;\n",
       "    }\n",
       "\n",
       "    .dataframe tbody tr th {\n",
       "        vertical-align: top;\n",
       "    }\n",
       "\n",
       "    .dataframe thead th {\n",
       "        text-align: right;\n",
       "    }\n",
       "</style>\n",
       "<table border=\"1\" class=\"dataframe\">\n",
       "  <thead>\n",
       "    <tr style=\"text-align: right;\">\n",
       "      <th></th>\n",
       "      <th>&lt;TICKER&gt;_x</th>\n",
       "      <th>&lt;PER&gt;_x</th>\n",
       "      <th>&lt;DATE&gt;</th>\n",
       "      <th>&lt;TIME&gt;_x</th>\n",
       "      <th>&lt;CLOSE&gt;_x</th>\n",
       "      <th>&lt;VOL&gt;_x</th>\n",
       "      <th>&lt;TICKER&gt;_y</th>\n",
       "      <th>&lt;PER&gt;_y</th>\n",
       "      <th>&lt;TIME&gt;_y</th>\n",
       "      <th>&lt;CLOSE&gt;_y</th>\n",
       "      <th>&lt;VOL&gt;_y</th>\n",
       "    </tr>\n",
       "  </thead>\n",
       "  <tbody>\n",
       "    <tr>\n",
       "      <th>0</th>\n",
       "      <td>YNDX</td>\n",
       "      <td>D</td>\n",
       "      <td>20140604</td>\n",
       "      <td>0</td>\n",
       "      <td>1170.0</td>\n",
       "      <td>35146</td>\n",
       "      <td>MGNT</td>\n",
       "      <td>D</td>\n",
       "      <td>0</td>\n",
       "      <td>8970.0</td>\n",
       "      <td>99632</td>\n",
       "    </tr>\n",
       "    <tr>\n",
       "      <th>1</th>\n",
       "      <td>YNDX</td>\n",
       "      <td>D</td>\n",
       "      <td>20140605</td>\n",
       "      <td>0</td>\n",
       "      <td>1145.1</td>\n",
       "      <td>24973</td>\n",
       "      <td>MGNT</td>\n",
       "      <td>D</td>\n",
       "      <td>0</td>\n",
       "      <td>8928.8</td>\n",
       "      <td>130492</td>\n",
       "    </tr>\n",
       "    <tr>\n",
       "      <th>2</th>\n",
       "      <td>YNDX</td>\n",
       "      <td>D</td>\n",
       "      <td>20140606</td>\n",
       "      <td>0</td>\n",
       "      <td>1163.0</td>\n",
       "      <td>7889</td>\n",
       "      <td>MGNT</td>\n",
       "      <td>D</td>\n",
       "      <td>0</td>\n",
       "      <td>8980.0</td>\n",
       "      <td>166548</td>\n",
       "    </tr>\n",
       "    <tr>\n",
       "      <th>3</th>\n",
       "      <td>YNDX</td>\n",
       "      <td>D</td>\n",
       "      <td>20140609</td>\n",
       "      <td>0</td>\n",
       "      <td>1172.1</td>\n",
       "      <td>7304</td>\n",
       "      <td>MGNT</td>\n",
       "      <td>D</td>\n",
       "      <td>0</td>\n",
       "      <td>8949.0</td>\n",
       "      <td>68447</td>\n",
       "    </tr>\n",
       "    <tr>\n",
       "      <th>4</th>\n",
       "      <td>YNDX</td>\n",
       "      <td>D</td>\n",
       "      <td>20140610</td>\n",
       "      <td>0</td>\n",
       "      <td>1170.0</td>\n",
       "      <td>3207</td>\n",
       "      <td>MGNT</td>\n",
       "      <td>D</td>\n",
       "      <td>0</td>\n",
       "      <td>9100.0</td>\n",
       "      <td>120241</td>\n",
       "    </tr>\n",
       "  </tbody>\n",
       "</table>\n",
       "</div>"
      ],
      "text/plain": [
       "  <TICKER>_x <PER>_x    <DATE>  <TIME>_x  <CLOSE>_x  <VOL>_x <TICKER>_y  \\\n",
       "0       YNDX       D  20140604         0     1170.0    35146       MGNT   \n",
       "1       YNDX       D  20140605         0     1145.1    24973       MGNT   \n",
       "2       YNDX       D  20140606         0     1163.0     7889       MGNT   \n",
       "3       YNDX       D  20140609         0     1172.1     7304       MGNT   \n",
       "4       YNDX       D  20140610         0     1170.0     3207       MGNT   \n",
       "\n",
       "  <PER>_y  <TIME>_y  <CLOSE>_y  <VOL>_y  \n",
       "0       D         0     8970.0    99632  \n",
       "1       D         0     8928.8   130492  \n",
       "2       D         0     8980.0   166548  \n",
       "3       D         0     8949.0    68447  \n",
       "4       D         0     9100.0   120241  "
      ]
     },
     "execution_count": 10,
     "metadata": {},
     "output_type": "execute_result"
    }
   ],
   "source": [
    "data.head()"
   ]
  },
  {
   "cell_type": "code",
   "execution_count": 11,
   "metadata": {},
   "outputs": [],
   "source": [
    "Y_sber = data[\"<CLOSE>_x\"]\n",
    "Y_mvid = data[\"<CLOSE>_y\"]"
   ]
  },
  {
   "cell_type": "code",
   "execution_count": 12,
   "metadata": {},
   "outputs": [],
   "source": [
    "X_sber = sber.drop('<CLOSE>', axis = 1)\n",
    "X_mvid = mvid.drop('<CLOSE>', axis = 1)"
   ]
  },
  {
   "cell_type": "code",
   "execution_count": 13,
   "metadata": {},
   "outputs": [
    {
     "data": {
      "text/html": [
       "<div>\n",
       "<style scoped>\n",
       "    .dataframe tbody tr th:only-of-type {\n",
       "        vertical-align: middle;\n",
       "    }\n",
       "\n",
       "    .dataframe tbody tr th {\n",
       "        vertical-align: top;\n",
       "    }\n",
       "\n",
       "    .dataframe thead th {\n",
       "        text-align: right;\n",
       "    }\n",
       "</style>\n",
       "<table border=\"1\" class=\"dataframe\">\n",
       "  <thead>\n",
       "    <tr style=\"text-align: right;\">\n",
       "      <th></th>\n",
       "      <th>&lt;TICKER&gt;</th>\n",
       "      <th>&lt;PER&gt;</th>\n",
       "      <th>&lt;DATE&gt;</th>\n",
       "      <th>&lt;TIME&gt;</th>\n",
       "      <th>&lt;VOL&gt;</th>\n",
       "    </tr>\n",
       "  </thead>\n",
       "  <tbody>\n",
       "    <tr>\n",
       "      <th>0</th>\n",
       "      <td>YNDX</td>\n",
       "      <td>D</td>\n",
       "      <td>20140604</td>\n",
       "      <td>0</td>\n",
       "      <td>35146</td>\n",
       "    </tr>\n",
       "    <tr>\n",
       "      <th>1</th>\n",
       "      <td>YNDX</td>\n",
       "      <td>D</td>\n",
       "      <td>20140605</td>\n",
       "      <td>0</td>\n",
       "      <td>24973</td>\n",
       "    </tr>\n",
       "    <tr>\n",
       "      <th>2</th>\n",
       "      <td>YNDX</td>\n",
       "      <td>D</td>\n",
       "      <td>20140606</td>\n",
       "      <td>0</td>\n",
       "      <td>7889</td>\n",
       "    </tr>\n",
       "    <tr>\n",
       "      <th>3</th>\n",
       "      <td>YNDX</td>\n",
       "      <td>D</td>\n",
       "      <td>20140609</td>\n",
       "      <td>0</td>\n",
       "      <td>7304</td>\n",
       "    </tr>\n",
       "    <tr>\n",
       "      <th>4</th>\n",
       "      <td>YNDX</td>\n",
       "      <td>D</td>\n",
       "      <td>20140610</td>\n",
       "      <td>0</td>\n",
       "      <td>3207</td>\n",
       "    </tr>\n",
       "  </tbody>\n",
       "</table>\n",
       "</div>"
      ],
      "text/plain": [
       "  <TICKER> <PER>    <DATE>  <TIME>  <VOL>\n",
       "0     YNDX     D  20140604       0  35146\n",
       "1     YNDX     D  20140605       0  24973\n",
       "2     YNDX     D  20140606       0   7889\n",
       "3     YNDX     D  20140609       0   7304\n",
       "4     YNDX     D  20140610       0   3207"
      ]
     },
     "execution_count": 13,
     "metadata": {},
     "output_type": "execute_result"
    }
   ],
   "source": [
    "X_sber.head()\n",
    "#X_mvid.head()"
   ]
  },
  {
   "cell_type": "code",
   "execution_count": 19,
   "metadata": {},
   "outputs": [],
   "source": [
    "class Parn_reg:\n",
    "    def __init__(self):\n",
    "        self.b0 = 0\n",
    "        self.b1 = 0\n",
    "    def predict(self, X):\n",
    "        return self.b0 + self.b1 * X\n",
    "    def error(self, X, Y):\n",
    "        return sum((self.predict(X) - Y) ** 2) / (2*len(X))\n",
    "    def BGD(self, X, Y):\n",
    "        steps, errors = [],[]\n",
    "        alpha = 0.0002\n",
    "        for i in range(10):\n",
    "            dJ0 = sum(self.predict(X) - Y) / len(X)\n",
    "            dJ1 = sum((self.predict(X) - Y) * X) / len(X)\n",
    "            self.b0 = self.b0 - alpha*dJ0\n",
    "            self.b1 = self.b1 - alpha*dJ1\n",
    "            steps.append(i)\n",
    "            errors.append(self.error(X,Y))\n",
    "        return steps,errors"
   ]
  },
  {
   "cell_type": "code",
   "execution_count": 20,
   "metadata": {},
   "outputs": [
    {
     "name": "stdout",
     "output_type": "stream",
     "text": [
      "[0, 1, 2, 3, 4, 5, 6, 7, 8, 9] [4548637445716.756, 4.1158411760453626e+17, 3.724228306567515e+22, 3.3698765055137185e+27, 3.049240467451312e+32, 2.759112214684932e+37, 2.4965890012559863e+42, 2.2590442708413404e+47, 2.044101377941553e+52, 1.849609809437857e+57]\n"
     ]
    }
   ],
   "source": [
    "model = Parn_reg()\n",
    "steps, errors = model.BGD(Y_sber, Y_mvid)\n",
    "model.predict(Y_sber)\n",
    "print(steps, errors)"
   ]
  },
  {
   "cell_type": "code",
   "execution_count": 21,
   "metadata": {},
   "outputs": [
    {
     "data": {
      "image/png": "[encoded data removed]",
      "text/plain": [
       "<Figure size 432x288 with 1 Axes>"
      ]
     },
     "metadata": {
      "needs_background": "light"
     },
     "output_type": "display_data"
    }
   ],
   "source": [
    "X0 = np.linspace(60,200,100)\n",
    "Y0 = model.predict(X0)\n",
    "\n",
    "plt.figure()\n",
    "plt.scatter(Y_sber, Y_mvid)\n",
    "plt.plot(X0, Y0, 'r')\n",
    "plt.show()"
   ]
  },
  {
   "cell_type": "code",
   "execution_count": 17,
   "metadata": {},
   "outputs": [
    {
     "data": {
      "text/plain": [
       "1.9252881463629973e+54"
      ]
     },
     "execution_count": 17,
     "metadata": {},
     "output_type": "execute_result"
    }
   ],
   "source": [
    "model.error(Y_sber, Y_mvid)"
   ]
  },
  {
   "cell_type": "code",
   "execution_count": 18,
   "metadata": {},
   "outputs": [
    {
     "data": {
      "image/png": "[encoded data removed]",
      "text/plain": [
       "<Figure size 432x288 with 1 Axes>"
      ]
     },
     "metadata": {
      "needs_background": "light"
     },
     "output_type": "display_data"
    }
   ],
   "source": [
    "plt.figure()\n",
    "plt.plot(steps, errors, 'r')\n",
    "plt.show()"
   ]
  },
  {
   "cell_type": "code",
   "execution_count": 22,
   "metadata": {},
   "outputs": [],
   "source": [
    "from sklearn.linear_model import LinearRegression"
   ]
  },
  {
   "cell_type": "code",
   "execution_count": 23,
   "metadata": {},
   "outputs": [],
   "source": [
    "clf = LinearRegression(normalize = True)\n",
    "Y_sber = pd.DataFrame(data[\"<CLOSE>_x\"])\n",
    "Y_mvid = pd.DataFrame(data[\"<CLOSE>_y\"])\n",
    "X0 = np.linspace(60,200,1758)\n",
    "X0 = pd.DataFrame(X0)"
   ]
  },
  {
   "cell_type": "code",
   "execution_count": 24,
   "metadata": {},
   "outputs": [
    {
     "data": {
      "text/plain": [
       "LinearRegression(copy_X=True, fit_intercept=True, n_jobs=None, normalize=True)"
      ]
     },
     "execution_count": 24,
     "metadata": {},
     "output_type": "execute_result"
    }
   ],
   "source": [
    "clf.fit(Y_sber, Y_mvid)"
   ]
  },
  {
   "cell_type": "code",
   "execution_count": 25,
   "metadata": {},
   "outputs": [],
   "source": [
    "new = clf.predict(X0)"
   ]
  },
  {
   "cell_type": "code",
   "execution_count": 26,
   "metadata": {},
   "outputs": [
    {
     "data": {
      "image/png": "[encoded data removed]",
      "text/plain": [
       "<Figure size 432x288 with 1 Axes>"
      ]
     },
     "metadata": {
      "needs_background": "light"
     },
     "output_type": "display_data"
    }
   ],
   "source": [
    "plt.figure()\n",
    "plt.scatter(Y_sber, Y_mvid)\n",
    "plt.plot(X0, new, 'r')\n",
    "plt.show()"
   ]
  },
  {
   "cell_type": "code",
   "execution_count": 27,
   "metadata": {},
   "outputs": [
    {
     "data": {
      "text/plain": [
       "0.31938228275451963"
      ]
     },
     "execution_count": 27,
     "metadata": {},
     "output_type": "execute_result"
    }
   ],
   "source": [
    "clf.score(Y_sber, Y_mvid, sample_weight=None)"
   ]
  },
  {
   "cell_type": "code",
   "execution_count": null,
   "metadata": {},
   "outputs": [],
   "source": []
  },
  {
   "cell_type": "code",
   "execution_count": null,
   "metadata": {},
   "outputs": [],
   "source": []
  },
  {
   "cell_type": "code",
   "execution_count": 28,
   "metadata": {},
   "outputs": [
    {
     "name": "stdout",
     "output_type": "stream",
     "text": [
      "0.31936326940788684\n"
     ]
    }
   ],
   "source": [
    "from sklearn.linear_model import SGDRegressor\n",
    "from sklearn.pipeline import make_pipeline\n",
    "from sklearn.preprocessing import StandardScaler\n",
    "\n",
    "Y_sber_1 = data[\"<CLOSE>_x\"].values.reshape(-1, 1)\n",
    "Y_mvid_1 = data[\"<CLOSE>_y\"].values\n",
    "reg = make_pipeline(StandardScaler(),\n",
    "                    SGDRegressor(max_iter=1000, tol=1e-3))\n",
    "reg.fit(Y_sber_1, Y_mvid_1)\n",
    "kek = reg.predict(X0.values.reshape(-1, 1))\n",
    "\n",
    "print(reg.score(Y_sber_1 , Y_mvid_1))\n",
    "#победил линейную регрессию) Ну а на самом деле- чекать качество выборки по не по тестовой, \n",
    "#а по трейновой выборке- так себе затея"
   ]
  },
  {
   "cell_type": "code",
   "execution_count": 29,
   "metadata": {},
   "outputs": [
    {
     "data": {
      "image/png": "[encoded data removed]",
      "text/plain": [
       "<Figure size 432x288 with 1 Axes>"
      ]
     },
     "metadata": {
      "needs_background": "light"
     },
     "output_type": "display_data"
    }
   ],
   "source": [
    "plt.figure()\n",
    "plt.scatter(Y_sber_1, Y_mvid_1)\n",
    "plt.plot(X0, kek, 'r')\n",
    "plt.show()"
   ]
  },
  {
   "cell_type": "code",
   "execution_count": null,
   "metadata": {},
   "outputs": [],
   "source": []
  },
  {
   "cell_type": "code",
   "execution_count": null,
   "metadata": {},
   "outputs": [],
   "source": []
  },
  {
   "cell_type": "code",
   "execution_count": null,
   "metadata": {},
   "outputs": [],
   "source": []
  }
 ],
 "metadata": {
  "kernelspec": {
   "display_name": "Python 3",
   "language": "python",
   "name": "python3"
  },
  "language_info": {
   "codemirror_mode": {
    "name": "ipython",
    "version": 3
   },
   "file_extension": ".py",
   "mimetype": "text/x-python",
   "name": "python",
   "nbconvert_exporter": "python",
   "pygments_lexer": "ipython3",
   "version": "3.7.2"
  }
 },
 "nbformat": 4,
 "nbformat_minor": 2
}
