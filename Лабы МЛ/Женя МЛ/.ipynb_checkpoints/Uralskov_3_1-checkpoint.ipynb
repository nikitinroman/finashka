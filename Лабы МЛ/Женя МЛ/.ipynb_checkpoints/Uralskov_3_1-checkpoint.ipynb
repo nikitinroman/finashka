{
 "cells": [
  {
   "cell_type": "markdown",
   "metadata": {},
   "source": [
    "Уральсков Евгений ПИ18-2\n",
    "\n",
    "Датасет: https://www.kaggle.com/austinreese/craigslist-carstrucks-data  \n",
    "Данные о ценах на автомобили на вторичном рынке"
   ]
  },
  {
   "cell_type": "markdown",
   "metadata": {},
   "source": [
    "Импорт библиотек"
   ]
  },
  {
   "cell_type": "code",
   "execution_count": 91,
   "metadata": {},
   "outputs": [],
   "source": [
    "import pandas as pd\n",
    "import numpy as np\n",
    "import matplotlib.pyplot as plt\n",
    "import seaborn as sns\n",
    "plt.style.use('seaborn')\n",
    "\n",
    "from sklearn.preprocessing import PolynomialFeatures\n",
    "from sklearn import linear_model\n",
    "from sklearn.model_selection import train_test_split\n",
    "from sklearn.metrics import mean_squared_error, r2_score\n",
    "from sklearn.ensemble import RandomForestRegressor\n",
    "from sklearn.ensemble import RandomForestClassifier\n",
    "from sklearn.model_selection import GridSearchCV\n",
    "from sklearn.preprocessing import StandardScaler\n",
    "from sklearn.decomposition import PCA\n",
    "\n",
    "import warnings\n",
    "warnings.filterwarnings(\"ignore\")"
   ]
  },
  {
   "cell_type": "markdown",
   "metadata": {},
   "source": [
    "Загрузка и просмотр структуры данных"
   ]
  },
  {
   "cell_type": "code",
   "execution_count": 249,
   "metadata": {},
   "outputs": [
    {
     "name": "stdout",
     "output_type": "stream",
     "text": [
      "Кол-во записей: 458213\n",
      "Кол-во колонок: 26\n"
     ]
    },
    {
     "data": {
      "text/html": [
       "<div>\n",
       "<style scoped>\n",
       "    .dataframe tbody tr th:only-of-type {\n",
       "        vertical-align: middle;\n",
       "    }\n",
       "\n",
       "    .dataframe tbody tr th {\n",
       "        vertical-align: top;\n",
       "    }\n",
       "\n",
       "    .dataframe thead th {\n",
       "        text-align: right;\n",
       "    }\n",
       "</style>\n",
       "<table border=\"1\" class=\"dataframe\">\n",
       "  <thead>\n",
       "    <tr style=\"text-align: right;\">\n",
       "      <th></th>\n",
       "      <th>Unnamed: 0</th>\n",
       "      <th>id</th>\n",
       "      <th>url</th>\n",
       "      <th>region</th>\n",
       "      <th>region_url</th>\n",
       "      <th>price</th>\n",
       "      <th>year</th>\n",
       "      <th>manufacturer</th>\n",
       "      <th>model</th>\n",
       "      <th>condition</th>\n",
       "      <th>...</th>\n",
       "      <th>drive</th>\n",
       "      <th>size</th>\n",
       "      <th>type</th>\n",
       "      <th>paint_color</th>\n",
       "      <th>image_url</th>\n",
       "      <th>description</th>\n",
       "      <th>state</th>\n",
       "      <th>lat</th>\n",
       "      <th>long</th>\n",
       "      <th>posting_date</th>\n",
       "    </tr>\n",
       "  </thead>\n",
       "  <tbody>\n",
       "    <tr>\n",
       "      <th>0</th>\n",
       "      <td>0</td>\n",
       "      <td>7240372487</td>\n",
       "      <td>https://auburn.craigslist.org/ctd/d/auburn-uni...</td>\n",
       "      <td>auburn</td>\n",
       "      <td>https://auburn.craigslist.org</td>\n",
       "      <td>35990</td>\n",
       "      <td>2010.0</td>\n",
       "      <td>chevrolet</td>\n",
       "      <td>corvette grand sport</td>\n",
       "      <td>good</td>\n",
       "      <td>...</td>\n",
       "      <td>rwd</td>\n",
       "      <td>NaN</td>\n",
       "      <td>other</td>\n",
       "      <td>NaN</td>\n",
       "      <td>https://images.craigslist.org/00N0N_ipkbHVZYf4...</td>\n",
       "      <td>Carvana is the safer way to buy a car During t...</td>\n",
       "      <td>al</td>\n",
       "      <td>32.590000</td>\n",
       "      <td>-85.480000</td>\n",
       "      <td>2020-12-02T08:11:30-0600</td>\n",
       "    </tr>\n",
       "    <tr>\n",
       "      <th>1</th>\n",
       "      <td>1</td>\n",
       "      <td>7240309422</td>\n",
       "      <td>https://auburn.craigslist.org/cto/d/auburn-201...</td>\n",
       "      <td>auburn</td>\n",
       "      <td>https://auburn.craigslist.org</td>\n",
       "      <td>7500</td>\n",
       "      <td>2014.0</td>\n",
       "      <td>hyundai</td>\n",
       "      <td>sonata</td>\n",
       "      <td>excellent</td>\n",
       "      <td>...</td>\n",
       "      <td>fwd</td>\n",
       "      <td>NaN</td>\n",
       "      <td>sedan</td>\n",
       "      <td>NaN</td>\n",
       "      <td>https://images.craigslist.org/00s0s_gBHYmJ5o7y...</td>\n",
       "      <td>I'll move to another city and try to sell my c...</td>\n",
       "      <td>al</td>\n",
       "      <td>32.547500</td>\n",
       "      <td>-85.468200</td>\n",
       "      <td>2020-12-02T02:11:50-0600</td>\n",
       "    </tr>\n",
       "    <tr>\n",
       "      <th>2</th>\n",
       "      <td>2</td>\n",
       "      <td>7240224296</td>\n",
       "      <td>https://auburn.craigslist.org/cto/d/auburn-200...</td>\n",
       "      <td>auburn</td>\n",
       "      <td>https://auburn.craigslist.org</td>\n",
       "      <td>4900</td>\n",
       "      <td>2006.0</td>\n",
       "      <td>bmw</td>\n",
       "      <td>x3 3.0i</td>\n",
       "      <td>good</td>\n",
       "      <td>...</td>\n",
       "      <td>NaN</td>\n",
       "      <td>NaN</td>\n",
       "      <td>SUV</td>\n",
       "      <td>blue</td>\n",
       "      <td>https://images.craigslist.org/00B0B_5zgEGWPOrt...</td>\n",
       "      <td>Clean 2006 BMW X3 3.0I.  Beautiful and rare Bl...</td>\n",
       "      <td>al</td>\n",
       "      <td>32.616807</td>\n",
       "      <td>-85.464149</td>\n",
       "      <td>2020-12-01T19:50:41-0600</td>\n",
       "    </tr>\n",
       "    <tr>\n",
       "      <th>3</th>\n",
       "      <td>3</td>\n",
       "      <td>7240103965</td>\n",
       "      <td>https://auburn.craigslist.org/cto/d/lanett-tru...</td>\n",
       "      <td>auburn</td>\n",
       "      <td>https://auburn.craigslist.org</td>\n",
       "      <td>2000</td>\n",
       "      <td>1974.0</td>\n",
       "      <td>chevrolet</td>\n",
       "      <td>c-10</td>\n",
       "      <td>good</td>\n",
       "      <td>...</td>\n",
       "      <td>rwd</td>\n",
       "      <td>full-size</td>\n",
       "      <td>pickup</td>\n",
       "      <td>blue</td>\n",
       "      <td>https://images.craigslist.org/00M0M_6o7KcDpArw...</td>\n",
       "      <td>1974 chev. truck (LONG BED) NEW starter front ...</td>\n",
       "      <td>al</td>\n",
       "      <td>32.861600</td>\n",
       "      <td>-85.216100</td>\n",
       "      <td>2020-12-01T15:54:45-0600</td>\n",
       "    </tr>\n",
       "    <tr>\n",
       "      <th>4</th>\n",
       "      <td>4</td>\n",
       "      <td>7239983776</td>\n",
       "      <td>https://auburn.craigslist.org/cto/d/auburn-200...</td>\n",
       "      <td>auburn</td>\n",
       "      <td>https://auburn.craigslist.org</td>\n",
       "      <td>19500</td>\n",
       "      <td>2005.0</td>\n",
       "      <td>ford</td>\n",
       "      <td>f350 lariat</td>\n",
       "      <td>excellent</td>\n",
       "      <td>...</td>\n",
       "      <td>4wd</td>\n",
       "      <td>full-size</td>\n",
       "      <td>pickup</td>\n",
       "      <td>blue</td>\n",
       "      <td>https://images.craigslist.org/00p0p_b95l1EgUfl...</td>\n",
       "      <td>2005 Ford F350 Lariat (Bullet Proofed). This t...</td>\n",
       "      <td>al</td>\n",
       "      <td>32.547500</td>\n",
       "      <td>-85.468200</td>\n",
       "      <td>2020-12-01T12:53:56-0600</td>\n",
       "    </tr>\n",
       "  </tbody>\n",
       "</table>\n",
       "<p>5 rows × 26 columns</p>\n",
       "</div>"
      ],
      "text/plain": [
       "   Unnamed: 0          id                                                url  \\\n",
       "0           0  7240372487  https://auburn.craigslist.org/ctd/d/auburn-uni...   \n",
       "1           1  7240309422  https://auburn.craigslist.org/cto/d/auburn-201...   \n",
       "2           2  7240224296  https://auburn.craigslist.org/cto/d/auburn-200...   \n",
       "3           3  7240103965  https://auburn.craigslist.org/cto/d/lanett-tru...   \n",
       "4           4  7239983776  https://auburn.craigslist.org/cto/d/auburn-200...   \n",
       "\n",
       "   region                     region_url  price    year manufacturer  \\\n",
       "0  auburn  https://auburn.craigslist.org  35990  2010.0    chevrolet   \n",
       "1  auburn  https://auburn.craigslist.org   7500  2014.0      hyundai   \n",
       "2  auburn  https://auburn.craigslist.org   4900  2006.0          bmw   \n",
       "3  auburn  https://auburn.craigslist.org   2000  1974.0    chevrolet   \n",
       "4  auburn  https://auburn.craigslist.org  19500  2005.0         ford   \n",
       "\n",
       "                  model  condition  ... drive       size    type paint_color  \\\n",
       "0  corvette grand sport       good  ...   rwd        NaN   other         NaN   \n",
       "1                sonata  excellent  ...   fwd        NaN   sedan         NaN   \n",
       "2               x3 3.0i       good  ...   NaN        NaN     SUV        blue   \n",
       "3                  c-10       good  ...   rwd  full-size  pickup        blue   \n",
       "4           f350 lariat  excellent  ...   4wd  full-size  pickup        blue   \n",
       "\n",
       "                                           image_url  \\\n",
       "0  https://images.craigslist.org/00N0N_ipkbHVZYf4...   \n",
       "1  https://images.craigslist.org/00s0s_gBHYmJ5o7y...   \n",
       "2  https://images.craigslist.org/00B0B_5zgEGWPOrt...   \n",
       "3  https://images.craigslist.org/00M0M_6o7KcDpArw...   \n",
       "4  https://images.craigslist.org/00p0p_b95l1EgUfl...   \n",
       "\n",
       "                                         description state        lat  \\\n",
       "0  Carvana is the safer way to buy a car During t...    al  32.590000   \n",
       "1  I'll move to another city and try to sell my c...    al  32.547500   \n",
       "2  Clean 2006 BMW X3 3.0I.  Beautiful and rare Bl...    al  32.616807   \n",
       "3  1974 chev. truck (LONG BED) NEW starter front ...    al  32.861600   \n",
       "4  2005 Ford F350 Lariat (Bullet Proofed). This t...    al  32.547500   \n",
       "\n",
       "        long              posting_date  \n",
       "0 -85.480000  2020-12-02T08:11:30-0600  \n",
       "1 -85.468200  2020-12-02T02:11:50-0600  \n",
       "2 -85.464149  2020-12-01T19:50:41-0600  \n",
       "3 -85.216100  2020-12-01T15:54:45-0600  \n",
       "4 -85.468200  2020-12-01T12:53:56-0600  \n",
       "\n",
       "[5 rows x 26 columns]"
      ]
     },
     "execution_count": 249,
     "metadata": {},
     "output_type": "execute_result"
    }
   ],
   "source": [
    "df = pd.read_csv('vehicles.csv')\n",
    "print(f'Кол-во записей: {len(df)}')\n",
    "print(f'Кол-во колонок: {len(df.columns)}')\n",
    "df.head()"
   ]
  },
  {
   "cell_type": "markdown",
   "metadata": {},
   "source": [
    "Наименования колонок"
   ]
  },
  {
   "cell_type": "code",
   "execution_count": 93,
   "metadata": {},
   "outputs": [
    {
     "data": {
      "text/plain": [
       "Index(['Unnamed: 0', 'id', 'url', 'region', 'region_url', 'price', 'year',\n",
       "       'manufacturer', 'model', 'condition', 'cylinders', 'fuel', 'odometer',\n",
       "       'title_status', 'transmission', 'VIN', 'drive', 'size', 'type',\n",
       "       'paint_color', 'image_url', 'description', 'state', 'lat', 'long',\n",
       "       'posting_date'],\n",
       "      dtype='object')"
      ]
     },
     "execution_count": 93,
     "metadata": {},
     "output_type": "execute_result"
    }
   ],
   "source": [
    "df.columns"
   ]
  },
  {
   "cell_type": "markdown",
   "metadata": {},
   "source": [
    "**id** - id объявления  \n",
    "**url** - адрес объявления  \n",
    "**region** - название региона продажи  \n",
    "**region_url** - адрес страницы с объявлениями о продаже для данного региона  \n",
    "**price** - цена  \n",
    "**year** - год выпуска автомобиля  \n",
    "**manufacturer** - марка автомобиля  \n",
    "**model** - модель автомобиля  \n",
    "**condition** - состояние автомобиля  \n",
    "**cylinders** - количество цилиндров  \n",
    "**fuel** - тип топлива  \n",
    "**odometer** - пробег  \n",
    "**title_status** - \"статус\" автомобиля (чистая, грязная, на запчасти и т.д.)  \n",
    "**transmission** - тип трансмиссии (механика, автомат)  \n",
    "**vin** - vin-номер, уникальный номер автомобиля  \n",
    "**drive** - привод  \n",
    "**size** - размер автомобиля  \n",
    "**type** - тип кузова  \n",
    "**paint_color** - цвет автомобиля  \n",
    "**image_url** - ссылка на изображение  \n",
    "**description** - описание  \n",
    "**county** - страна продажи (всегда США)  \n",
    "**state** - штат  \n",
    "**lat, long** - координаты объявления  \n",
    "\n",
    "Удаляем то что точно не понадобится"
   ]
  },
  {
   "cell_type": "code",
   "execution_count": 94,
   "metadata": {},
   "outputs": [
    {
     "data": {
      "text/html": [
       "<div>\n",
       "<style scoped>\n",
       "    .dataframe tbody tr th:only-of-type {\n",
       "        vertical-align: middle;\n",
       "    }\n",
       "\n",
       "    .dataframe tbody tr th {\n",
       "        vertical-align: top;\n",
       "    }\n",
       "\n",
       "    .dataframe thead th {\n",
       "        text-align: right;\n",
       "    }\n",
       "</style>\n",
       "<table border=\"1\" class=\"dataframe\">\n",
       "  <thead>\n",
       "    <tr style=\"text-align: right;\">\n",
       "      <th></th>\n",
       "      <th>id</th>\n",
       "      <th>region</th>\n",
       "      <th>price</th>\n",
       "      <th>year</th>\n",
       "      <th>manufacturer</th>\n",
       "      <th>model</th>\n",
       "      <th>condition</th>\n",
       "      <th>cylinders</th>\n",
       "      <th>fuel</th>\n",
       "      <th>odometer</th>\n",
       "      <th>title_status</th>\n",
       "      <th>transmission</th>\n",
       "      <th>drive</th>\n",
       "      <th>size</th>\n",
       "      <th>type</th>\n",
       "      <th>paint_color</th>\n",
       "      <th>description</th>\n",
       "      <th>state</th>\n",
       "    </tr>\n",
       "  </thead>\n",
       "  <tbody>\n",
       "    <tr>\n",
       "      <th>0</th>\n",
       "      <td>7240372487</td>\n",
       "      <td>auburn</td>\n",
       "      <td>35990</td>\n",
       "      <td>2010.0</td>\n",
       "      <td>chevrolet</td>\n",
       "      <td>corvette grand sport</td>\n",
       "      <td>good</td>\n",
       "      <td>8 cylinders</td>\n",
       "      <td>gas</td>\n",
       "      <td>32742.0</td>\n",
       "      <td>clean</td>\n",
       "      <td>other</td>\n",
       "      <td>rwd</td>\n",
       "      <td>NaN</td>\n",
       "      <td>other</td>\n",
       "      <td>NaN</td>\n",
       "      <td>Carvana is the safer way to buy a car During t...</td>\n",
       "      <td>al</td>\n",
       "    </tr>\n",
       "    <tr>\n",
       "      <th>1</th>\n",
       "      <td>7240309422</td>\n",
       "      <td>auburn</td>\n",
       "      <td>7500</td>\n",
       "      <td>2014.0</td>\n",
       "      <td>hyundai</td>\n",
       "      <td>sonata</td>\n",
       "      <td>excellent</td>\n",
       "      <td>4 cylinders</td>\n",
       "      <td>gas</td>\n",
       "      <td>93600.0</td>\n",
       "      <td>clean</td>\n",
       "      <td>automatic</td>\n",
       "      <td>fwd</td>\n",
       "      <td>NaN</td>\n",
       "      <td>sedan</td>\n",
       "      <td>NaN</td>\n",
       "      <td>I'll move to another city and try to sell my c...</td>\n",
       "      <td>al</td>\n",
       "    </tr>\n",
       "    <tr>\n",
       "      <th>2</th>\n",
       "      <td>7240224296</td>\n",
       "      <td>auburn</td>\n",
       "      <td>4900</td>\n",
       "      <td>2006.0</td>\n",
       "      <td>bmw</td>\n",
       "      <td>x3 3.0i</td>\n",
       "      <td>good</td>\n",
       "      <td>6 cylinders</td>\n",
       "      <td>gas</td>\n",
       "      <td>87046.0</td>\n",
       "      <td>clean</td>\n",
       "      <td>automatic</td>\n",
       "      <td>NaN</td>\n",
       "      <td>NaN</td>\n",
       "      <td>SUV</td>\n",
       "      <td>blue</td>\n",
       "      <td>Clean 2006 BMW X3 3.0I.  Beautiful and rare Bl...</td>\n",
       "      <td>al</td>\n",
       "    </tr>\n",
       "    <tr>\n",
       "      <th>3</th>\n",
       "      <td>7240103965</td>\n",
       "      <td>auburn</td>\n",
       "      <td>2000</td>\n",
       "      <td>1974.0</td>\n",
       "      <td>chevrolet</td>\n",
       "      <td>c-10</td>\n",
       "      <td>good</td>\n",
       "      <td>4 cylinders</td>\n",
       "      <td>gas</td>\n",
       "      <td>190000.0</td>\n",
       "      <td>clean</td>\n",
       "      <td>automatic</td>\n",
       "      <td>rwd</td>\n",
       "      <td>full-size</td>\n",
       "      <td>pickup</td>\n",
       "      <td>blue</td>\n",
       "      <td>1974 chev. truck (LONG BED) NEW starter front ...</td>\n",
       "      <td>al</td>\n",
       "    </tr>\n",
       "    <tr>\n",
       "      <th>4</th>\n",
       "      <td>7239983776</td>\n",
       "      <td>auburn</td>\n",
       "      <td>19500</td>\n",
       "      <td>2005.0</td>\n",
       "      <td>ford</td>\n",
       "      <td>f350 lariat</td>\n",
       "      <td>excellent</td>\n",
       "      <td>8 cylinders</td>\n",
       "      <td>diesel</td>\n",
       "      <td>116000.0</td>\n",
       "      <td>lien</td>\n",
       "      <td>automatic</td>\n",
       "      <td>4wd</td>\n",
       "      <td>full-size</td>\n",
       "      <td>pickup</td>\n",
       "      <td>blue</td>\n",
       "      <td>2005 Ford F350 Lariat (Bullet Proofed). This t...</td>\n",
       "      <td>al</td>\n",
       "    </tr>\n",
       "  </tbody>\n",
       "</table>\n",
       "</div>"
      ],
      "text/plain": [
       "           id  region  price    year manufacturer                 model  \\\n",
       "0  7240372487  auburn  35990  2010.0    chevrolet  corvette grand sport   \n",
       "1  7240309422  auburn   7500  2014.0      hyundai                sonata   \n",
       "2  7240224296  auburn   4900  2006.0          bmw               x3 3.0i   \n",
       "3  7240103965  auburn   2000  1974.0    chevrolet                  c-10   \n",
       "4  7239983776  auburn  19500  2005.0         ford           f350 lariat   \n",
       "\n",
       "   condition    cylinders    fuel  odometer title_status transmission drive  \\\n",
       "0       good  8 cylinders     gas   32742.0        clean        other   rwd   \n",
       "1  excellent  4 cylinders     gas   93600.0        clean    automatic   fwd   \n",
       "2       good  6 cylinders     gas   87046.0        clean    automatic   NaN   \n",
       "3       good  4 cylinders     gas  190000.0        clean    automatic   rwd   \n",
       "4  excellent  8 cylinders  diesel  116000.0         lien    automatic   4wd   \n",
       "\n",
       "        size    type paint_color  \\\n",
       "0        NaN   other         NaN   \n",
       "1        NaN   sedan         NaN   \n",
       "2        NaN     SUV        blue   \n",
       "3  full-size  pickup        blue   \n",
       "4  full-size  pickup        blue   \n",
       "\n",
       "                                         description state  \n",
       "0  Carvana is the safer way to buy a car During t...    al  \n",
       "1  I'll move to another city and try to sell my c...    al  \n",
       "2  Clean 2006 BMW X3 3.0I.  Beautiful and rare Bl...    al  \n",
       "3  1974 chev. truck (LONG BED) NEW starter front ...    al  \n",
       "4  2005 Ford F350 Lariat (Bullet Proofed). This t...    al  "
      ]
     },
     "execution_count": 94,
     "metadata": {},
     "output_type": "execute_result"
    }
   ],
   "source": [
    "df = df[['id', 'region', 'price', 'year', 'manufacturer', 'model', 'condition', 'cylinders', 'fuel', 'odometer', 'title_status',\n",
    "        'transmission', 'drive', 'size', 'type', 'paint_color', 'description', 'state']]\n",
    "df.head()"
   ]
  },
  {
   "cell_type": "markdown",
   "metadata": {},
   "source": [
    "Смотрим количество пропущенных значений по столбцам"
   ]
  },
  {
   "cell_type": "code",
   "execution_count": 95,
   "metadata": {},
   "outputs": [
    {
     "data": {
      "text/plain": [
       "id                   0\n",
       "region               0\n",
       "price                0\n",
       "year              1050\n",
       "manufacturer     18220\n",
       "model             4846\n",
       "condition       192940\n",
       "cylinders       171140\n",
       "fuel              3237\n",
       "odometer         55303\n",
       "title_status      2577\n",
       "transmission      2442\n",
       "drive           134188\n",
       "size            321348\n",
       "type            112738\n",
       "paint_color     140843\n",
       "description         70\n",
       "state                0\n",
       "dtype: int64"
      ]
     },
     "execution_count": 95,
     "metadata": {},
     "output_type": "execute_result"
    }
   ],
   "source": [
    "df.isna().sum()"
   ]
  },
  {
   "cell_type": "markdown",
   "metadata": {},
   "source": [
    "Марка автомобиля - один из важнейших параметров, однако, некоторые люди могли по ошибке указать марку в графе модели или описании, поэтому сперва удалим записи, где отсутствуют все 3 значения"
   ]
  },
  {
   "cell_type": "code",
   "execution_count": 96,
   "metadata": {},
   "outputs": [
    {
     "name": "stdout",
     "output_type": "stream",
     "text": [
      "Удалено записей: 28\n"
     ]
    }
   ],
   "source": [
    "df_len = len(df)\n",
    "df = df[df['manufacturer'].notna() | df['description'].notna() | df['model'].notna()]\n",
    "print(f'Удалено записей: {df_len-len(df)}')"
   ]
  },
  {
   "cell_type": "markdown",
   "metadata": {},
   "source": [
    "Также удалим записи, где не указаны пробег, год выпуска и привод. Также удалим записи с нулевой ценой."
   ]
  },
  {
   "cell_type": "code",
   "execution_count": 97,
   "metadata": {},
   "outputs": [
    {
     "name": "stdout",
     "output_type": "stream",
     "text": [
      "Удалено записей: 85404\n"
     ]
    }
   ],
   "source": [
    "df_len = len(df)\n",
    "df = df[df['price']!=0]\n",
    "df = df[df['year'].notna() & df['odometer'].notna() & df['transmission'].notna()]\n",
    "print(f'Удалено записей: {df_len-len(df)}')"
   ]
  },
  {
   "cell_type": "markdown",
   "metadata": {},
   "source": [
    "Смотрим количество пропущенных значений по столбцам"
   ]
  },
  {
   "cell_type": "code",
   "execution_count": 98,
   "metadata": {},
   "outputs": [
    {
     "data": {
      "text/plain": [
       "id                   0\n",
       "region               0\n",
       "price                0\n",
       "year                 0\n",
       "manufacturer     11511\n",
       "model             2668\n",
       "condition       139492\n",
       "cylinders       121451\n",
       "fuel              2231\n",
       "odometer             0\n",
       "title_status      1399\n",
       "transmission         0\n",
       "drive            92236\n",
       "size            256426\n",
       "type             71824\n",
       "paint_color      95108\n",
       "description         42\n",
       "state                0\n",
       "dtype: int64"
      ]
     },
     "execution_count": 98,
     "metadata": {},
     "output_type": "execute_result"
    }
   ],
   "source": [
    "df.isna().sum()"
   ]
  },
  {
   "cell_type": "markdown",
   "metadata": {},
   "source": [
    "Посмотрим, есть ли у нас названия марок в полях моделей."
   ]
  },
  {
   "cell_type": "code",
   "execution_count": 99,
   "metadata": {},
   "outputs": [
    {
     "name": "stdout",
     "output_type": "stream",
     "text": [
      "chevrolet\n",
      "False    370097\n",
      "True         16\n",
      "Name: model, dtype: int64\n",
      "\n",
      "hyundai\n",
      "False    370109\n",
      "True          4\n",
      "Name: model, dtype: int64\n",
      "\n",
      "bmw\n",
      "False    370072\n",
      "True         41\n",
      "Name: model, dtype: int64\n",
      "\n",
      "ford\n",
      "False    370042\n",
      "True         71\n",
      "Name: model, dtype: int64\n",
      "\n",
      "toyota\n",
      "False    370092\n",
      "True         21\n",
      "Name: model, dtype: int64\n",
      "\n",
      "jeep\n",
      "False    370080\n",
      "True         33\n",
      "Name: model, dtype: int64\n",
      "\n",
      "ram\n",
      "False    368718\n",
      "True       1395\n",
      "Name: model, dtype: int64\n",
      "\n",
      "honda\n",
      "False    370060\n",
      "True         53\n",
      "Name: model, dtype: int64\n",
      "\n",
      "dodge\n",
      "False    370106\n",
      "True          7\n",
      "Name: model, dtype: int64\n",
      "\n",
      "lexus\n",
      "False    370096\n",
      "True         17\n",
      "Name: model, dtype: int64\n",
      "\n",
      "mercedes-benz\n",
      "False    370103\n",
      "True         10\n",
      "Name: model, dtype: int64\n",
      "\n",
      "cadillac\n",
      "False    370107\n",
      "True          6\n",
      "Name: model, dtype: int64\n",
      "\n",
      "gmc\n",
      "False    370066\n",
      "True         47\n",
      "Name: model, dtype: int64\n",
      "\n",
      "subaru\n",
      "False    370109\n",
      "True          4\n",
      "Name: model, dtype: int64\n",
      "\n",
      "mazda\n",
      "False    368714\n",
      "True       1399\n",
      "Name: model, dtype: int64\n",
      "\n",
      "mini\n",
      "False    369928\n",
      "True        185\n",
      "Name: model, dtype: int64\n",
      "\n",
      "nissan\n",
      "False    370104\n",
      "True          9\n",
      "Name: model, dtype: int64\n",
      "\n",
      "volkswagen\n",
      "False    370109\n",
      "True          4\n",
      "Name: model, dtype: int64\n",
      "\n",
      "kia\n",
      "False    370108\n",
      "True          5\n",
      "Name: model, dtype: int64\n",
      "\n",
      "lincoln\n",
      "False    370110\n",
      "True          3\n",
      "Name: model, dtype: int64\n",
      "\n",
      "mitsubishi\n",
      "False    370112\n",
      "True          1\n",
      "Name: model, dtype: int64\n",
      "\n",
      "buick\n",
      "False    370112\n",
      "True          1\n",
      "Name: model, dtype: int64\n",
      "\n",
      "infiniti\n",
      "False    370111\n",
      "True          2\n",
      "Name: model, dtype: int64\n",
      "\n",
      "audi\n",
      "False    370109\n",
      "True          4\n",
      "Name: model, dtype: int64\n",
      "\n",
      "rover\n",
      "False    370112\n",
      "True          1\n",
      "Name: model, dtype: int64\n",
      "\n",
      "acura\n",
      "False    370110\n",
      "True          3\n",
      "Name: model, dtype: int64\n",
      "\n",
      "volvo\n",
      "False    370108\n",
      "True          5\n",
      "Name: model, dtype: int64\n",
      "\n",
      "chrysler\n",
      "False    370109\n",
      "True          4\n",
      "Name: model, dtype: int64\n",
      "\n",
      "pontiac\n",
      "False    370107\n",
      "True          6\n",
      "Name: model, dtype: int64\n",
      "\n",
      "tesla\n",
      "False    370112\n",
      "True          1\n",
      "Name: model, dtype: int64\n",
      "\n",
      "saturn\n",
      "False    370113\n",
      "Name: model, dtype: int64\n",
      "\n",
      "mercury\n",
      "False    370110\n",
      "True          3\n",
      "Name: model, dtype: int64\n",
      "\n",
      "fiat\n",
      "False    370111\n",
      "True          2\n",
      "Name: model, dtype: int64\n",
      "\n",
      "datsun\n",
      "False    370112\n",
      "True          1\n",
      "Name: model, dtype: int64\n",
      "\n",
      "porsche\n",
      "False    370113\n",
      "Name: model, dtype: int64\n",
      "\n",
      "jaguar\n",
      "False    370111\n",
      "True          2\n",
      "Name: model, dtype: int64\n",
      "\n",
      "ferrari\n",
      "False    370113\n",
      "Name: model, dtype: int64\n",
      "\n",
      "alfa-romeo\n",
      "False    370113\n",
      "Name: model, dtype: int64\n",
      "\n",
      "harley-davidson\n",
      "False    370113\n",
      "Name: model, dtype: int64\n",
      "\n",
      "land rover\n",
      "False    370112\n",
      "True          1\n",
      "Name: model, dtype: int64\n",
      "\n",
      "aston-martin\n",
      "False    370113\n",
      "Name: model, dtype: int64\n",
      "\n",
      "morgan\n",
      "False    370113\n",
      "Name: model, dtype: int64\n",
      "\n",
      "hennessey\n",
      "False    370113\n",
      "Name: model, dtype: int64\n",
      "\n"
     ]
    }
   ],
   "source": [
    "df['model'] = df['model'].str.lower()\n",
    "df['manufacturer'] = df['manufacturer'].str.lower()\n",
    "df['description'] = df['description'].str.lower()\n",
    "\n",
    "manufacturers = df['manufacturer'].unique()\n",
    "manufacturers = [i for i in manufacturers if i is not np.nan]\n",
    "for i in manufacturers:\n",
    "    print(i)\n",
    "    print(df['model'].str.contains(i).value_counts())\n",
    "    print()"
   ]
  },
  {
   "cell_type": "markdown",
   "metadata": {},
   "source": [
    "Да, такие ошибки присутствуют, но у марок \"ram\" и \"mini\" таких совпадений подозрительно много. Скорее всего данные буквосочетания реально могут встречаться в названии модели, поэтому не будем трогать данные марки, а в остальных случаях извлечем названия марки."
   ]
  },
  {
   "cell_type": "code",
   "execution_count": 100,
   "metadata": {},
   "outputs": [],
   "source": [
    "manufacturers = [i for i in manufacturers if (i != 'ram') and (i != 'mini')]\n",
    "\n",
    "for i in manufacturers:\n",
    "    contain_man = df['model'].str.contains(i)\n",
    "    contain_man[contain_man.isna()] = False\n",
    "    df.loc[contain_man, 'manufacturer'] = i\n",
    "    df.loc[contain_man, 'model'] = df[contain_man]['model'].str.replace(i, '', regex = False)"
   ]
  },
  {
   "cell_type": "markdown",
   "metadata": {},
   "source": [
    "Удалим пробелы, звездочки и прочую ерунду из моделей автомобилей. На мой взгляд, нам не столь важны точные названия, но зато это сильно их унифицирует. То что из-за этого у нас совпадут разные модели также маловероятно."
   ]
  },
  {
   "cell_type": "code",
   "execution_count": 104,
   "metadata": {},
   "outputs": [],
   "source": [
    "df['model'] = df['model'].str.replace('\\W', '')"
   ]
  },
  {
   "cell_type": "markdown",
   "metadata": {},
   "source": [
    "Теперь попробуем вычленить марки из описания, однако организуем проверку на то, чтобы описание содержало только одну марку автомобиля, потому что на данном сайте присутствуют автосалоны, которые указывают в описании всевозможные марки автомобилей."
   ]
  },
  {
   "cell_type": "code",
   "execution_count": 105,
   "metadata": {},
   "outputs": [
    {
     "name": "stdout",
     "output_type": "stream",
     "text": [
      "Количество записей, с одной маркой в описании:  0\n"
     ]
    }
   ],
   "source": [
    "man_in_description = df[df['manufacturer'].isna()][['id', 'description']].assign(manufacturers=0)\n",
    "for i in manufacturers:\n",
    "    contain_man = man_in_description['description'].str.contains(i)\n",
    "    contain_man[contain_man.isna()] = False\n",
    "    man_in_description.loc[contain_man, 'manufacturers'] += 1\n",
    "    \n",
    "man_in_description = man_in_description[man_in_description['manufacturers']==1]['id']\n",
    "print('Количество записей, с одной маркой в описании: ', len(man_in_description))\n",
    "\n",
    "for i in manufacturers:\n",
    "    contain_man = df['description'].str.contains(i)\n",
    "    contain_man[contain_man.isna()] = False\n",
    "    df.loc[contain_man & df['id'].isin(man_in_description.tolist()), 'manufacturer'] = i\n",
    "    df.loc[contain_man, 'description'] = df[contain_man]['description'].str.replace(i, '', regex = False)"
   ]
  },
  {
   "cell_type": "code",
   "execution_count": 106,
   "metadata": {},
   "outputs": [
    {
     "data": {
      "text/plain": [
       "9003"
      ]
     },
     "execution_count": 106,
     "metadata": {},
     "output_type": "execute_result"
    }
   ],
   "source": [
    "df['manufacturer'].isna().sum()"
   ]
  },
  {
   "cell_type": "markdown",
   "metadata": {},
   "source": [
    "Сделал все что мог, удаляю записи с незаполненной маркой, и так же 2 записи без типа топлива. Удаляю колонку \"description\", больше она не понадобится."
   ]
  },
  {
   "cell_type": "code",
   "execution_count": 107,
   "metadata": {},
   "outputs": [
    {
     "data": {
      "text/plain": [
       "id                   0\n",
       "region               0\n",
       "price                0\n",
       "year                 0\n",
       "manufacturer         0\n",
       "model             2652\n",
       "condition       134969\n",
       "cylinders       117261\n",
       "fuel                 0\n",
       "odometer             0\n",
       "title_status       900\n",
       "transmission         0\n",
       "drive            88654\n",
       "size            248889\n",
       "type             68661\n",
       "paint_color      92066\n",
       "state                0\n",
       "dtype: int64"
      ]
     },
     "execution_count": 107,
     "metadata": {},
     "output_type": "execute_result"
    }
   ],
   "source": [
    "df = df[df['manufacturer'].notna()]\n",
    "df = df[df['fuel'].notna()]\n",
    "df = df.drop(columns=['description'])\n",
    "df.isna().sum()"
   ]
  },
  {
   "cell_type": "markdown",
   "metadata": {},
   "source": [
    "Разберемся с цветом автомобиля."
   ]
  },
  {
   "cell_type": "code",
   "execution_count": 108,
   "metadata": {},
   "outputs": [
    {
     "data": {
      "text/plain": [
       "NaN       92066\n",
       "white     67674\n",
       "black     55098\n",
       "silver    40430\n",
       "red       28808\n",
       "blue      28268\n",
       "grey      26188\n",
       "custom     7841\n",
       "green      6307\n",
       "brown      5184\n",
       "orange     1618\n",
       "yellow     1441\n",
       "purple      644\n",
       "Name: paint_color, dtype: int64"
      ]
     },
     "execution_count": 108,
     "metadata": {},
     "output_type": "execute_result"
    }
   ],
   "source": [
    "df['paint_color'].value_counts(dropna=False)"
   ]
  },
  {
   "cell_type": "markdown",
   "metadata": {},
   "source": [
    "Заполним отсутствующие значения как \"unknown\""
   ]
  },
  {
   "cell_type": "code",
   "execution_count": 109,
   "metadata": {},
   "outputs": [],
   "source": [
    "df.loc[df['paint_color'].isna(), 'paint_color']='unknown'"
   ]
  },
  {
   "cell_type": "markdown",
   "metadata": {},
   "source": [
    "Сделаем то же самое для колонки \"condition\""
   ]
  },
  {
   "cell_type": "code",
   "execution_count": 110,
   "metadata": {},
   "outputs": [],
   "source": [
    "df.loc[df['condition'].isna(), 'condition']='unknown'"
   ]
  },
  {
   "cell_type": "code",
   "execution_count": 111,
   "metadata": {},
   "outputs": [
    {
     "data": {
      "text/plain": [
       "id                   0\n",
       "region               0\n",
       "price                0\n",
       "year                 0\n",
       "manufacturer         0\n",
       "model             2652\n",
       "condition            0\n",
       "cylinders       117261\n",
       "fuel                 0\n",
       "odometer             0\n",
       "title_status       900\n",
       "transmission         0\n",
       "drive            88654\n",
       "size            248889\n",
       "type             68661\n",
       "paint_color          0\n",
       "state                0\n",
       "dtype: int64"
      ]
     },
     "execution_count": 111,
     "metadata": {},
     "output_type": "execute_result"
    }
   ],
   "source": [
    "df.isna().sum()"
   ]
  },
  {
   "cell_type": "code",
   "execution_count": 112,
   "metadata": {},
   "outputs": [
    {
     "data": {
      "text/plain": [
       "array(['other', 'sedan', 'SUV', 'pickup', 'coupe', 'van', nan, 'mini-van',\n",
       "       'wagon', 'convertible', 'hatchback', 'truck', 'offroad', 'bus'],\n",
       "      dtype=object)"
      ]
     },
     "execution_count": 112,
     "metadata": {},
     "output_type": "execute_result"
    }
   ],
   "source": [
    "df['type'].unique()"
   ]
  },
  {
   "cell_type": "code",
   "execution_count": 113,
   "metadata": {},
   "outputs": [
    {
     "data": {
      "text/plain": [
       "array(['rwd', 'fwd', nan, '4wd'], dtype=object)"
      ]
     },
     "execution_count": 113,
     "metadata": {},
     "output_type": "execute_result"
    }
   ],
   "source": [
    "df['drive'].unique()"
   ]
  },
  {
   "cell_type": "code",
   "execution_count": 114,
   "metadata": {},
   "outputs": [
    {
     "data": {
      "text/plain": [
       "array([nan, 'full-size', 'mid-size', 'compact', 'sub-compact'],\n",
       "      dtype=object)"
      ]
     },
     "execution_count": 114,
     "metadata": {},
     "output_type": "execute_result"
    }
   ],
   "source": [
    "df['size'].unique()"
   ]
  },
  {
   "cell_type": "markdown",
   "metadata": {},
   "source": [
    "По-идее, тип привода и кузова не должны отличаться для одной модели автомобиля, поэтому заполним отсутствующие значения данными из других записей, содержащимися наибольшее количество раз для одной модели. Возьмем модели, которые встречаются хотя бы 30 раз."
   ]
  },
  {
   "cell_type": "markdown",
   "metadata": {},
   "source": [
    "Автомобили,конечно, могут быть с полным/задним/передним приводом в зависимости от комплектации."
   ]
  },
  {
   "cell_type": "code",
   "execution_count": 115,
   "metadata": {},
   "outputs": [
    {
     "data": {
      "text/html": [
       "<div>\n",
       "<style scoped>\n",
       "    .dataframe tbody tr th:only-of-type {\n",
       "        vertical-align: middle;\n",
       "    }\n",
       "\n",
       "    .dataframe tbody tr th {\n",
       "        vertical-align: top;\n",
       "    }\n",
       "\n",
       "    .dataframe thead th {\n",
       "        text-align: right;\n",
       "    }\n",
       "</style>\n",
       "<table border=\"1\" class=\"dataframe\">\n",
       "  <thead>\n",
       "    <tr style=\"text-align: right;\">\n",
       "      <th></th>\n",
       "      <th>model</th>\n",
       "      <th>count</th>\n",
       "    </tr>\n",
       "  </thead>\n",
       "  <tbody>\n",
       "    <tr>\n",
       "      <th>1521</th>\n",
       "      <td>titansv nissan</td>\n",
       "      <td>30</td>\n",
       "    </tr>\n",
       "    <tr>\n",
       "      <th>1522</th>\n",
       "      <td>outlookxr saturn</td>\n",
       "      <td>30</td>\n",
       "    </tr>\n",
       "    <tr>\n",
       "      <th>1523</th>\n",
       "      <td>gclassg63amg mercedes-benz</td>\n",
       "      <td>30</td>\n",
       "    </tr>\n",
       "    <tr>\n",
       "      <th>1524</th>\n",
       "      <td>matrixs toyota</td>\n",
       "      <td>30</td>\n",
       "    </tr>\n",
       "    <tr>\n",
       "      <th>1525</th>\n",
       "      <td>durangort dodge</td>\n",
       "      <td>30</td>\n",
       "    </tr>\n",
       "  </tbody>\n",
       "</table>\n",
       "</div>"
      ],
      "text/plain": [
       "                           model  count\n",
       "1521              titansv nissan     30\n",
       "1522            outlookxr saturn     30\n",
       "1523  gclassg63amg mercedes-benz     30\n",
       "1524              matrixs toyota     30\n",
       "1525             durangort dodge     30"
      ]
     },
     "execution_count": 115,
     "metadata": {},
     "output_type": "execute_result"
    }
   ],
   "source": [
    "popular_models = df.assign(mod=df['model']+' '+df['manufacturer'])['mod'].value_counts().reset_index()\n",
    "popular_models.columns = ['model', 'count']\n",
    "popular_models = popular_models[popular_models['count']>=30]\n",
    "popular_models.tail()"
   ]
  },
  {
   "cell_type": "code",
   "execution_count": 116,
   "metadata": {},
   "outputs": [],
   "source": [
    "for i in popular_models['model'].tolist():\n",
    "    model = i.split()\n",
    "    drive = df[(df['model']==model[0]) & (df['manufacturer']==model[1])]['drive'].value_counts(normalize = True).reset_index()\n",
    "    drive = drive['index']\n",
    "    if len(drive)>0:\n",
    "        df.loc[(df['model']==model[0]) & (df['manufacturer']==model[1]) & (df['drive'].isna()), 'drive'] = drive[0]"
   ]
  },
  {
   "cell_type": "code",
   "execution_count": 117,
   "metadata": {},
   "outputs": [],
   "source": [
    "for i in popular_models['model'].tolist():\n",
    "    model = i.split()\n",
    "    car_type = df[(df['model']==model[0]) & (df['manufacturer']==model[1])]['type'].value_counts(normalize = True).reset_index()\n",
    "    car_type = car_type['index']\n",
    "    if len(car_type)>0:\n",
    "        df.loc[(df['model']==model[0]) & (df['manufacturer']==model[1]) & (df['type'].isna()), 'type'] = car_type[0]"
   ]
  },
  {
   "cell_type": "code",
   "execution_count": 118,
   "metadata": {},
   "outputs": [],
   "source": [
    "for i in popular_models['model'].tolist():\n",
    "    model = i.split()\n",
    "    size = df[(df['model']==model[0]) & (df['manufacturer']==model[1])]['size'].value_counts(normalize = True).reset_index()\n",
    "    size = size['index']\n",
    "    if len(size)>0:\n",
    "        df.loc[(df['model']==model[0]) & (df['manufacturer']==model[1]) & (df['size'].isna()), 'size'] = size[0]"
   ]
  },
  {
   "cell_type": "code",
   "execution_count": 119,
   "metadata": {},
   "outputs": [
    {
     "data": {
      "text/plain": [
       "id                   0\n",
       "region               0\n",
       "price                0\n",
       "year                 0\n",
       "manufacturer         0\n",
       "model             2652\n",
       "condition            0\n",
       "cylinders       117261\n",
       "fuel                 0\n",
       "odometer             0\n",
       "title_status       900\n",
       "transmission         0\n",
       "drive            21128\n",
       "size             74559\n",
       "type             14483\n",
       "paint_color          0\n",
       "state                0\n",
       "dtype: int64"
      ]
     },
     "execution_count": 119,
     "metadata": {},
     "output_type": "execute_result"
    }
   ],
   "source": [
    "df.isna().sum()"
   ]
  },
  {
   "cell_type": "code",
   "execution_count": 120,
   "metadata": {},
   "outputs": [
    {
     "data": {
      "text/plain": [
       "id                  0\n",
       "region              0\n",
       "price               0\n",
       "year                0\n",
       "manufacturer        0\n",
       "model             765\n",
       "condition           0\n",
       "cylinders       86743\n",
       "fuel                0\n",
       "odometer            0\n",
       "title_status        0\n",
       "transmission        0\n",
       "drive               0\n",
       "size                0\n",
       "type                0\n",
       "paint_color         0\n",
       "state               0\n",
       "dtype: int64"
      ]
     },
     "execution_count": 120,
     "metadata": {},
     "output_type": "execute_result"
    }
   ],
   "source": [
    "df = df[df['drive'].notna()]\n",
    "df = df[df['type'].notna()]\n",
    "df = df[df['size'].notna()]\n",
    "df = df[df['title_status'].notna()]\n",
    "df.isna().sum()"
   ]
  },
  {
   "cell_type": "code",
   "execution_count": 121,
   "metadata": {},
   "outputs": [
    {
     "data": {
      "text/plain": [
       "284536"
      ]
     },
     "execution_count": 121,
     "metadata": {},
     "output_type": "execute_result"
    }
   ],
   "source": [
    "len(df)"
   ]
  },
  {
   "cell_type": "code",
   "execution_count": 122,
   "metadata": {},
   "outputs": [
    {
     "name": "stdout",
     "output_type": "stream",
     "text": [
      "Количество уникальных моделей автомобилей: 10389\n"
     ]
    }
   ],
   "source": [
    "print(f'Количество уникальных моделей автомобилей: {len(df[\"model\"].unique())}')"
   ]
  },
  {
   "cell_type": "markdown",
   "metadata": {},
   "source": [
    "Работать с таким количеством моделей не представляется возможным, да и в теории, модель автомобиля должна определяться его маркой и характеристиками, поэтому удалим эту колонку. Также давно пора было удалить id, т.к. для нас оно не несет смысловой нагрузки."
   ]
  },
  {
   "cell_type": "code",
   "execution_count": 123,
   "metadata": {},
   "outputs": [],
   "source": [
    "df=df.drop(columns=['id', 'model'])"
   ]
  },
  {
   "cell_type": "code",
   "execution_count": 124,
   "metadata": {},
   "outputs": [
    {
     "data": {
      "text/plain": [
       "region              0\n",
       "price               0\n",
       "year                0\n",
       "manufacturer        0\n",
       "condition           0\n",
       "cylinders       86743\n",
       "fuel                0\n",
       "odometer            0\n",
       "title_status        0\n",
       "transmission        0\n",
       "drive               0\n",
       "size                0\n",
       "type                0\n",
       "paint_color         0\n",
       "state               0\n",
       "dtype: int64"
      ]
     },
     "execution_count": 124,
     "metadata": {},
     "output_type": "execute_result"
    }
   ],
   "source": [
    "df.isna().sum()"
   ]
  },
  {
   "cell_type": "markdown",
   "metadata": {},
   "source": [
    "Приведем год и пробег к целочисленному типу."
   ]
  },
  {
   "cell_type": "code",
   "execution_count": 125,
   "metadata": {},
   "outputs": [],
   "source": [
    "df['year']=df['year'].astype(int)\n",
    "df['odometer']=df['odometer'].astype(int)"
   ]
  },
  {
   "cell_type": "code",
   "execution_count": 126,
   "metadata": {},
   "outputs": [
    {
     "data": {
      "text/plain": [
       "ford               52298\n",
       "chevrolet          42850\n",
       "toyota             26520\n",
       "honda              18703\n",
       "nissan             16017\n",
       "jeep               15409\n",
       "dodge              10973\n",
       "gmc                10017\n",
       "ram                 9721\n",
       "hyundai             7589\n",
       "subaru              7389\n",
       "bmw                 6757\n",
       "volkswagen          6294\n",
       "mercedes-benz       6158\n",
       "kia                 5847\n",
       "chrysler            5364\n",
       "lexus               4245\n",
       "cadillac            4140\n",
       "mazda               4136\n",
       "buick               3852\n",
       "audi                2808\n",
       "acura               2568\n",
       "lincoln             2179\n",
       "pontiac             1999\n",
       "infiniti            1828\n",
       "volvo               1524\n",
       "mitsubishi          1363\n",
       "mini                1188\n",
       "mercury             1085\n",
       "saturn               903\n",
       "rover                806\n",
       "porsche              684\n",
       "fiat                 439\n",
       "jaguar               432\n",
       "tesla                272\n",
       "alfa-romeo           103\n",
       "harley-davidson       19\n",
       "land rover            16\n",
       "ferrari               12\n",
       "datsun                12\n",
       "morgan                11\n",
       "aston-martin           6\n",
       "Name: manufacturer, dtype: int64"
      ]
     },
     "execution_count": 126,
     "metadata": {},
     "output_type": "execute_result"
    }
   ],
   "source": [
    "df['manufacturer'].value_counts()"
   ]
  },
  {
   "cell_type": "code",
   "execution_count": 127,
   "metadata": {},
   "outputs": [
    {
     "data": {
      "text/plain": [
       "ford             52298\n",
       "chevrolet        42850\n",
       "toyota           26520\n",
       "honda            18703\n",
       "nissan           16017\n",
       "jeep             15409\n",
       "dodge            10973\n",
       "gmc              10017\n",
       "ram               9721\n",
       "hyundai           7589\n",
       "subaru            7389\n",
       "bmw               6757\n",
       "volkswagen        6294\n",
       "mercedes-benz     6158\n",
       "kia               5847\n",
       "chrysler          5364\n",
       "lexus             4245\n",
       "cadillac          4140\n",
       "mazda             4136\n",
       "buick             3852\n",
       "audi              2808\n",
       "acura             2568\n",
       "lincoln           2179\n",
       "pontiac           1999\n",
       "infiniti          1828\n",
       "volvo             1524\n",
       "mitsubishi        1363\n",
       "mini              1188\n",
       "mercury           1085\n",
       "saturn             903\n",
       "rover              806\n",
       "porsche            684\n",
       "other              451\n",
       "fiat               439\n",
       "jaguar             432\n",
       "Name: manufacturer, dtype: int64"
      ]
     },
     "execution_count": 127,
     "metadata": {},
     "output_type": "execute_result"
    }
   ],
   "source": [
    "unpopular_manufacturers = df['manufacturer'].value_counts().reset_index()\n",
    "unpopular_manufacturers = unpopular_manufacturers[unpopular_manufacturers['manufacturer']<=300]\n",
    "unpopular_manufacturers = unpopular_manufacturers['index'].tolist()\n",
    "df.loc[df['manufacturer'].isin(unpopular_manufacturers), 'manufacturer'] = 'other'\n",
    "\n",
    "df['manufacturer'].value_counts()"
   ]
  },
  {
   "cell_type": "code",
   "execution_count": 128,
   "metadata": {},
   "outputs": [],
   "source": [
    "for col in ['region', 'manufacturer', 'condition', 'cylinders', \n",
    "            'fuel', 'title_status', 'transmission', 'drive', 'size', 'type', 'paint_color', 'state']:\n",
    "    df[col] = df[col].astype('category')"
   ]
  },
  {
   "cell_type": "code",
   "execution_count": 129,
   "metadata": {},
   "outputs": [
    {
     "data": {
      "text/plain": [
       "region          category\n",
       "price              int64\n",
       "year               int32\n",
       "manufacturer    category\n",
       "condition       category\n",
       "cylinders       category\n",
       "fuel            category\n",
       "odometer           int32\n",
       "title_status    category\n",
       "transmission    category\n",
       "drive           category\n",
       "size            category\n",
       "type            category\n",
       "paint_color     category\n",
       "state           category\n",
       "dtype: object"
      ]
     },
     "execution_count": 129,
     "metadata": {},
     "output_type": "execute_result"
    }
   ],
   "source": [
    "df.dtypes"
   ]
  },
  {
   "cell_type": "markdown",
   "metadata": {},
   "source": [
    "График цены"
   ]
  },
  {
   "cell_type": "code",
   "execution_count": 130,
   "metadata": {},
   "outputs": [
    {
     "data": {
      "image/png": "[encoded data removed]",
      "text/plain": [
       "<Figure size 576x396 with 1 Axes>"
      ]
     },
     "metadata": {},
     "output_type": "display_data"
    }
   ],
   "source": [
    "sns_plot = sns.distplot(df['price'])\n",
    "fig = sns_plot.get_figure()"
   ]
  },
  {
   "cell_type": "code",
   "execution_count": 131,
   "metadata": {},
   "outputs": [
    {
     "data": {
      "text/plain": [
       "count    2.845360e+05\n",
       "mean     2.860795e+04\n",
       "std      6.784111e+06\n",
       "min      1.000000e+00\n",
       "25%      5.995000e+03\n",
       "50%      1.145000e+04\n",
       "75%      1.999900e+04\n",
       "max      3.615215e+09\n",
       "Name: price, dtype: float64"
      ]
     },
     "execution_count": 131,
     "metadata": {},
     "output_type": "execute_result"
    }
   ],
   "source": [
    "df['price'].describe()"
   ]
  },
  {
   "cell_type": "markdown",
   "metadata": {},
   "source": [
    "Какой-то ужас, максимальная цена 2.5 миллиарда"
   ]
  },
  {
   "cell_type": "code",
   "execution_count": 132,
   "metadata": {},
   "outputs": [
    {
     "data": {
      "image/png": "[encoded data removed]",
      "text/plain": [
       "<Figure size 576x396 with 1 Axes>"
      ]
     },
     "metadata": {},
     "output_type": "display_data"
    }
   ],
   "source": [
    "sns_plot = sns.distplot(df['price'][df['price']<70000])\n",
    "fig = sns_plot.get_figure()"
   ]
  },
  {
   "cell_type": "markdown",
   "metadata": {},
   "source": [
    "Удаляем выбросы"
   ]
  },
  {
   "cell_type": "code",
   "execution_count": 133,
   "metadata": {},
   "outputs": [],
   "source": [
    "df = df[df['price']<70000]"
   ]
  },
  {
   "cell_type": "code",
   "execution_count": 134,
   "metadata": {},
   "outputs": [
    {
     "data": {
      "image/png": "[encoded data removed]",
      "text/plain": [
       "<Figure size 1152x360 with 1 Axes>"
      ]
     },
     "metadata": {},
     "output_type": "display_data"
    },
    {
     "data": {
      "image/png": "[encoded data removed]",
      "text/plain": [
       "<Figure size 1152x360 with 1 Axes>"
      ]
     },
     "metadata": {},
     "output_type": "display_data"
    },
    {
     "data": {
      "image/png": "[encoded data removed]",
      "text/plain": [
       "<Figure size 1152x360 with 1 Axes>"
      ]
     },
     "metadata": {},
     "output_type": "display_data"
    },
    {
     "data": {
      "image/png": "[encoded data removed]",
      "text/plain": [
       "<Figure size 1152x360 with 1 Axes>"
      ]
     },
     "metadata": {},
     "output_type": "display_data"
    },
    {
     "data": {
      "image/png": "[encoded data removed]",
      "text/plain": [
       "<Figure size 1152x360 with 1 Axes>"
      ]
     },
     "metadata": {},
     "output_type": "display_data"
    },
    {
     "data": {
      "image/png": "[encoded data removed]",
      "text/plain": [
       "<Figure size 1152x360 with 1 Axes>"
      ]
     },
     "metadata": {},
     "output_type": "display_data"
    },
    {
     "data": {
      "image/png": "[encoded data removed]",
      "text/plain": [
       "<Figure size 1152x360 with 1 Axes>"
      ]
     },
     "metadata": {},
     "output_type": "display_data"
    },
    {
     "data": {
      "image/png": "[encoded data removed]",
      "text/plain": [
       "<Figure size 1152x360 with 1 Axes>"
      ]
     },
     "metadata": {},
     "output_type": "display_data"
    },
    {
     "data": {
      "image/png": "[encoded data removed]",
      "text/plain": [
       "<Figure size 1152x360 with 1 Axes>"
      ]
     },
     "metadata": {},
     "output_type": "display_data"
    },
    {
     "data": {
      "image/png": "[encoded data removed]",
      "text/plain": [
       "<Figure size 1152x360 with 1 Axes>"
      ]
     },
     "metadata": {},
     "output_type": "display_data"
    }
   ],
   "source": [
    "for i in ['manufacturer', 'condition', 'cylinders', 'fuel', 'title_status',\n",
    "        'transmission', 'drive', 'type', 'paint_color', 'state']:\n",
    "    df[df['price']<70000].groupby(i)[\"price\"].mean().sort_values(ascending=False).plot.bar(figsize=(16,5));\n",
    "    plt.title('Средняя цена в зависимости от ' + i)\n",
    "    plt.show();"
   ]
  },
  {
   "cell_type": "code",
   "execution_count": 136,
   "metadata": {},
   "outputs": [
    {
     "data": {
      "text/plain": [
       "<matplotlib.axes._subplots.AxesSubplot at 0x1c507354c18>"
      ]
     },
     "execution_count": 136,
     "metadata": {},
     "output_type": "execute_result"
    },
    {
     "data": {
      "image/png": "[encoded data removed]",
      "text/plain": [
       "<Figure size 576x396 with 2 Axes>"
      ]
     },
     "metadata": {},
     "output_type": "display_data"
    }
   ],
   "source": [
    "sns.heatmap(df.corr())"
   ]
  },
  {
   "cell_type": "code",
   "execution_count": null,
   "metadata": {},
   "outputs": [],
   "source": [
    "df[df['transmission']=='other']"
   ]
  },
  {
   "cell_type": "code",
   "execution_count": 137,
   "metadata": {},
   "outputs": [
    {
     "data": {
      "image/png": "[encoded data removed]",
      "text/plain": [
       "<Figure size 648x432 with 1 Axes>"
      ]
     },
     "metadata": {},
     "output_type": "display_data"
    }
   ],
   "source": [
    "df[df['odometer']<2000000].plot.scatter(x='odometer', y='price', figsize=(9,6),)\n",
    "plt.title('\\nЗависимость цены от пробега\\n', fontsize=14, fontweight='bold');\n",
    "#[df['odometer']]"
   ]
  },
  {
   "cell_type": "code",
   "execution_count": 138,
   "metadata": {},
   "outputs": [
    {
     "data": {
      "image/png": "[encoded data removed]",
      "text/plain": [
       "<Figure size 648x432 with 1 Axes>"
      ]
     },
     "metadata": {},
     "output_type": "display_data"
    }
   ],
   "source": [
    "df.plot.scatter(x='year', y='price', figsize=(9,6),)\n",
    "plt.title('\\nЗависимость цены от года выпуска\\n', fontsize=14, fontweight='bold');"
   ]
  },
  {
   "cell_type": "code",
   "execution_count": 139,
   "metadata": {},
   "outputs": [
    {
     "data": {
      "text/html": [
       "<div>\n",
       "<style scoped>\n",
       "    .dataframe tbody tr th:only-of-type {\n",
       "        vertical-align: middle;\n",
       "    }\n",
       "\n",
       "    .dataframe tbody tr th {\n",
       "        vertical-align: top;\n",
       "    }\n",
       "\n",
       "    .dataframe thead th {\n",
       "        text-align: right;\n",
       "    }\n",
       "</style>\n",
       "<table border=\"1\" class=\"dataframe\">\n",
       "  <thead>\n",
       "    <tr style=\"text-align: right;\">\n",
       "      <th></th>\n",
       "      <th>region</th>\n",
       "      <th>price</th>\n",
       "      <th>year</th>\n",
       "      <th>manufacturer</th>\n",
       "      <th>condition</th>\n",
       "      <th>cylinders</th>\n",
       "      <th>fuel</th>\n",
       "      <th>odometer</th>\n",
       "      <th>title_status</th>\n",
       "      <th>transmission</th>\n",
       "      <th>drive</th>\n",
       "      <th>size</th>\n",
       "      <th>type</th>\n",
       "      <th>paint_color</th>\n",
       "      <th>state</th>\n",
       "    </tr>\n",
       "  </thead>\n",
       "  <tbody>\n",
       "    <tr>\n",
       "      <th>0</th>\n",
       "      <td>auburn</td>\n",
       "      <td>35990</td>\n",
       "      <td>2010</td>\n",
       "      <td>chevrolet</td>\n",
       "      <td>good</td>\n",
       "      <td>8 cylinders</td>\n",
       "      <td>gas</td>\n",
       "      <td>32742</td>\n",
       "      <td>clean</td>\n",
       "      <td>other</td>\n",
       "      <td>rwd</td>\n",
       "      <td>full-size</td>\n",
       "      <td>other</td>\n",
       "      <td>unknown</td>\n",
       "      <td>al</td>\n",
       "    </tr>\n",
       "    <tr>\n",
       "      <th>1</th>\n",
       "      <td>auburn</td>\n",
       "      <td>7500</td>\n",
       "      <td>2014</td>\n",
       "      <td>hyundai</td>\n",
       "      <td>excellent</td>\n",
       "      <td>4 cylinders</td>\n",
       "      <td>gas</td>\n",
       "      <td>93600</td>\n",
       "      <td>clean</td>\n",
       "      <td>automatic</td>\n",
       "      <td>fwd</td>\n",
       "      <td>full-size</td>\n",
       "      <td>sedan</td>\n",
       "      <td>unknown</td>\n",
       "      <td>al</td>\n",
       "    </tr>\n",
       "    <tr>\n",
       "      <th>3</th>\n",
       "      <td>auburn</td>\n",
       "      <td>2000</td>\n",
       "      <td>1974</td>\n",
       "      <td>chevrolet</td>\n",
       "      <td>good</td>\n",
       "      <td>4 cylinders</td>\n",
       "      <td>gas</td>\n",
       "      <td>190000</td>\n",
       "      <td>clean</td>\n",
       "      <td>automatic</td>\n",
       "      <td>rwd</td>\n",
       "      <td>full-size</td>\n",
       "      <td>pickup</td>\n",
       "      <td>blue</td>\n",
       "      <td>al</td>\n",
       "    </tr>\n",
       "    <tr>\n",
       "      <th>4</th>\n",
       "      <td>auburn</td>\n",
       "      <td>19500</td>\n",
       "      <td>2005</td>\n",
       "      <td>ford</td>\n",
       "      <td>excellent</td>\n",
       "      <td>8 cylinders</td>\n",
       "      <td>diesel</td>\n",
       "      <td>116000</td>\n",
       "      <td>lien</td>\n",
       "      <td>automatic</td>\n",
       "      <td>4wd</td>\n",
       "      <td>full-size</td>\n",
       "      <td>pickup</td>\n",
       "      <td>blue</td>\n",
       "      <td>al</td>\n",
       "    </tr>\n",
       "    <tr>\n",
       "      <th>5</th>\n",
       "      <td>auburn</td>\n",
       "      <td>29590</td>\n",
       "      <td>2016</td>\n",
       "      <td>toyota</td>\n",
       "      <td>good</td>\n",
       "      <td>6 cylinders</td>\n",
       "      <td>gas</td>\n",
       "      <td>33290</td>\n",
       "      <td>clean</td>\n",
       "      <td>other</td>\n",
       "      <td>4wd</td>\n",
       "      <td>mid-size</td>\n",
       "      <td>pickup</td>\n",
       "      <td>red</td>\n",
       "      <td>al</td>\n",
       "    </tr>\n",
       "  </tbody>\n",
       "</table>\n",
       "</div>"
      ],
      "text/plain": [
       "   region  price  year manufacturer  condition    cylinders    fuel  odometer  \\\n",
       "0  auburn  35990  2010    chevrolet       good  8 cylinders     gas     32742   \n",
       "1  auburn   7500  2014      hyundai  excellent  4 cylinders     gas     93600   \n",
       "3  auburn   2000  1974    chevrolet       good  4 cylinders     gas    190000   \n",
       "4  auburn  19500  2005         ford  excellent  8 cylinders  diesel    116000   \n",
       "5  auburn  29590  2016       toyota       good  6 cylinders     gas     33290   \n",
       "\n",
       "  title_status transmission drive       size    type paint_color state  \n",
       "0        clean        other   rwd  full-size   other     unknown    al  \n",
       "1        clean    automatic   fwd  full-size   sedan     unknown    al  \n",
       "3        clean    automatic   rwd  full-size  pickup        blue    al  \n",
       "4         lien    automatic   4wd  full-size  pickup        blue    al  \n",
       "5        clean        other   4wd   mid-size  pickup         red    al  "
      ]
     },
     "execution_count": 139,
     "metadata": {},
     "output_type": "execute_result"
    }
   ],
   "source": [
    "df.head()"
   ]
  },
  {
   "cell_type": "code",
   "execution_count": 140,
   "metadata": {},
   "outputs": [
    {
     "data": {
      "text/plain": [
       "region              0\n",
       "price               0\n",
       "year                0\n",
       "manufacturer        0\n",
       "condition           0\n",
       "cylinders       86470\n",
       "fuel                0\n",
       "odometer            0\n",
       "title_status        0\n",
       "transmission        0\n",
       "drive               0\n",
       "size                0\n",
       "type                0\n",
       "paint_color         0\n",
       "state               0\n",
       "dtype: int64"
      ]
     },
     "execution_count": 140,
     "metadata": {},
     "output_type": "execute_result"
    }
   ],
   "source": [
    "df.isna().sum()"
   ]
  },
  {
   "cell_type": "code",
   "execution_count": 149,
   "metadata": {},
   "outputs": [
    {
     "data": {
      "text/plain": [
       "[auburn, birmingham, dothan, florence / muscle shoals, gadsden-anniston, ..., northern WI, sheboygan, wausau, wyoming, sioux city, IA]\n",
       "Length: 405\n",
       "Categories (405, object): [auburn, birmingham, dothan, florence / muscle shoals, ..., sheboygan, wausau, wyoming, sioux city, IA]"
      ]
     },
     "execution_count": 149,
     "metadata": {},
     "output_type": "execute_result"
    }
   ],
   "source": [
    "df['region'].unique()"
   ]
  },
  {
   "cell_type": "code",
   "execution_count": 185,
   "metadata": {},
   "outputs": [
    {
     "data": {
      "text/plain": [
       "CategoricalIndex(['grand rapids', 'colorado springs', 'columbus', 'rochester',\n",
       "                  'boise', 'tampa bay area', 'vermont', 'orlando',\n",
       "                  'jacksonville', 'hartford',\n",
       "                  ...\n",
       "                  'binghamton', 'prescott', 'skagit / island / SJI',\n",
       "                  'charlottesville', 'central michigan', 'battle creek',\n",
       "                  'wilmington', 'muskegon', 'bemidji', 'upper peninsula'],\n",
       "                 categories=['SF bay area', 'abilene', 'akron / canton', 'albany', 'albuquerque', 'altoona-johnstown', 'amarillo', 'ames', ...], ordered=False, dtype='category', length=200)"
      ]
     },
     "execution_count": 185,
     "metadata": {},
     "output_type": "execute_result"
    }
   ],
   "source": [
    "df['region'].value_counts().nlargest(200).index"
   ]
  },
  {
   "cell_type": "code",
   "execution_count": null,
   "metadata": {},
   "outputs": [],
   "source": [
    "df = 0\n",
    "df = pd.read_csv('vehicles.csv')\n",
    "df['region'] = df['region'].astype('object')\n",
    "print(df.region.dtype)\n",
    "# df.region = 1\n",
    "df.loc[df.region.isin(df.region[df['region'] != 1].value_counts().nlargest(150).index)] = 2\n",
    "df.loc[df.region.isin(df.region[df['region'] != 2].value_counts().nlargest(100).index)] = 3\n",
    "df.loc[df.region.isin(df.region[df['region'] != 3].value_counts().nlargest(50).index)] = 4\n",
    "# df.loc[df.region.isin(df.region[df['region'] != 4].value_counts().nlargest(50).index)] = 5"
   ]
  },
  {
   "cell_type": "code",
   "execution_count": 275,
   "metadata": {},
   "outputs": [],
   "source": [
    "df.region"
   ]
  },
  {
   "cell_type": "code",
   "execution_count": 277,
   "metadata": {},
   "outputs": [
    {
     "data": {
      "text/plain": [
       "4    407227\n",
       "5     50986\n",
       "Name: region, dtype: int64"
      ]
     },
     "execution_count": 277,
     "metadata": {},
     "output_type": "execute_result"
    }
   ],
   "source": [
    "df.region.value_counts()"
   ]
  },
  {
   "cell_type": "markdown",
   "metadata": {},
   "source": [
    "# ПРОБУЮ ПРЕДСКАЗАТЬ ЦИЛИНДРЫ, ЗАПУСКАТЬ НА СВОЙ СТРАХ И РИСК"
   ]
  },
  {
   "cell_type": "code",
   "execution_count": 141,
   "metadata": {},
   "outputs": [],
   "source": [
    "target = df[['price']]\n",
    "features = df.drop(['cylinders', 'price'], axis=1)"
   ]
  },
  {
   "cell_type": "code",
   "execution_count": 142,
   "metadata": {},
   "outputs": [],
   "source": [
    "num_feats = features.select_dtypes(include=['int32', 'int64']).copy()\n",
    "cat_feats = features.select_dtypes(include=['category']).copy()\n",
    "cat_feats = pd.get_dummies(cat_feats)"
   ]
  },
  {
   "cell_type": "code",
   "execution_count": 143,
   "metadata": {},
   "outputs": [
    {
     "data": {
      "text/html": [
       "<div>\n",
       "<style scoped>\n",
       "    .dataframe tbody tr th:only-of-type {\n",
       "        vertical-align: middle;\n",
       "    }\n",
       "\n",
       "    .dataframe tbody tr th {\n",
       "        vertical-align: top;\n",
       "    }\n",
       "\n",
       "    .dataframe thead th {\n",
       "        text-align: right;\n",
       "    }\n",
       "</style>\n",
       "<table border=\"1\" class=\"dataframe\">\n",
       "  <thead>\n",
       "    <tr style=\"text-align: right;\">\n",
       "      <th></th>\n",
       "      <th>year</th>\n",
       "      <th>odometer</th>\n",
       "      <th>cylinders</th>\n",
       "      <th>region_SF bay area</th>\n",
       "      <th>region_abilene</th>\n",
       "      <th>region_akron / canton</th>\n",
       "      <th>region_albany</th>\n",
       "      <th>region_albuquerque</th>\n",
       "      <th>region_altoona-johnstown</th>\n",
       "      <th>region_amarillo</th>\n",
       "      <th>...</th>\n",
       "      <th>state_sd</th>\n",
       "      <th>state_tn</th>\n",
       "      <th>state_tx</th>\n",
       "      <th>state_ut</th>\n",
       "      <th>state_va</th>\n",
       "      <th>state_vt</th>\n",
       "      <th>state_wa</th>\n",
       "      <th>state_wi</th>\n",
       "      <th>state_wv</th>\n",
       "      <th>state_wy</th>\n",
       "    </tr>\n",
       "  </thead>\n",
       "  <tbody>\n",
       "    <tr>\n",
       "      <th>0</th>\n",
       "      <td>2010</td>\n",
       "      <td>32742</td>\n",
       "      <td>8 cylinders</td>\n",
       "      <td>0</td>\n",
       "      <td>0</td>\n",
       "      <td>0</td>\n",
       "      <td>0</td>\n",
       "      <td>0</td>\n",
       "      <td>0</td>\n",
       "      <td>0</td>\n",
       "      <td>...</td>\n",
       "      <td>0</td>\n",
       "      <td>0</td>\n",
       "      <td>0</td>\n",
       "      <td>0</td>\n",
       "      <td>0</td>\n",
       "      <td>0</td>\n",
       "      <td>0</td>\n",
       "      <td>0</td>\n",
       "      <td>0</td>\n",
       "      <td>0</td>\n",
       "    </tr>\n",
       "    <tr>\n",
       "      <th>1</th>\n",
       "      <td>2014</td>\n",
       "      <td>93600</td>\n",
       "      <td>4 cylinders</td>\n",
       "      <td>0</td>\n",
       "      <td>0</td>\n",
       "      <td>0</td>\n",
       "      <td>0</td>\n",
       "      <td>0</td>\n",
       "      <td>0</td>\n",
       "      <td>0</td>\n",
       "      <td>...</td>\n",
       "      <td>0</td>\n",
       "      <td>0</td>\n",
       "      <td>0</td>\n",
       "      <td>0</td>\n",
       "      <td>0</td>\n",
       "      <td>0</td>\n",
       "      <td>0</td>\n",
       "      <td>0</td>\n",
       "      <td>0</td>\n",
       "      <td>0</td>\n",
       "    </tr>\n",
       "    <tr>\n",
       "      <th>3</th>\n",
       "      <td>1974</td>\n",
       "      <td>190000</td>\n",
       "      <td>4 cylinders</td>\n",
       "      <td>0</td>\n",
       "      <td>0</td>\n",
       "      <td>0</td>\n",
       "      <td>0</td>\n",
       "      <td>0</td>\n",
       "      <td>0</td>\n",
       "      <td>0</td>\n",
       "      <td>...</td>\n",
       "      <td>0</td>\n",
       "      <td>0</td>\n",
       "      <td>0</td>\n",
       "      <td>0</td>\n",
       "      <td>0</td>\n",
       "      <td>0</td>\n",
       "      <td>0</td>\n",
       "      <td>0</td>\n",
       "      <td>0</td>\n",
       "      <td>0</td>\n",
       "    </tr>\n",
       "    <tr>\n",
       "      <th>4</th>\n",
       "      <td>2005</td>\n",
       "      <td>116000</td>\n",
       "      <td>8 cylinders</td>\n",
       "      <td>0</td>\n",
       "      <td>0</td>\n",
       "      <td>0</td>\n",
       "      <td>0</td>\n",
       "      <td>0</td>\n",
       "      <td>0</td>\n",
       "      <td>0</td>\n",
       "      <td>...</td>\n",
       "      <td>0</td>\n",
       "      <td>0</td>\n",
       "      <td>0</td>\n",
       "      <td>0</td>\n",
       "      <td>0</td>\n",
       "      <td>0</td>\n",
       "      <td>0</td>\n",
       "      <td>0</td>\n",
       "      <td>0</td>\n",
       "      <td>0</td>\n",
       "    </tr>\n",
       "    <tr>\n",
       "      <th>5</th>\n",
       "      <td>2016</td>\n",
       "      <td>33290</td>\n",
       "      <td>6 cylinders</td>\n",
       "      <td>0</td>\n",
       "      <td>0</td>\n",
       "      <td>0</td>\n",
       "      <td>0</td>\n",
       "      <td>0</td>\n",
       "      <td>0</td>\n",
       "      <td>0</td>\n",
       "      <td>...</td>\n",
       "      <td>0</td>\n",
       "      <td>0</td>\n",
       "      <td>0</td>\n",
       "      <td>0</td>\n",
       "      <td>0</td>\n",
       "      <td>0</td>\n",
       "      <td>0</td>\n",
       "      <td>0</td>\n",
       "      <td>0</td>\n",
       "      <td>0</td>\n",
       "    </tr>\n",
       "  </tbody>\n",
       "</table>\n",
       "<p>5 rows × 548 columns</p>\n",
       "</div>"
      ],
      "text/plain": [
       "   year  odometer    cylinders  region_SF bay area  region_abilene  \\\n",
       "0  2010     32742  8 cylinders                   0               0   \n",
       "1  2014     93600  4 cylinders                   0               0   \n",
       "3  1974    190000  4 cylinders                   0               0   \n",
       "4  2005    116000  8 cylinders                   0               0   \n",
       "5  2016     33290  6 cylinders                   0               0   \n",
       "\n",
       "   region_akron / canton  region_albany  region_albuquerque  \\\n",
       "0                      0              0                   0   \n",
       "1                      0              0                   0   \n",
       "3                      0              0                   0   \n",
       "4                      0              0                   0   \n",
       "5                      0              0                   0   \n",
       "\n",
       "   region_altoona-johnstown  region_amarillo  ...  state_sd  state_tn  \\\n",
       "0                         0                0  ...         0         0   \n",
       "1                         0                0  ...         0         0   \n",
       "3                         0                0  ...         0         0   \n",
       "4                         0                0  ...         0         0   \n",
       "5                         0                0  ...         0         0   \n",
       "\n",
       "   state_tx  state_ut  state_va  state_vt  state_wa  state_wi  state_wv  \\\n",
       "0         0         0         0         0         0         0         0   \n",
       "1         0         0         0         0         0         0         0   \n",
       "3         0         0         0         0         0         0         0   \n",
       "4         0         0         0         0         0         0         0   \n",
       "5         0         0         0         0         0         0         0   \n",
       "\n",
       "   state_wy  \n",
       "0         0  \n",
       "1         0  \n",
       "3         0  \n",
       "4         0  \n",
       "5         0  \n",
       "\n",
       "[5 rows x 548 columns]"
      ]
     },
     "execution_count": 143,
     "metadata": {},
     "output_type": "execute_result"
    }
   ],
   "source": [
    "features_recoded = pd.concat([num_feats, df['cylinders'], cat_feats], axis=1)\n",
    "features_recoded.head()"
   ]
  },
  {
   "cell_type": "code",
   "execution_count": 180,
   "metadata": {},
   "outputs": [
    {
     "data": {
      "text/plain": [
       "4 cylinders     73075\n",
       "6 cylinders     71419\n",
       "8 cylinders     49458\n",
       "5 cylinders      1428\n",
       "10 cylinders     1138\n",
       "other             475\n",
       "3 cylinders       303\n",
       "12 cylinders       35\n",
       "Name: cylinders, dtype: int64"
      ]
     },
     "execution_count": 180,
     "metadata": {},
     "output_type": "execute_result"
    }
   ],
   "source": [
    "df['cylinders'].value_counts()"
   ]
  },
  {
   "cell_type": "code",
   "execution_count": 147,
   "metadata": {},
   "outputs": [],
   "source": [
    "train_data = features_recoded[features_recoded['cylinders'].notnull() & ~features_recoded['cylinders'].isin(['5 cylinders','10 cylinders','other','3 cylinders','12 cylinders'])]\n",
    "test_data  = features_recoded[features_recoded['cylinders'].isnull() & features_recoded['cylinders'].isin(['5 cylinders','10 cylinders','other','3 cylinders','12 cylinders'])]\n",
    "\n",
    "X_train, X_test, y_train, y_test = train_test_split(\n",
    "    train_data.drop('cylinders', axis=1), train_data['cylinders'], test_size=0.33, random_state=42)"
   ]
  },
  {
   "cell_type": "code",
   "execution_count": 148,
   "metadata": {},
   "outputs": [
    {
     "name": "stdout",
     "output_type": "stream",
     "text": [
      "0.9999230455493393\n",
      "0.8765096476837747\n"
     ]
    }
   ],
   "source": [
    "regr = RandomForestClassifier()\n",
    "regr.fit(X_train, y_train)\n",
    "print(regr.score(X_train, y_train))\n",
    "print(regr.score(X_test, y_test))\n",
    "predicted = regr.predict(X_test)"
   ]
  },
  {
   "cell_type": "code",
   "execution_count": null,
   "metadata": {},
   "outputs": [],
   "source": []
  }
 ],
 "metadata": {
  "kernelspec": {
   "display_name": "Python 3",
   "language": "python",
   "name": "python3"
  },
  "language_info": {
   "codemirror_mode": {
    "name": "ipython",
    "version": 3
   },
   "file_extension": ".py",
   "mimetype": "text/x-python",
   "name": "python",
   "nbconvert_exporter": "python",
   "pygments_lexer": "ipython3",
   "version": "3.7.2"
  }
 },
 "nbformat": 4,
 "nbformat_minor": 2
}
