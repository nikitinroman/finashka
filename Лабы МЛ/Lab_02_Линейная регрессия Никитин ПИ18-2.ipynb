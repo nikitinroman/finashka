{
 "cells": [
  {
   "cell_type": "code",
   "execution_count": 2,
   "metadata": {},
   "outputs": [],
   "source": [
    "import numpy as np\n",
    "import pandas as pd\n",
    "import matplotlib.pyplot as plt"
   ]
  },
  {
   "cell_type": "code",
   "execution_count": 3,
   "metadata": {},
   "outputs": [],
   "source": [
    "sber = pd.read_csv('yand.txt')\n",
    "mvid = pd.read_csv('mgn.txt')"
   ]
  },
  {
   "cell_type": "code",
   "execution_count": 4,
   "metadata": {},
   "outputs": [
    {
     "data": {
      "text/plain": [
       "(838, 6)"
      ]
     },
     "execution_count": 4,
     "metadata": {},
     "output_type": "execute_result"
    }
   ],
   "source": [
    "sber.head()\n",
    "sber.shape"
   ]
  },
  {
   "cell_type": "code",
   "execution_count": 5,
   "metadata": {},
   "outputs": [
    {
     "data": {
      "text/html": [
       "<div>\n",
       "<style scoped>\n",
       "    .dataframe tbody tr th:only-of-type {\n",
       "        vertical-align: middle;\n",
       "    }\n",
       "\n",
       "    .dataframe tbody tr th {\n",
       "        vertical-align: top;\n",
       "    }\n",
       "\n",
       "    .dataframe thead th {\n",
       "        text-align: right;\n",
       "    }\n",
       "</style>\n",
       "<table border=\"1\" class=\"dataframe\">\n",
       "  <thead>\n",
       "    <tr style=\"text-align: right;\">\n",
       "      <th></th>\n",
       "      <th>&lt;TICKER&gt;</th>\n",
       "      <th>&lt;PER&gt;</th>\n",
       "      <th>&lt;DATE&gt;</th>\n",
       "      <th>&lt;TIME&gt;</th>\n",
       "      <th>&lt;CLOSE&gt;</th>\n",
       "      <th>&lt;VOL&gt;</th>\n",
       "    </tr>\n",
       "  </thead>\n",
       "  <tbody>\n",
       "    <tr>\n",
       "      <th>0</th>\n",
       "      <td>MGNT</td>\n",
       "      <td>D</td>\n",
       "      <td>20101001</td>\n",
       "      <td>0</td>\n",
       "      <td>3800.00</td>\n",
       "      <td>12669</td>\n",
       "    </tr>\n",
       "    <tr>\n",
       "      <th>1</th>\n",
       "      <td>MGNT</td>\n",
       "      <td>D</td>\n",
       "      <td>20101004</td>\n",
       "      <td>0</td>\n",
       "      <td>3746.97</td>\n",
       "      <td>3899</td>\n",
       "    </tr>\n",
       "    <tr>\n",
       "      <th>2</th>\n",
       "      <td>MGNT</td>\n",
       "      <td>D</td>\n",
       "      <td>20101005</td>\n",
       "      <td>0</td>\n",
       "      <td>3669.99</td>\n",
       "      <td>22660</td>\n",
       "    </tr>\n",
       "    <tr>\n",
       "      <th>3</th>\n",
       "      <td>MGNT</td>\n",
       "      <td>D</td>\n",
       "      <td>20101006</td>\n",
       "      <td>0</td>\n",
       "      <td>3664.87</td>\n",
       "      <td>1302</td>\n",
       "    </tr>\n",
       "    <tr>\n",
       "      <th>4</th>\n",
       "      <td>MGNT</td>\n",
       "      <td>D</td>\n",
       "      <td>20101007</td>\n",
       "      <td>0</td>\n",
       "      <td>3611.27</td>\n",
       "      <td>7101</td>\n",
       "    </tr>\n",
       "  </tbody>\n",
       "</table>\n",
       "</div>"
      ],
      "text/plain": [
       "  <TICKER> <PER>    <DATE>  <TIME>  <CLOSE>  <VOL>\n",
       "0     MGNT     D  20101001       0  3800.00  12669\n",
       "1     MGNT     D  20101004       0  3746.97   3899\n",
       "2     MGNT     D  20101005       0  3669.99  22660\n",
       "3     MGNT     D  20101006       0  3664.87   1302\n",
       "4     MGNT     D  20101007       0  3611.27   7101"
      ]
     },
     "execution_count": 5,
     "metadata": {},
     "output_type": "execute_result"
    }
   ],
   "source": [
    "mvid.head()"
   ]
  },
  {
   "cell_type": "code",
   "execution_count": 6,
   "metadata": {},
   "outputs": [
    {
     "data": {
      "text/plain": [
       "<TICKER>    0\n",
       "<PER>       0\n",
       "<DATE>      0\n",
       "<TIME>      0\n",
       "<CLOSE>     0\n",
       "<VOL>       0\n",
       "dtype: int64"
      ]
     },
     "execution_count": 6,
     "metadata": {},
     "output_type": "execute_result"
    }
   ],
   "source": [
    "sber.isna().sum()"
   ]
  },
  {
   "cell_type": "code",
   "execution_count": 7,
   "metadata": {},
   "outputs": [
    {
     "data": {
      "text/plain": [
       "<TICKER>    0\n",
       "<PER>       0\n",
       "<DATE>      0\n",
       "<TIME>      0\n",
       "<CLOSE>     0\n",
       "<VOL>       0\n",
       "dtype: int64"
      ]
     },
     "execution_count": 7,
     "metadata": {},
     "output_type": "execute_result"
    }
   ],
   "source": [
    "mvid.isna().sum()"
   ]
  },
  {
   "cell_type": "code",
   "execution_count": 8,
   "metadata": {},
   "outputs": [],
   "source": [
    "data = sber.merge(mvid, on='<DATE>')"
   ]
  },
  {
   "cell_type": "code",
   "execution_count": 9,
   "metadata": {},
   "outputs": [
    {
     "data": {
      "text/plain": [
       "(838, 11)"
      ]
     },
     "execution_count": 9,
     "metadata": {},
     "output_type": "execute_result"
    }
   ],
   "source": [
    "data.shape"
   ]
  },
  {
   "cell_type": "code",
   "execution_count": 10,
   "metadata": {},
   "outputs": [
    {
     "data": {
      "text/html": [
       "<div>\n",
       "<style scoped>\n",
       "    .dataframe tbody tr th:only-of-type {\n",
       "        vertical-align: middle;\n",
       "    }\n",
       "\n",
       "    .dataframe tbody tr th {\n",
       "        vertical-align: top;\n",
       "    }\n",
       "\n",
       "    .dataframe thead th {\n",
       "        text-align: right;\n",
       "    }\n",
       "</style>\n",
       "<table border=\"1\" class=\"dataframe\">\n",
       "  <thead>\n",
       "    <tr style=\"text-align: right;\">\n",
       "      <th></th>\n",
       "      <th>&lt;TICKER&gt;_x</th>\n",
       "      <th>&lt;PER&gt;_x</th>\n",
       "      <th>&lt;DATE&gt;</th>\n",
       "      <th>&lt;TIME&gt;_x</th>\n",
       "      <th>&lt;CLOSE&gt;_x</th>\n",
       "      <th>&lt;VOL&gt;_x</th>\n",
       "      <th>&lt;TICKER&gt;_y</th>\n",
       "      <th>&lt;PER&gt;_y</th>\n",
       "      <th>&lt;TIME&gt;_y</th>\n",
       "      <th>&lt;CLOSE&gt;_y</th>\n",
       "      <th>&lt;VOL&gt;_y</th>\n",
       "    </tr>\n",
       "  </thead>\n",
       "  <tbody>\n",
       "    <tr>\n",
       "      <th>0</th>\n",
       "      <td>YNDX</td>\n",
       "      <td>D</td>\n",
       "      <td>20140604</td>\n",
       "      <td>0</td>\n",
       "      <td>1170.0</td>\n",
       "      <td>35146</td>\n",
       "      <td>MGNT</td>\n",
       "      <td>D</td>\n",
       "      <td>0</td>\n",
       "      <td>8970.0</td>\n",
       "      <td>99632</td>\n",
       "    </tr>\n",
       "    <tr>\n",
       "      <th>1</th>\n",
       "      <td>YNDX</td>\n",
       "      <td>D</td>\n",
       "      <td>20140605</td>\n",
       "      <td>0</td>\n",
       "      <td>1145.1</td>\n",
       "      <td>24973</td>\n",
       "      <td>MGNT</td>\n",
       "      <td>D</td>\n",
       "      <td>0</td>\n",
       "      <td>8928.8</td>\n",
       "      <td>130492</td>\n",
       "    </tr>\n",
       "    <tr>\n",
       "      <th>2</th>\n",
       "      <td>YNDX</td>\n",
       "      <td>D</td>\n",
       "      <td>20140606</td>\n",
       "      <td>0</td>\n",
       "      <td>1163.0</td>\n",
       "      <td>7889</td>\n",
       "      <td>MGNT</td>\n",
       "      <td>D</td>\n",
       "      <td>0</td>\n",
       "      <td>8980.0</td>\n",
       "      <td>166548</td>\n",
       "    </tr>\n",
       "    <tr>\n",
       "      <th>3</th>\n",
       "      <td>YNDX</td>\n",
       "      <td>D</td>\n",
       "      <td>20140609</td>\n",
       "      <td>0</td>\n",
       "      <td>1172.1</td>\n",
       "      <td>7304</td>\n",
       "      <td>MGNT</td>\n",
       "      <td>D</td>\n",
       "      <td>0</td>\n",
       "      <td>8949.0</td>\n",
       "      <td>68447</td>\n",
       "    </tr>\n",
       "    <tr>\n",
       "      <th>4</th>\n",
       "      <td>YNDX</td>\n",
       "      <td>D</td>\n",
       "      <td>20140610</td>\n",
       "      <td>0</td>\n",
       "      <td>1170.0</td>\n",
       "      <td>3207</td>\n",
       "      <td>MGNT</td>\n",
       "      <td>D</td>\n",
       "      <td>0</td>\n",
       "      <td>9100.0</td>\n",
       "      <td>120241</td>\n",
       "    </tr>\n",
       "  </tbody>\n",
       "</table>\n",
       "</div>"
      ],
      "text/plain": [
       "  <TICKER>_x <PER>_x    <DATE>  <TIME>_x  <CLOSE>_x  <VOL>_x <TICKER>_y  \\\n",
       "0       YNDX       D  20140604         0     1170.0    35146       MGNT   \n",
       "1       YNDX       D  20140605         0     1145.1    24973       MGNT   \n",
       "2       YNDX       D  20140606         0     1163.0     7889       MGNT   \n",
       "3       YNDX       D  20140609         0     1172.1     7304       MGNT   \n",
       "4       YNDX       D  20140610         0     1170.0     3207       MGNT   \n",
       "\n",
       "  <PER>_y  <TIME>_y  <CLOSE>_y  <VOL>_y  \n",
       "0       D         0     8970.0    99632  \n",
       "1       D         0     8928.8   130492  \n",
       "2       D         0     8980.0   166548  \n",
       "3       D         0     8949.0    68447  \n",
       "4       D         0     9100.0   120241  "
      ]
     },
     "execution_count": 10,
     "metadata": {},
     "output_type": "execute_result"
    }
   ],
   "source": [
    "data.head()"
   ]
  },
  {
   "cell_type": "code",
   "execution_count": 73,
   "metadata": {},
   "outputs": [
    {
     "data": {
      "text/plain": [
       "<TICKER>_x     object\n",
       "<PER>_x        object\n",
       "<DATE>          int64\n",
       "<TIME>_x        int64\n",
       "<CLOSE>_x     float64\n",
       "<VOL>_x         int64\n",
       "<TICKER>_y     object\n",
       "<PER>_y        object\n",
       "<TIME>_y        int64\n",
       "<CLOSE>_y     float64\n",
       "<VOL>_y         int64\n",
       "dtype: object"
      ]
     },
     "execution_count": 73,
     "metadata": {},
     "output_type": "execute_result"
    }
   ],
   "source": [
    "data.dtypes"
   ]
  },
  {
   "cell_type": "code",
   "execution_count": 115,
   "metadata": {},
   "outputs": [],
   "source": [
    "Y_sber = data[\"<CLOSE>_x\"]\n",
    "Y_mvid = data[\"<CLOSE>_y\"]"
   ]
  },
  {
   "cell_type": "code",
   "execution_count": 116,
   "metadata": {},
   "outputs": [],
   "source": [
    "X_sber = sber.drop('<CLOSE>', axis = 1)\n",
    "X_mvid = mvid.drop('<CLOSE>', axis = 1)"
   ]
  },
  {
   "cell_type": "code",
   "execution_count": 117,
   "metadata": {},
   "outputs": [
    {
     "data": {
      "text/html": [
       "<div>\n",
       "<style scoped>\n",
       "    .dataframe tbody tr th:only-of-type {\n",
       "        vertical-align: middle;\n",
       "    }\n",
       "\n",
       "    .dataframe tbody tr th {\n",
       "        vertical-align: top;\n",
       "    }\n",
       "\n",
       "    .dataframe thead th {\n",
       "        text-align: right;\n",
       "    }\n",
       "</style>\n",
       "<table border=\"1\" class=\"dataframe\">\n",
       "  <thead>\n",
       "    <tr style=\"text-align: right;\">\n",
       "      <th></th>\n",
       "      <th>&lt;TICKER&gt;</th>\n",
       "      <th>&lt;PER&gt;</th>\n",
       "      <th>&lt;DATE&gt;</th>\n",
       "      <th>&lt;TIME&gt;</th>\n",
       "      <th>&lt;VOL&gt;</th>\n",
       "    </tr>\n",
       "  </thead>\n",
       "  <tbody>\n",
       "    <tr>\n",
       "      <th>0</th>\n",
       "      <td>YNDX</td>\n",
       "      <td>D</td>\n",
       "      <td>20140604</td>\n",
       "      <td>0</td>\n",
       "      <td>35146</td>\n",
       "    </tr>\n",
       "    <tr>\n",
       "      <th>1</th>\n",
       "      <td>YNDX</td>\n",
       "      <td>D</td>\n",
       "      <td>20140605</td>\n",
       "      <td>0</td>\n",
       "      <td>24973</td>\n",
       "    </tr>\n",
       "    <tr>\n",
       "      <th>2</th>\n",
       "      <td>YNDX</td>\n",
       "      <td>D</td>\n",
       "      <td>20140606</td>\n",
       "      <td>0</td>\n",
       "      <td>7889</td>\n",
       "    </tr>\n",
       "    <tr>\n",
       "      <th>3</th>\n",
       "      <td>YNDX</td>\n",
       "      <td>D</td>\n",
       "      <td>20140609</td>\n",
       "      <td>0</td>\n",
       "      <td>7304</td>\n",
       "    </tr>\n",
       "    <tr>\n",
       "      <th>4</th>\n",
       "      <td>YNDX</td>\n",
       "      <td>D</td>\n",
       "      <td>20140610</td>\n",
       "      <td>0</td>\n",
       "      <td>3207</td>\n",
       "    </tr>\n",
       "  </tbody>\n",
       "</table>\n",
       "</div>"
      ],
      "text/plain": [
       "  <TICKER> <PER>    <DATE>  <TIME>  <VOL>\n",
       "0     YNDX     D  20140604       0  35146\n",
       "1     YNDX     D  20140605       0  24973\n",
       "2     YNDX     D  20140606       0   7889\n",
       "3     YNDX     D  20140609       0   7304\n",
       "4     YNDX     D  20140610       0   3207"
      ]
     },
     "execution_count": 117,
     "metadata": {},
     "output_type": "execute_result"
    }
   ],
   "source": [
    "X_sber.head()\n",
    "#X_mvid.head()"
   ]
  },
  {
   "cell_type": "code",
   "execution_count": 175,
   "metadata": {},
   "outputs": [],
   "source": [
    "class Parn_reg:\n",
    "    def __init__(self):\n",
    "        self.b0 = 150\n",
    "        self.b1 = 6.5\n",
    "    def predict(self, X):\n",
    "        return self.b0 + self.b1 * X\n",
    "    def error(self, X, Y):\n",
    "        print(X,Y)\n",
    "        return sum((self.predict(X) - Y) ** 2) / (2*len(X))\n",
    "    def BGD(self, X, Y):\n",
    "        steps, errors = [],[]\n",
    "        alpha = 0.00015\n",
    "        for i in range(10):\n",
    "            dJ0 = sum(self.predict(X) - Y) / len(X)\n",
    "            dJ1 = sum((self.predict(X) - Y) * X) / len(X)\n",
    "            self.b0 = self.b0 - alpha*dJ0\n",
    "            self.b1 = self.b1 - alpha*dJ1\n",
    "            steps.append(i)\n",
    "            errors.append(self.error(X,Y))\n",
    "        return steps,errors"
   ]
  },
  {
   "cell_type": "code",
   "execution_count": 176,
   "metadata": {},
   "outputs": [
    {
     "ename": "TypeError",
     "evalue": "unsupported operand type(s) for +: 'int' and 'str'",
     "output_type": "error",
     "traceback": [
      "\u001b[1;31m---------------------------------------------------------------------------\u001b[0m",
      "\u001b[1;31mTypeError\u001b[0m                                 Traceback (most recent call last)",
      "\u001b[1;32m<ipython-input-176-f9cd5dccf89d>\u001b[0m in \u001b[0;36m<module>\u001b[1;34m\u001b[0m\n\u001b[0;32m      1\u001b[0m \u001b[0mmodel\u001b[0m \u001b[1;33m=\u001b[0m \u001b[0mParn_reg\u001b[0m\u001b[1;33m(\u001b[0m\u001b[1;33m)\u001b[0m\u001b[1;33m\u001b[0m\u001b[1;33m\u001b[0m\u001b[0m\n\u001b[1;32m----> 2\u001b[1;33m \u001b[0msteps\u001b[0m\u001b[1;33m,\u001b[0m \u001b[0merrors\u001b[0m \u001b[1;33m=\u001b[0m \u001b[0mmodel\u001b[0m\u001b[1;33m.\u001b[0m\u001b[0mBGD\u001b[0m\u001b[1;33m(\u001b[0m\u001b[0mY_sber\u001b[0m\u001b[1;33m,\u001b[0m \u001b[0mY_mvid\u001b[0m\u001b[1;33m)\u001b[0m\u001b[1;33m\u001b[0m\u001b[1;33m\u001b[0m\u001b[0m\n\u001b[0m\u001b[0;32m      3\u001b[0m \u001b[0mmodel\u001b[0m\u001b[1;33m.\u001b[0m\u001b[0mpredict\u001b[0m\u001b[1;33m(\u001b[0m\u001b[0mY_sber\u001b[0m\u001b[1;33m)\u001b[0m\u001b[1;33m\u001b[0m\u001b[1;33m\u001b[0m\u001b[0m\n\u001b[0;32m      4\u001b[0m \u001b[0mprint\u001b[0m\u001b[1;33m(\u001b[0m\u001b[0msteps\u001b[0m\u001b[1;33m,\u001b[0m \u001b[0merrors\u001b[0m\u001b[1;33m)\u001b[0m\u001b[1;33m\u001b[0m\u001b[1;33m\u001b[0m\u001b[0m\n",
      "\u001b[1;32m<ipython-input-175-96c8262491b9>\u001b[0m in \u001b[0;36mBGD\u001b[1;34m(self, X, Y)\u001b[0m\n\u001b[0;32m     12\u001b[0m         \u001b[0malpha\u001b[0m \u001b[1;33m=\u001b[0m \u001b[1;36m0.00015\u001b[0m\u001b[1;33m\u001b[0m\u001b[1;33m\u001b[0m\u001b[0m\n\u001b[0;32m     13\u001b[0m         \u001b[1;32mfor\u001b[0m \u001b[0mi\u001b[0m \u001b[1;32min\u001b[0m \u001b[0mrange\u001b[0m\u001b[1;33m(\u001b[0m\u001b[1;36m10\u001b[0m\u001b[1;33m)\u001b[0m\u001b[1;33m:\u001b[0m\u001b[1;33m\u001b[0m\u001b[1;33m\u001b[0m\u001b[0m\n\u001b[1;32m---> 14\u001b[1;33m             \u001b[0mdJ0\u001b[0m \u001b[1;33m=\u001b[0m \u001b[0msum\u001b[0m\u001b[1;33m(\u001b[0m\u001b[0mself\u001b[0m\u001b[1;33m.\u001b[0m\u001b[0mpredict\u001b[0m\u001b[1;33m(\u001b[0m\u001b[0mX\u001b[0m\u001b[1;33m)\u001b[0m \u001b[1;33m-\u001b[0m \u001b[0mY\u001b[0m\u001b[1;33m)\u001b[0m \u001b[1;33m/\u001b[0m \u001b[0mlen\u001b[0m\u001b[1;33m(\u001b[0m\u001b[0mX\u001b[0m\u001b[1;33m)\u001b[0m\u001b[1;33m\u001b[0m\u001b[1;33m\u001b[0m\u001b[0m\n\u001b[0m\u001b[0;32m     15\u001b[0m             \u001b[0mdJ1\u001b[0m \u001b[1;33m=\u001b[0m \u001b[0msum\u001b[0m\u001b[1;33m(\u001b[0m\u001b[1;33m(\u001b[0m\u001b[0mself\u001b[0m\u001b[1;33m.\u001b[0m\u001b[0mpredict\u001b[0m\u001b[1;33m(\u001b[0m\u001b[0mX\u001b[0m\u001b[1;33m)\u001b[0m \u001b[1;33m-\u001b[0m \u001b[0mY\u001b[0m\u001b[1;33m)\u001b[0m \u001b[1;33m*\u001b[0m \u001b[0mX\u001b[0m\u001b[1;33m)\u001b[0m \u001b[1;33m/\u001b[0m \u001b[0mlen\u001b[0m\u001b[1;33m(\u001b[0m\u001b[0mX\u001b[0m\u001b[1;33m)\u001b[0m\u001b[1;33m\u001b[0m\u001b[1;33m\u001b[0m\u001b[0m\n\u001b[0;32m     16\u001b[0m             \u001b[0mself\u001b[0m\u001b[1;33m.\u001b[0m\u001b[0mb0\u001b[0m \u001b[1;33m=\u001b[0m \u001b[0mself\u001b[0m\u001b[1;33m.\u001b[0m\u001b[0mb0\u001b[0m \u001b[1;33m-\u001b[0m \u001b[0malpha\u001b[0m\u001b[1;33m*\u001b[0m\u001b[0mdJ0\u001b[0m\u001b[1;33m\u001b[0m\u001b[1;33m\u001b[0m\u001b[0m\n",
      "\u001b[1;31mTypeError\u001b[0m: unsupported operand type(s) for +: 'int' and 'str'"
     ]
    }
   ],
   "source": [
    "model = Parn_reg()\n",
    "steps, errors = model.BGD(Y_sber, Y_mvid)\n",
    "model.predict(Y_sber)\n",
    "print(steps, errors)"
   ]
  },
  {
   "cell_type": "code",
   "execution_count": 172,
   "metadata": {},
   "outputs": [
    {
     "data": {
      "image/png": "[encoded data removed]",
      "text/plain": [
       "<Figure size 432x288 with 1 Axes>"
      ]
     },
     "metadata": {
      "needs_background": "light"
     },
     "output_type": "display_data"
    },
    {
     "data": {
      "text/plain": [
       "array([2000.        , 1998.48267622, 1996.96535245, 1995.44802867,\n",
       "       1993.9307049 , 1992.41338112, 1990.89605735, 1989.37873357,\n",
       "       1987.8614098 , 1986.34408602, 1984.82676225, 1983.30943847,\n",
       "       1981.7921147 , 1980.27479092, 1978.75746714, 1977.24014337,\n",
       "       1975.72281959, 1974.20549582, 1972.68817204, 1971.17084827,\n",
       "       1969.65352449, 1968.13620072, 1966.61887694, 1965.10155317,\n",
       "       1963.58422939, 1962.06690562, 1960.54958184, 1959.03225806,\n",
       "       1957.51493429, 1955.99761051, 1954.48028674, 1952.96296296,\n",
       "       1951.44563919, 1949.92831541, 1948.41099164, 1946.89366786,\n",
       "       1945.37634409, 1943.85902031, 1942.34169654, 1940.82437276,\n",
       "       1939.30704898, 1937.78972521, 1936.27240143, 1934.75507766,\n",
       "       1933.23775388, 1931.72043011, 1930.20310633, 1928.68578256,\n",
       "       1927.16845878, 1925.65113501, 1924.13381123, 1922.61648746,\n",
       "       1921.09916368, 1919.5818399 , 1918.06451613, 1916.54719235,\n",
       "       1915.02986858, 1913.5125448 , 1911.99522103, 1910.47789725,\n",
       "       1908.96057348, 1907.4432497 , 1905.92592593, 1904.40860215,\n",
       "       1902.89127838, 1901.3739546 , 1899.85663082, 1898.33930705,\n",
       "       1896.82198327, 1895.3046595 , 1893.78733572, 1892.27001195,\n",
       "       1890.75268817, 1889.2353644 , 1887.71804062, 1886.20071685,\n",
       "       1884.68339307, 1883.1660693 , 1881.64874552, 1880.13142174,\n",
       "       1878.61409797, 1877.09677419, 1875.57945042, 1874.06212664,\n",
       "       1872.54480287, 1871.02747909, 1869.51015532, 1867.99283154,\n",
       "       1866.47550777, 1864.95818399, 1863.44086022, 1861.92353644,\n",
       "       1860.40621266, 1858.88888889, 1857.37156511, 1855.85424134,\n",
       "       1854.33691756, 1852.81959379, 1851.30227001, 1849.78494624,\n",
       "       1848.26762246, 1846.75029869, 1845.23297491, 1843.71565114,\n",
       "       1842.19832736, 1840.68100358, 1839.16367981, 1837.64635603,\n",
       "       1836.12903226, 1834.61170848, 1833.09438471, 1831.57706093,\n",
       "       1830.05973716, 1828.54241338, 1827.02508961, 1825.50776583,\n",
       "       1823.99044205, 1822.47311828, 1820.9557945 , 1819.43847073,\n",
       "       1817.92114695, 1816.40382318, 1814.8864994 , 1813.36917563,\n",
       "       1811.85185185, 1810.33452808, 1808.8172043 , 1807.29988053,\n",
       "       1805.78255675, 1804.26523297, 1802.7479092 , 1801.23058542,\n",
       "       1799.71326165, 1798.19593787, 1796.6786141 , 1795.16129032,\n",
       "       1793.64396655, 1792.12664277, 1790.609319  , 1789.09199522,\n",
       "       1787.57467145, 1786.05734767, 1784.54002389, 1783.02270012,\n",
       "       1781.50537634, 1779.98805257, 1778.47072879, 1776.95340502,\n",
       "       1775.43608124, 1773.91875747, 1772.40143369, 1770.88410992,\n",
       "       1769.36678614, 1767.84946237, 1766.33213859, 1764.81481481,\n",
       "       1763.29749104, 1761.78016726, 1760.26284349, 1758.74551971,\n",
       "       1757.22819594, 1755.71087216, 1754.19354839, 1752.67622461,\n",
       "       1751.15890084, 1749.64157706, 1748.12425329, 1746.60692951,\n",
       "       1745.08960573, 1743.57228196, 1742.05495818, 1740.53763441,\n",
       "       1739.02031063, 1737.50298686, 1735.98566308, 1734.46833931,\n",
       "       1732.95101553, 1731.43369176, 1729.91636798, 1728.39904421,\n",
       "       1726.88172043, 1725.36439665, 1723.84707288, 1722.3297491 ,\n",
       "       1720.81242533, 1719.29510155, 1717.77777778, 1716.260454  ,\n",
       "       1714.74313023, 1713.22580645, 1711.70848268, 1710.1911589 ,\n",
       "       1708.67383513, 1707.15651135, 1705.63918757, 1704.1218638 ,\n",
       "       1702.60454002, 1701.08721625, 1699.56989247, 1698.0525687 ,\n",
       "       1696.53524492, 1695.01792115, 1693.50059737, 1691.9832736 ,\n",
       "       1690.46594982, 1688.94862605, 1687.43130227, 1685.91397849,\n",
       "       1684.39665472, 1682.87933094, 1681.36200717, 1679.84468339,\n",
       "       1678.32735962, 1676.81003584, 1675.29271207, 1673.77538829,\n",
       "       1672.25806452, 1670.74074074, 1669.22341697, 1667.70609319,\n",
       "       1666.18876941, 1664.67144564, 1663.15412186, 1661.63679809,\n",
       "       1660.11947431, 1658.60215054, 1657.08482676, 1655.56750299,\n",
       "       1654.05017921, 1652.53285544, 1651.01553166, 1649.49820789,\n",
       "       1647.98088411, 1646.46356033, 1644.94623656, 1643.42891278,\n",
       "       1641.91158901, 1640.39426523, 1638.87694146, 1637.35961768,\n",
       "       1635.84229391, 1634.32497013, 1632.80764636, 1631.29032258,\n",
       "       1629.77299881, 1628.25567503, 1626.73835125, 1625.22102748,\n",
       "       1623.7037037 , 1622.18637993, 1620.66905615, 1619.15173238,\n",
       "       1617.6344086 , 1616.11708483, 1614.59976105, 1613.08243728,\n",
       "       1611.5651135 , 1610.04778973, 1608.53046595, 1607.01314217,\n",
       "       1605.4958184 , 1603.97849462, 1602.46117085, 1600.94384707,\n",
       "       1599.4265233 , 1597.90919952, 1596.39187575, 1594.87455197,\n",
       "       1593.3572282 , 1591.83990442, 1590.32258065, 1588.80525687,\n",
       "       1587.28793309, 1585.77060932, 1584.25328554, 1582.73596177,\n",
       "       1581.21863799, 1579.70131422, 1578.18399044, 1576.66666667,\n",
       "       1575.14934289, 1573.63201912, 1572.11469534, 1570.59737157,\n",
       "       1569.08004779, 1567.56272401, 1566.04540024, 1564.52807646,\n",
       "       1563.01075269, 1561.49342891, 1559.97610514, 1558.45878136,\n",
       "       1556.94145759, 1555.42413381, 1553.90681004, 1552.38948626,\n",
       "       1550.87216249, 1549.35483871, 1547.83751493, 1546.32019116,\n",
       "       1544.80286738, 1543.28554361, 1541.76821983, 1540.25089606,\n",
       "       1538.73357228, 1537.21624851, 1535.69892473, 1534.18160096,\n",
       "       1532.66427718, 1531.14695341, 1529.62962963, 1528.11230585,\n",
       "       1526.59498208, 1525.0776583 , 1523.56033453, 1522.04301075,\n",
       "       1520.52568698, 1519.0083632 , 1517.49103943, 1515.97371565,\n",
       "       1514.45639188, 1512.9390681 , 1511.42174432, 1509.90442055,\n",
       "       1508.38709677, 1506.869773  , 1505.35244922, 1503.83512545,\n",
       "       1502.31780167, 1500.8004779 , 1499.28315412, 1497.76583035,\n",
       "       1496.24850657, 1494.7311828 , 1493.21385902, 1491.69653524,\n",
       "       1490.17921147, 1488.66188769, 1487.14456392, 1485.62724014,\n",
       "       1484.10991637, 1482.59259259, 1481.07526882, 1479.55794504,\n",
       "       1478.04062127, 1476.52329749, 1475.00597372, 1473.48864994,\n",
       "       1471.97132616, 1470.45400239, 1468.93667861, 1467.41935484,\n",
       "       1465.90203106, 1464.38470729, 1462.86738351, 1461.35005974,\n",
       "       1459.83273596, 1458.31541219, 1456.79808841, 1455.28076464,\n",
       "       1453.76344086, 1452.24611708, 1450.72879331, 1449.21146953,\n",
       "       1447.69414576, 1446.17682198, 1444.65949821, 1443.14217443,\n",
       "       1441.62485066, 1440.10752688, 1438.59020311, 1437.07287933,\n",
       "       1435.55555556, 1434.03823178, 1432.520908  , 1431.00358423,\n",
       "       1429.48626045, 1427.96893668, 1426.4516129 , 1424.93428913,\n",
       "       1423.41696535, 1421.89964158, 1420.3823178 , 1418.86499403,\n",
       "       1417.34767025, 1415.83034648, 1414.3130227 , 1412.79569892,\n",
       "       1411.27837515, 1409.76105137, 1408.2437276 , 1406.72640382,\n",
       "       1405.20908005, 1403.69175627, 1402.1744325 , 1400.65710872,\n",
       "       1399.13978495, 1397.62246117, 1396.1051374 , 1394.58781362,\n",
       "       1393.07048984, 1391.55316607, 1390.03584229, 1388.51851852,\n",
       "       1387.00119474, 1385.48387097, 1383.96654719, 1382.44922342,\n",
       "       1380.93189964, 1379.41457587, 1377.89725209, 1376.37992832,\n",
       "       1374.86260454, 1373.34528076, 1371.82795699, 1370.31063321,\n",
       "       1368.79330944, 1367.27598566, 1365.75866189, 1364.24133811,\n",
       "       1362.72401434, 1361.20669056, 1359.68936679, 1358.17204301,\n",
       "       1356.65471924, 1355.13739546, 1353.62007168, 1352.10274791,\n",
       "       1350.58542413, 1349.06810036, 1347.55077658, 1346.03345281,\n",
       "       1344.51612903, 1342.99880526, 1341.48148148, 1339.96415771,\n",
       "       1338.44683393, 1336.92951016, 1335.41218638, 1333.8948626 ,\n",
       "       1332.37753883, 1330.86021505, 1329.34289128, 1327.8255675 ,\n",
       "       1326.30824373, 1324.79091995, 1323.27359618, 1321.7562724 ,\n",
       "       1320.23894863, 1318.72162485, 1317.20430108, 1315.6869773 ,\n",
       "       1314.16965352, 1312.65232975, 1311.13500597, 1309.6176822 ,\n",
       "       1308.10035842, 1306.58303465, 1305.06571087, 1303.5483871 ,\n",
       "       1302.03106332, 1300.51373955, 1298.99641577, 1297.479092  ,\n",
       "       1295.96176822, 1294.44444444, 1292.92712067, 1291.40979689,\n",
       "       1289.89247312, 1288.37514934, 1286.85782557, 1285.34050179,\n",
       "       1283.82317802, 1282.30585424, 1280.78853047, 1279.27120669,\n",
       "       1277.75388292, 1276.23655914, 1274.71923536, 1273.20191159,\n",
       "       1271.68458781, 1270.16726404, 1268.64994026, 1267.13261649,\n",
       "       1265.61529271, 1264.09796894, 1262.58064516, 1261.06332139,\n",
       "       1259.54599761, 1258.02867384, 1256.51135006, 1254.99402628,\n",
       "       1253.47670251, 1251.95937873, 1250.44205496, 1248.92473118,\n",
       "       1247.40740741, 1245.89008363, 1244.37275986, 1242.85543608,\n",
       "       1241.33811231, 1239.82078853, 1238.30346476, 1236.78614098,\n",
       "       1235.2688172 , 1233.75149343, 1232.23416965, 1230.71684588,\n",
       "       1229.1995221 , 1227.68219833, 1226.16487455, 1224.64755078,\n",
       "       1223.130227  , 1221.61290323, 1220.09557945, 1218.57825568,\n",
       "       1217.0609319 , 1215.54360812, 1214.02628435, 1212.50896057,\n",
       "       1210.9916368 , 1209.47431302, 1207.95698925, 1206.43966547,\n",
       "       1204.9223417 , 1203.40501792, 1201.88769415, 1200.37037037,\n",
       "       1198.85304659, 1197.33572282, 1195.81839904, 1194.30107527,\n",
       "       1192.78375149, 1191.26642772, 1189.74910394, 1188.23178017,\n",
       "       1186.71445639, 1185.19713262, 1183.67980884, 1182.16248507,\n",
       "       1180.64516129, 1179.12783751, 1177.61051374, 1176.09318996,\n",
       "       1174.57586619, 1173.05854241, 1171.54121864, 1170.02389486,\n",
       "       1168.50657109, 1166.98924731, 1165.47192354, 1163.95459976,\n",
       "       1162.43727599, 1160.91995221, 1159.40262843, 1157.88530466,\n",
       "       1156.36798088, 1154.85065711, 1153.33333333, 1151.81600956,\n",
       "       1150.29868578, 1148.78136201, 1147.26403823, 1145.74671446,\n",
       "       1144.22939068, 1142.71206691, 1141.19474313, 1139.67741935,\n",
       "       1138.16009558, 1136.6427718 , 1135.12544803, 1133.60812425,\n",
       "       1132.09080048, 1130.5734767 , 1129.05615293, 1127.53882915,\n",
       "       1126.02150538, 1124.5041816 , 1122.98685783, 1121.46953405,\n",
       "       1119.95221027, 1118.4348865 , 1116.91756272, 1115.40023895,\n",
       "       1113.88291517, 1112.3655914 , 1110.84826762, 1109.33094385,\n",
       "       1107.81362007, 1106.2962963 , 1104.77897252, 1103.26164875,\n",
       "       1101.74432497, 1100.22700119, 1098.70967742, 1097.19235364,\n",
       "       1095.67502987, 1094.15770609, 1092.64038232, 1091.12305854,\n",
       "       1089.60573477, 1088.08841099, 1086.57108722, 1085.05376344,\n",
       "       1083.53643967, 1082.01911589, 1080.50179211, 1078.98446834,\n",
       "       1077.46714456, 1075.94982079, 1074.43249701, 1072.91517324,\n",
       "       1071.39784946, 1069.88052569, 1068.36320191, 1066.84587814,\n",
       "       1065.32855436, 1063.81123059, 1062.29390681, 1060.77658303,\n",
       "       1059.25925926, 1057.74193548, 1056.22461171, 1054.70728793,\n",
       "       1053.18996416, 1051.67264038, 1050.15531661, 1048.63799283,\n",
       "       1047.12066906, 1045.60334528, 1044.08602151, 1042.56869773,\n",
       "       1041.05137395, 1039.53405018, 1038.0167264 , 1036.49940263,\n",
       "       1034.98207885, 1033.46475508, 1031.9474313 , 1030.43010753,\n",
       "       1028.91278375, 1027.39545998, 1025.8781362 , 1024.36081243,\n",
       "       1022.84348865, 1021.32616487, 1019.8088411 , 1018.29151732,\n",
       "       1016.77419355, 1015.25686977, 1013.739546  , 1012.22222222,\n",
       "       1010.70489845, 1009.18757467, 1007.6702509 , 1006.15292712,\n",
       "       1004.63560335, 1003.11827957, 1001.60095579, 1000.08363202,\n",
       "        998.56630824,  997.04898447,  995.53166069,  994.01433692,\n",
       "        992.49701314,  990.97968937,  989.46236559,  987.94504182,\n",
       "        986.42771804,  984.91039427,  983.39307049,  981.87574671,\n",
       "        980.35842294,  978.84109916,  977.32377539,  975.80645161,\n",
       "        974.28912784,  972.77180406,  971.25448029,  969.73715651,\n",
       "        968.21983274,  966.70250896,  965.18518519,  963.66786141,\n",
       "        962.15053763,  960.63321386,  959.11589008,  957.59856631,\n",
       "        956.08124253,  954.56391876,  953.04659498,  951.52927121,\n",
       "        950.01194743,  948.49462366,  946.97729988,  945.45997611,\n",
       "        943.94265233,  942.42532855,  940.90800478,  939.390681  ,\n",
       "        937.87335723,  936.35603345,  934.83870968,  933.3213859 ,\n",
       "        931.80406213,  930.28673835,  928.76941458,  927.2520908 ,\n",
       "        925.73476703,  924.21744325,  922.70011947,  921.1827957 ,\n",
       "        919.66547192,  918.14814815,  916.63082437,  915.1135006 ,\n",
       "        913.59617682,  912.07885305,  910.56152927,  909.0442055 ,\n",
       "        907.52688172,  906.00955795,  904.49223417,  902.97491039,\n",
       "        901.45758662,  899.94026284,  898.42293907,  896.90561529,\n",
       "        895.38829152,  893.87096774,  892.35364397,  890.83632019,\n",
       "        889.31899642,  887.80167264,  886.28434886,  884.76702509,\n",
       "        883.24970131,  881.73237754,  880.21505376,  878.69772999,\n",
       "        877.18040621,  875.66308244,  874.14575866,  872.62843489,\n",
       "        871.11111111,  869.59378734,  868.07646356,  866.55913978,\n",
       "        865.04181601,  863.52449223,  862.00716846,  860.48984468,\n",
       "        858.97252091,  857.45519713,  855.93787336,  854.42054958,\n",
       "        852.90322581,  851.38590203,  849.86857826,  848.35125448,\n",
       "        846.8339307 ,  845.31660693,  843.79928315,  842.28195938,\n",
       "        840.7646356 ,  839.24731183,  837.72998805,  836.21266428,\n",
       "        834.6953405 ,  833.17801673,  831.66069295,  830.14336918,\n",
       "        828.6260454 ,  827.10872162,  825.59139785,  824.07407407,\n",
       "        822.5567503 ,  821.03942652,  819.52210275,  818.00477897,\n",
       "        816.4874552 ,  814.97013142,  813.45280765,  811.93548387,\n",
       "        810.4181601 ,  808.90083632,  807.38351254,  805.86618877,\n",
       "        804.34886499,  802.83154122,  801.31421744,  799.79689367,\n",
       "        798.27956989,  796.76224612,  795.24492234,  793.72759857,\n",
       "        792.21027479,  790.69295102,  789.17562724,  787.65830346,\n",
       "        786.14097969,  784.62365591,  783.10633214,  781.58900836,\n",
       "        780.07168459,  778.55436081,  777.03703704,  775.51971326,\n",
       "        774.00238949,  772.48506571,  770.96774194,  769.45041816,\n",
       "        767.93309438,  766.41577061,  764.89844683,  763.38112306,\n",
       "        761.86379928,  760.34647551,  758.82915173,  757.31182796,\n",
       "        755.79450418,  754.27718041,  752.75985663,  751.24253286,\n",
       "        749.72520908,  748.2078853 ,  746.69056153,  745.17323775,\n",
       "        743.65591398,  742.1385902 ,  740.62126643,  739.10394265,\n",
       "        737.58661888,  736.0692951 ,  734.55197133,  733.03464755,\n",
       "        731.51732378,  730.        ])"
      ]
     },
     "execution_count": 172,
     "metadata": {},
     "output_type": "execute_result"
    }
   ],
   "source": [
    "X0 = np.linspace(730,2000,838)\n",
    "Y0 = model.predict(np.flip(X0))\n",
    "\n",
    "plt.figure()\n",
    "plt.scatter(Y_sber, Y_mvid)\n",
    "plt.plot(X0, Y0, 'r')\n",
    "plt.show()\n",
    "np.flip(X0)"
   ]
  },
  {
   "cell_type": "code",
   "execution_count": 173,
   "metadata": {},
   "outputs": [
    {
     "name": "stdout",
     "output_type": "stream",
     "text": [
      "     <CLOSE>_x\n",
      "0       1170.0\n",
      "1       1145.1\n",
      "2       1163.0\n",
      "3       1172.1\n",
      "4       1170.0\n",
      "..         ...\n",
      "833     1848.0\n",
      "834     1867.0\n",
      "835     1856.5\n",
      "836     1873.0\n",
      "837     1906.5\n",
      "\n",
      "[838 rows x 1 columns]      <CLOSE>_y\n",
      "0       8970.0\n",
      "1       8928.8\n",
      "2       8980.0\n",
      "3       8949.0\n",
      "4       9100.0\n",
      "..         ...\n",
      "833    10090.0\n",
      "834    10163.0\n",
      "835    10089.0\n",
      "836    10100.0\n",
      "837    10085.0\n",
      "\n",
      "[838 rows x 1 columns]\n"
     ]
    },
    {
     "ename": "TypeError",
     "evalue": "unsupported operand type(s) for +: 'int' and 'str'",
     "output_type": "error",
     "traceback": [
      "\u001b[1;31m---------------------------------------------------------------------------\u001b[0m",
      "\u001b[1;31mTypeError\u001b[0m                                 Traceback (most recent call last)",
      "\u001b[1;32m<ipython-input-173-c8c1bb22b0d7>\u001b[0m in \u001b[0;36m<module>\u001b[1;34m\u001b[0m\n\u001b[1;32m----> 1\u001b[1;33m \u001b[0mmodel\u001b[0m\u001b[1;33m.\u001b[0m\u001b[0merror\u001b[0m\u001b[1;33m(\u001b[0m\u001b[0mY_sber\u001b[0m\u001b[1;33m,\u001b[0m \u001b[0mY_mvid\u001b[0m\u001b[1;33m)\u001b[0m\u001b[1;33m\u001b[0m\u001b[1;33m\u001b[0m\u001b[0m\n\u001b[0m",
      "\u001b[1;32m<ipython-input-159-96c8262491b9>\u001b[0m in \u001b[0;36merror\u001b[1;34m(self, X, Y)\u001b[0m\n\u001b[0;32m      7\u001b[0m     \u001b[1;32mdef\u001b[0m \u001b[0merror\u001b[0m\u001b[1;33m(\u001b[0m\u001b[0mself\u001b[0m\u001b[1;33m,\u001b[0m \u001b[0mX\u001b[0m\u001b[1;33m,\u001b[0m \u001b[0mY\u001b[0m\u001b[1;33m)\u001b[0m\u001b[1;33m:\u001b[0m\u001b[1;33m\u001b[0m\u001b[1;33m\u001b[0m\u001b[0m\n\u001b[0;32m      8\u001b[0m         \u001b[0mprint\u001b[0m\u001b[1;33m(\u001b[0m\u001b[0mX\u001b[0m\u001b[1;33m,\u001b[0m\u001b[0mY\u001b[0m\u001b[1;33m)\u001b[0m\u001b[1;33m\u001b[0m\u001b[1;33m\u001b[0m\u001b[0m\n\u001b[1;32m----> 9\u001b[1;33m         \u001b[1;32mreturn\u001b[0m \u001b[0msum\u001b[0m\u001b[1;33m(\u001b[0m\u001b[1;33m(\u001b[0m\u001b[0mself\u001b[0m\u001b[1;33m.\u001b[0m\u001b[0mpredict\u001b[0m\u001b[1;33m(\u001b[0m\u001b[0mX\u001b[0m\u001b[1;33m)\u001b[0m \u001b[1;33m-\u001b[0m \u001b[0mY\u001b[0m\u001b[1;33m)\u001b[0m \u001b[1;33m**\u001b[0m \u001b[1;36m2\u001b[0m\u001b[1;33m)\u001b[0m \u001b[1;33m/\u001b[0m \u001b[1;33m(\u001b[0m\u001b[1;36m2\u001b[0m\u001b[1;33m*\u001b[0m\u001b[0mlen\u001b[0m\u001b[1;33m(\u001b[0m\u001b[0mX\u001b[0m\u001b[1;33m)\u001b[0m\u001b[1;33m)\u001b[0m\u001b[1;33m\u001b[0m\u001b[1;33m\u001b[0m\u001b[0m\n\u001b[0m\u001b[0;32m     10\u001b[0m     \u001b[1;32mdef\u001b[0m \u001b[0mBGD\u001b[0m\u001b[1;33m(\u001b[0m\u001b[0mself\u001b[0m\u001b[1;33m,\u001b[0m \u001b[0mX\u001b[0m\u001b[1;33m,\u001b[0m \u001b[0mY\u001b[0m\u001b[1;33m)\u001b[0m\u001b[1;33m:\u001b[0m\u001b[1;33m\u001b[0m\u001b[1;33m\u001b[0m\u001b[0m\n\u001b[0;32m     11\u001b[0m         \u001b[0msteps\u001b[0m\u001b[1;33m,\u001b[0m \u001b[0merrors\u001b[0m \u001b[1;33m=\u001b[0m \u001b[1;33m[\u001b[0m\u001b[1;33m]\u001b[0m\u001b[1;33m,\u001b[0m\u001b[1;33m[\u001b[0m\u001b[1;33m]\u001b[0m\u001b[1;33m\u001b[0m\u001b[1;33m\u001b[0m\u001b[0m\n",
      "\u001b[1;31mTypeError\u001b[0m: unsupported operand type(s) for +: 'int' and 'str'"
     ]
    }
   ],
   "source": [
    "model.error(Y_sber, Y_mvid)"
   ]
  },
  {
   "cell_type": "code",
   "execution_count": 174,
   "metadata": {},
   "outputs": [
    {
     "data": {
      "image/png": "[encoded data removed]",
      "text/plain": [
       "<Figure size 432x288 with 1 Axes>"
      ]
     },
     "metadata": {
      "needs_background": "light"
     },
     "output_type": "display_data"
    }
   ],
   "source": [
    "plt.figure()\n",
    "plt.plot(steps, errors, 'r')\n",
    "plt.show()"
   ]
  },
  {
   "cell_type": "code",
   "execution_count": 95,
   "metadata": {},
   "outputs": [],
   "source": [
    "from sklearn.linear_model import LinearRegression"
   ]
  },
  {
   "cell_type": "code",
   "execution_count": 137,
   "metadata": {},
   "outputs": [
    {
     "name": "stdout",
     "output_type": "stream",
     "text": [
      "               0\n",
      "0     740.000000\n",
      "1     741.505376\n",
      "2     743.010753\n",
      "3     744.516129\n",
      "4     746.021505\n",
      "..           ...\n",
      "833  1993.978495\n",
      "834  1995.483871\n",
      "835  1996.989247\n",
      "836  1998.494624\n",
      "837  2000.000000\n",
      "\n",
      "[838 rows x 1 columns]\n"
     ]
    }
   ],
   "source": [
    "clf = LinearRegression(normalize = True)\n",
    "Y_sber = pd.DataFrame(data[\"<CLOSE>_x\"])\n",
    "Y_mvid = pd.DataFrame(data[\"<CLOSE>_y\"])\n",
    "X0 = np.linspace(740,2000,838)\n",
    "X0 = pd.DataFrame(X0)\n",
    "print(X0)"
   ]
  },
  {
   "cell_type": "code",
   "execution_count": 138,
   "metadata": {},
   "outputs": [
    {
     "data": {
      "text/plain": [
       "LinearRegression(copy_X=True, fit_intercept=True, n_jobs=None, normalize=True)"
      ]
     },
     "execution_count": 138,
     "metadata": {},
     "output_type": "execute_result"
    }
   ],
   "source": [
    "clf.fit(Y_sber, Y_mvid)"
   ]
  },
  {
   "cell_type": "code",
   "execution_count": 139,
   "metadata": {},
   "outputs": [],
   "source": [
    "new = clf.predict(X0)"
   ]
  },
  {
   "cell_type": "code",
   "execution_count": 140,
   "metadata": {},
   "outputs": [
    {
     "data": {
      "image/png": "[encoded data removed]",
      "text/plain": [
       "<Figure size 432x288 with 1 Axes>"
      ]
     },
     "metadata": {
      "needs_background": "light"
     },
     "output_type": "display_data"
    }
   ],
   "source": [
    "plt.figure()\n",
    "plt.scatter(Y_sber, Y_mvid)\n",
    "plt.plot(X0, new, 'r')\n",
    "plt.show()"
   ]
  },
  {
   "cell_type": "code",
   "execution_count": 141,
   "metadata": {},
   "outputs": [
    {
     "data": {
      "text/plain": [
       "0.31938228275451963"
      ]
     },
     "execution_count": 141,
     "metadata": {},
     "output_type": "execute_result"
    }
   ],
   "source": [
    "clf.score(Y_sber, Y_mvid, sample_weight=None)"
   ]
  },
  {
   "cell_type": "code",
   "execution_count": 177,
   "metadata": {},
   "outputs": [
    {
     "data": {
      "text/plain": [
       "<bound method BaseEstimator.get_params of LinearRegression(copy_X=True, fit_intercept=True, n_jobs=None, normalize=True)>"
      ]
     },
     "execution_count": 177,
     "metadata": {},
     "output_type": "execute_result"
    }
   ],
   "source": [
    "clf.get_params"
   ]
  },
  {
   "cell_type": "code",
   "execution_count": null,
   "metadata": {},
   "outputs": [],
   "source": []
  },
  {
   "cell_type": "code",
   "execution_count": 61,
   "metadata": {},
   "outputs": [
    {
     "name": "stdout",
     "output_type": "stream",
     "text": [
      "0.31932751580482166\n"
     ]
    }
   ],
   "source": [
    "from sklearn.linear_model import SGDRegressor\n",
    "from sklearn.pipeline import make_pipeline\n",
    "from sklearn.preprocessing import StandardScaler\n",
    "\n",
    "Y_sber_1 = data[\"<CLOSE>_x\"].values.reshape(-1, 1)\n",
    "Y_mvid_1 = data[\"<CLOSE>_y\"].values\n",
    "reg = make_pipeline(StandardScaler(),\n",
    "                    SGDRegressor(max_iter=1000, tol=1e-3))\n",
    "reg.fit(Y_sber_1, Y_mvid_1)\n",
    "kek = reg.predict(X0.values.reshape(-1, 1))\n",
    "\n",
    "print(reg.score(Y_sber_1 , Y_mvid_1))\n",
    "#победил линейную регрессию) Ну а на самом деле- чекать качество выборки по не по тестовой, \n",
    "#а по трейновой выборке- так себе затея"
   ]
  },
  {
   "cell_type": "code",
   "execution_count": 62,
   "metadata": {},
   "outputs": [
    {
     "data": {
      "image/png": "[encoded data removed]",
      "text/plain": [
       "<Figure size 432x288 with 1 Axes>"
      ]
     },
     "metadata": {
      "needs_background": "light"
     },
     "output_type": "display_data"
    }
   ],
   "source": [
    "plt.figure()\n",
    "plt.scatter(Y_sber_1, Y_mvid_1)\n",
    "plt.plot(X0, kek, 'r')\n",
    "plt.show()"
   ]
  },
  {
   "cell_type": "code",
   "execution_count": null,
   "metadata": {},
   "outputs": [],
   "source": []
  },
  {
   "cell_type": "code",
   "execution_count": 102,
   "metadata": {},
   "outputs": [
    {
     "ename": "ValueError",
     "evalue": "Expected 2D array, got 1D array instead:\narray=[ 8970.   8928.8  8980.   8949.   9100.   9070.   8899.   8799.   8912.\n  8890.   8815.   8869.7  9118.   8940.   8898.   8820.   8860.   9068.\n  9369.9  9339.9  9249.7  9480.   9550.   9660.   9765.2  9890.   9950.\n  9800.   9850.   9640.   9475.   9285.1  9380.   9880.   9999.9  9650.\n  9610.   9450.   9240.   9150.   9209.   9340.   9247.   9120.   8648.\n  8940.   9025.   9075.   9199.   9260.   9384.   9565.   9550.   9450.\n  9700.7  9690.   9698.   9769.9  9669.   9345.   9099.   8900.   9010.\n  9409.2  9508.   9750.   9590.   9760.   9810.   9929.   9924.7  9877.\n 10000.   9812.   9840.   9650.   9530.   9750.   9940.  10000.   9957.\n  9845.5  9920.   9884.9  9770.   9987.  10256.  10059.   9998.  10245.\n 10280.  10260.  10390.  10218.1 10150.   9980.   9949.9 10085.  10080.\n 10150.  10180.  10240.  10897.  11205.  11370.  11900.  11849.  11855.\n 11930.  11750.  11750.  11600.  11830.  11790.  11850.  11750.  11789.8\n 11640.  11700.  11752.  11899.  11850.  11899.9 11845.  11795.  11840.\n 12300.  12299.  12010.  11525.  11404.  11201.  11350.  11000.  10770.\n 10195.  10600.  10050.  10600.  10400.  10000.  10100.  10005.   9964.\n 10292.  10160.   9701.   9877.  10400.  10627.  10542.  10689.  11180.\n 11450.  11304.  11350.  11235.  11395.  11855.  12070.  11750.  11540.\n 11270.  10200.  10550.  10590.  10190.  10400.  10340.  10235.  11075.\n 11440.  11490.  11500.  11855.  12250.  11920.  11820.  11766.  11800.\n 11796.  11687.  11510.  11574.  11305.  11367.  11650.  11100.  11360.\n 11347.  10820.  10835.  10600.  10350.  10350.  10360.  10699.  10500.\n 10900.  10550.  10798.  11000.  11140.  11038.  11185.  11350.  11750.\n 11971.  11799.  11900.  12020.  11890.  11744.  11711.  12300.  11801.\n 11870.  11600.  11520.  11664.  12207.  12135.  11900.  11824.  11577.\n 11350.  11458.  11280.  11038.  11083.  11090.  11295.  11220.  11100.\n 11240.  11372.  11042.  10986.  10940.  11035.  11020.  10910.  10813.\n 10653.  10655.  10510.  10456.  10892.  10765.  10750.  10685.  10654.\n 11005.  10895.  11130.  11236.  11556.  11520.  11440.  11385.  11287.\n 11266.  11261.  11220.  11680.  11268.  11399.  11465.  11420.  11331.\n 11401.  11099.  10902.  11055.  11399.  11649.  11669.  11660.  11769.\n 11750.  11510.  11735.  12177.  11885.  11650.  11750.  11671.  11800.\n 12040.  12200.  12268.  12441.  12818.  12309.  12396.  12412.  12320.\n 12149.  12177.  12147.  12162.  12090.  12050.  12105.  11860.  11603.\n 11829.  11631.  11910.  12171.  12275.  11924.  11845.  11935.  11988.\n 12074.  11996.  11763.  11420.  11405.  11313.  11325.  11583.  11650.\n 11543.  11462.  11360.  11377.  11387.  11815.  11566.  11705.  11600.\n 11769.  11581.  11725.  11797.  11763.  11696.  11730.  11667.  11780.\n 11810.  12059.  11707.  11665.  11810.  11800.  11772.  11500.  10809.\n 11359.  11491.  11216.  11136.  11111.  11425.  11468.  11496.  11520.\n 11393.  11255.  11125.  11192.  11290.  11390.  11359.  11427.  11819.\n 12250.  11900.  12022.  12130.  12013.  12005.  11901.  12199.  12270.\n 11799.  11728.  11590.  11180.  11141.  11039.  11030.  11340.  11361.\n 11211.  10656.  10790.  10780.  10850.  10761.  10732.  10743.  10972.\n 11228.  11366.  11350.  11320.  10667.  10367.  10352.  10230.   9640.\n  9940.  10427.  10350.  10850.  11050.  11042.  10975.  11285.  11485.\n 11500.  11270.  11150.  10955.  10889.  10765.  10450.  10103.  10070.\n 10143.  10000.   9920.   9900.  10000.  10318.  10354.  10346.  10655.\n 10475.  10530.  10589.  10648.  10592.  10695.  10715.  10668.  10715.\n 10700.  10900.  10900.  10780.  10880.  10788.  10900.  11400.  11255.\n 11200.  11100.  11041.  10880.  10655.  10575.  10410.  10550.  10470.\n 10470.  10400.  10390.  10332.  10320.  10254.  10129.  10490.  10240.\n 10132.  10125.  10075.  10115.  10162.  10295.   9540.   9180.   8825.\n  9040.   9002.   9006.   9151.   9093.   9038.   8921.   8834.   9036.\n  9430.   9352.   9301.   9200.   9075.   8975.   9150.   9140.   9201.\n  9466.   9408.   9340.   9255.   9190.   9150.   9260.   9388.   9200.\n  8830.   8819.   8660.   8929.   8755.   8750.   8850.   8709.   8488.\n  8450.   8280.   8320.   8300.   8700.   9012.   9101.   9145.   8950.\n  8760.   8753.   9261.   9348.   9404.   9460.   9508.   9461.   9250.\n  9104.   9225.   9400.   9365.  10100.  10475.  10020.  10292.  10210.\n 10381.  10347.  10368.  10450.  10690.  10927.  10846.  10751.  10673.\n 10800.  10835.  10532.  10400.  10380.  10260.  10589.  10643.  10250.\n 10289.  10376.  10492.  10475.  10262.  10308.  10544.  10734.  10615.\n 10670.  10743.  10544.  10372.  10291.  10205.  10167.  10269.  10339.\n 10350.  10648.  10700.  10600.  10789.  10432.  10555.  10530.  10391.\n 10539.  10507.  10490.  10590.  10411.  10491.  10351.  10245.  10219.\n 10144.  10100.  10535.  10567.  10605.  10525.  10526.  10430.  10405.\n 10450.  10551.  10630.  10530.  10421.  10360.   9740.   9860.   9651.\n  9850.   9910.   9870.   9920.  10138.  10267.  10351.  10380.  10450.\n 10487.  10430.  10420.  10380.  10290.  10500.  10297.  10350.  10550.\n 10649.  10580.  10730.  10423.  10350.  10693.  10602.  10532.  10720.\n 10597.  10709.  10750.  10411.  10408.  10327.  10400.  10665.  10795.\n 11000.  11347.  11220.  10875.  10900.  10819.  10534.  10000.   9880.\n  9640.   9830.   9825.   9695.   9800.   9730.   9694.   9690.   9625.\n 10020.   9900.   9625.   9650.   9700.   9495.   9580.   9640.   9550.\n  9577.   9862.  10002.  10078.  10030.  10000.   9930.   9700.   9577.\n  9540.   9194.   8825.   9190.   9133.   9150.   9250.   9175.   9250.\n  9233.   9061.   9155.   9235.   9270.   9346.   9700.   9700.   9780.\n  9730.   9440.   9370.   9350.   9351.   9600.   9327.   9580.   9261.\n  9313.   9261.   9470.   9550.   9430.   9360.   9265.   9100.   9160.\n  8985.   9135.   9113.   9000.   9110.   9070.   9008.   8825.   8823.\n  8825.   8776.   8821.   8685.   8841.   8900.   9140.   9010.   8985.\n  9180.   9238.   9440.   9255.   9190.   9413.   9280.   9205.   9359.\n  9450.   9300.   9240.   9197.   9070.   8875.   8989.   9053.   9204.\n  9270.   9435.   9589.   9588.   9449.   9412.   9539.   9613.   9499.\n  9330.   9280.   9301.   9504.   9471.   9103.   9180.   9115.   9105.\n  9165.   9200.   9313.   9360.   9370.   9340.   9545.   9720.   9618.\n  9600.   9530.   9504.   9405.   9598.   9540.   9750.   9797.   9680.\n  9525.   9372.   9470.   9428.   9321.   9401.   9497.   9407.   9333.\n  9358.   9370.   9360.   9470.   9447.   9335.   9492.   9556.   9744.\n  9812.   9799.  10000.  10247.  10650.  10800.  10590.  10510.  10630.\n 10540.  10544.  10527.  10680.  10795.  10700.  10434.  10397.  10320.\n 10376.  10465.  10340.  10260.  10140.  10090.  10163.  10089.  10100.\n 10085. ].\nReshape your data either using array.reshape(-1, 1) if your data has a single feature or array.reshape(1, -1) if it contains a single sample.",
     "output_type": "error",
     "traceback": [
      "\u001b[1;31m---------------------------------------------------------------------------\u001b[0m",
      "\u001b[1;31mValueError\u001b[0m                                Traceback (most recent call last)",
      "\u001b[1;32m<ipython-input-102-6e8dc720caf5>\u001b[0m in \u001b[0;36m<module>\u001b[1;34m\u001b[0m\n\u001b[0;32m      6\u001b[0m \u001b[0mpoly\u001b[0m \u001b[1;33m=\u001b[0m \u001b[0mPolynomialFeatures\u001b[0m\u001b[1;33m(\u001b[0m\u001b[0mdegree\u001b[0m\u001b[1;33m=\u001b[0m\u001b[1;36m4\u001b[0m\u001b[1;33m)\u001b[0m\u001b[1;33m\u001b[0m\u001b[1;33m\u001b[0m\u001b[0m\n\u001b[0;32m      7\u001b[0m \u001b[0mX_\u001b[0m \u001b[1;33m=\u001b[0m \u001b[0mpoly\u001b[0m\u001b[1;33m.\u001b[0m\u001b[0mfit_transform\u001b[0m\u001b[1;33m(\u001b[0m\u001b[0mY_sber_1\u001b[0m\u001b[1;33m)\u001b[0m\u001b[1;33m\u001b[0m\u001b[1;33m\u001b[0m\u001b[0m\n\u001b[1;32m----> 8\u001b[1;33m \u001b[0mpredict_\u001b[0m \u001b[1;33m=\u001b[0m \u001b[0mpoly\u001b[0m\u001b[1;33m.\u001b[0m\u001b[0mfit_transform\u001b[0m\u001b[1;33m(\u001b[0m\u001b[0mY_mvid_1\u001b[0m\u001b[1;33m)\u001b[0m\u001b[1;33m\u001b[0m\u001b[1;33m\u001b[0m\u001b[0m\n\u001b[0m\u001b[0;32m      9\u001b[0m \u001b[1;33m\u001b[0m\u001b[0m\n\u001b[0;32m     10\u001b[0m \u001b[0mclf\u001b[0m \u001b[1;33m=\u001b[0m \u001b[0mlinear_model\u001b[0m\u001b[1;33m.\u001b[0m\u001b[0mLinearRegression\u001b[0m\u001b[1;33m(\u001b[0m\u001b[1;33m)\u001b[0m\u001b[1;33m\u001b[0m\u001b[1;33m\u001b[0m\u001b[0m\n",
      "\u001b[1;32mc:\\program files\\python37\\lib\\site-packages\\sklearn\\base.py\u001b[0m in \u001b[0;36mfit_transform\u001b[1;34m(self, X, y, **fit_params)\u001b[0m\n\u001b[0;32m    569\u001b[0m         \u001b[1;32mif\u001b[0m \u001b[0my\u001b[0m \u001b[1;32mis\u001b[0m \u001b[1;32mNone\u001b[0m\u001b[1;33m:\u001b[0m\u001b[1;33m\u001b[0m\u001b[1;33m\u001b[0m\u001b[0m\n\u001b[0;32m    570\u001b[0m             \u001b[1;31m# fit method of arity 1 (unsupervised transformation)\u001b[0m\u001b[1;33m\u001b[0m\u001b[1;33m\u001b[0m\u001b[1;33m\u001b[0m\u001b[0m\n\u001b[1;32m--> 571\u001b[1;33m             \u001b[1;32mreturn\u001b[0m \u001b[0mself\u001b[0m\u001b[1;33m.\u001b[0m\u001b[0mfit\u001b[0m\u001b[1;33m(\u001b[0m\u001b[0mX\u001b[0m\u001b[1;33m,\u001b[0m \u001b[1;33m**\u001b[0m\u001b[0mfit_params\u001b[0m\u001b[1;33m)\u001b[0m\u001b[1;33m.\u001b[0m\u001b[0mtransform\u001b[0m\u001b[1;33m(\u001b[0m\u001b[0mX\u001b[0m\u001b[1;33m)\u001b[0m\u001b[1;33m\u001b[0m\u001b[1;33m\u001b[0m\u001b[0m\n\u001b[0m\u001b[0;32m    572\u001b[0m         \u001b[1;32melse\u001b[0m\u001b[1;33m:\u001b[0m\u001b[1;33m\u001b[0m\u001b[1;33m\u001b[0m\u001b[0m\n\u001b[0;32m    573\u001b[0m             \u001b[1;31m# fit method of arity 2 (supervised transformation)\u001b[0m\u001b[1;33m\u001b[0m\u001b[1;33m\u001b[0m\u001b[1;33m\u001b[0m\u001b[0m\n",
      "\u001b[1;32mc:\\program files\\python37\\lib\\site-packages\\sklearn\\preprocessing\\_data.py\u001b[0m in \u001b[0;36mfit\u001b[1;34m(self, X, y)\u001b[0m\n\u001b[0;32m   1506\u001b[0m         \u001b[0mself\u001b[0m \u001b[1;33m:\u001b[0m \u001b[0minstance\u001b[0m\u001b[1;33m\u001b[0m\u001b[1;33m\u001b[0m\u001b[0m\n\u001b[0;32m   1507\u001b[0m         \"\"\"\n\u001b[1;32m-> 1508\u001b[1;33m         \u001b[0mn_samples\u001b[0m\u001b[1;33m,\u001b[0m \u001b[0mn_features\u001b[0m \u001b[1;33m=\u001b[0m \u001b[0mcheck_array\u001b[0m\u001b[1;33m(\u001b[0m\u001b[0mX\u001b[0m\u001b[1;33m,\u001b[0m \u001b[0maccept_sparse\u001b[0m\u001b[1;33m=\u001b[0m\u001b[1;32mTrue\u001b[0m\u001b[1;33m)\u001b[0m\u001b[1;33m.\u001b[0m\u001b[0mshape\u001b[0m\u001b[1;33m\u001b[0m\u001b[1;33m\u001b[0m\u001b[0m\n\u001b[0m\u001b[0;32m   1509\u001b[0m         combinations = self._combinations(n_features, self.degree,\n\u001b[0;32m   1510\u001b[0m                                           \u001b[0mself\u001b[0m\u001b[1;33m.\u001b[0m\u001b[0minteraction_only\u001b[0m\u001b[1;33m,\u001b[0m\u001b[1;33m\u001b[0m\u001b[1;33m\u001b[0m\u001b[0m\n",
      "\u001b[1;32mc:\\program files\\python37\\lib\\site-packages\\sklearn\\utils\\validation.py\u001b[0m in \u001b[0;36mcheck_array\u001b[1;34m(array, accept_sparse, accept_large_sparse, dtype, order, copy, force_all_finite, ensure_2d, allow_nd, ensure_min_samples, ensure_min_features, warn_on_dtype, estimator)\u001b[0m\n\u001b[0;32m    554\u001b[0m                     \u001b[1;34m\"Reshape your data either using array.reshape(-1, 1) if \"\u001b[0m\u001b[1;33m\u001b[0m\u001b[1;33m\u001b[0m\u001b[0m\n\u001b[0;32m    555\u001b[0m                     \u001b[1;34m\"your data has a single feature or array.reshape(1, -1) \"\u001b[0m\u001b[1;33m\u001b[0m\u001b[1;33m\u001b[0m\u001b[0m\n\u001b[1;32m--> 556\u001b[1;33m                     \"if it contains a single sample.\".format(array))\n\u001b[0m\u001b[0;32m    557\u001b[0m \u001b[1;33m\u001b[0m\u001b[0m\n\u001b[0;32m    558\u001b[0m         \u001b[1;31m# in the future np.flexible dtypes will be handled like object dtypes\u001b[0m\u001b[1;33m\u001b[0m\u001b[1;33m\u001b[0m\u001b[1;33m\u001b[0m\u001b[0m\n",
      "\u001b[1;31mValueError\u001b[0m: Expected 2D array, got 1D array instead:\narray=[ 8970.   8928.8  8980.   8949.   9100.   9070.   8899.   8799.   8912.\n  8890.   8815.   8869.7  9118.   8940.   8898.   8820.   8860.   9068.\n  9369.9  9339.9  9249.7  9480.   9550.   9660.   9765.2  9890.   9950.\n  9800.   9850.   9640.   9475.   9285.1  9380.   9880.   9999.9  9650.\n  9610.   9450.   9240.   9150.   9209.   9340.   9247.   9120.   8648.\n  8940.   9025.   9075.   9199.   9260.   9384.   9565.   9550.   9450.\n  9700.7  9690.   9698.   9769.9  9669.   9345.   9099.   8900.   9010.\n  9409.2  9508.   9750.   9590.   9760.   9810.   9929.   9924.7  9877.\n 10000.   9812.   9840.   9650.   9530.   9750.   9940.  10000.   9957.\n  9845.5  9920.   9884.9  9770.   9987.  10256.  10059.   9998.  10245.\n 10280.  10260.  10390.  10218.1 10150.   9980.   9949.9 10085.  10080.\n 10150.  10180.  10240.  10897.  11205.  11370.  11900.  11849.  11855.\n 11930.  11750.  11750.  11600.  11830.  11790.  11850.  11750.  11789.8\n 11640.  11700.  11752.  11899.  11850.  11899.9 11845.  11795.  11840.\n 12300.  12299.  12010.  11525.  11404.  11201.  11350.  11000.  10770.\n 10195.  10600.  10050.  10600.  10400.  10000.  10100.  10005.   9964.\n 10292.  10160.   9701.   9877.  10400.  10627.  10542.  10689.  11180.\n 11450.  11304.  11350.  11235.  11395.  11855.  12070.  11750.  11540.\n 11270.  10200.  10550.  10590.  10190.  10400.  10340.  10235.  11075.\n 11440.  11490.  11500.  11855.  12250.  11920.  11820.  11766.  11800.\n 11796.  11687.  11510.  11574.  11305.  11367.  11650.  11100.  11360.\n 11347.  10820.  10835.  10600.  10350.  10350.  10360.  10699.  10500.\n 10900.  10550.  10798.  11000.  11140.  11038.  11185.  11350.  11750.\n 11971.  11799.  11900.  12020.  11890.  11744.  11711.  12300.  11801.\n 11870.  11600.  11520.  11664.  12207.  12135.  11900.  11824.  11577.\n 11350.  11458.  11280.  11038.  11083.  11090.  11295.  11220.  11100.\n 11240.  11372.  11042.  10986.  10940.  11035.  11020.  10910.  10813.\n 10653.  10655.  10510.  10456.  10892.  10765.  10750.  10685.  10654.\n 11005.  10895.  11130.  11236.  11556.  11520.  11440.  11385.  11287.\n 11266.  11261.  11220.  11680.  11268.  11399.  11465.  11420.  11331.\n 11401.  11099.  10902.  11055.  11399.  11649.  11669.  11660.  11769.\n 11750.  11510.  11735.  12177.  11885.  11650.  11750.  11671.  11800.\n 12040.  12200.  12268.  12441.  12818.  12309.  12396.  12412.  12320.\n 12149.  12177.  12147.  12162.  12090.  12050.  12105.  11860.  11603.\n 11829.  11631.  11910.  12171.  12275.  11924.  11845.  11935.  11988.\n 12074.  11996.  11763.  11420.  11405.  11313.  11325.  11583.  11650.\n 11543.  11462.  11360.  11377.  11387.  11815.  11566.  11705.  11600.\n 11769.  11581.  11725.  11797.  11763.  11696.  11730.  11667.  11780.\n 11810.  12059.  11707.  11665.  11810.  11800.  11772.  11500.  10809.\n 11359.  11491.  11216.  11136.  11111.  11425.  11468.  11496.  11520.\n 11393.  11255.  11125.  11192.  11290.  11390.  11359.  11427.  11819.\n 12250.  11900.  12022.  12130.  12013.  12005.  11901.  12199.  12270.\n 11799.  11728.  11590.  11180.  11141.  11039.  11030.  11340.  11361.\n 11211.  10656.  10790.  10780.  10850.  10761.  10732.  10743.  10972.\n 11228.  11366.  11350.  11320.  10667.  10367.  10352.  10230.   9640.\n  9940.  10427.  10350.  10850.  11050.  11042.  10975.  11285.  11485.\n 11500.  11270.  11150.  10955.  10889.  10765.  10450.  10103.  10070.\n 10143.  10000.   9920.   9900.  10000.  10318.  10354.  10346.  10655.\n 10475.  10530.  10589.  10648.  10592.  10695.  10715.  10668.  10715.\n 10700.  10900.  10900.  10780.  10880.  10788.  10900.  11400.  11255.\n 11200.  11100.  11041.  10880.  10655.  10575.  10410.  10550.  10470.\n 10470.  10400.  10390.  10332.  10320.  10254.  10129.  10490.  10240.\n 10132.  10125.  10075.  10115.  10162.  10295.   9540.   9180.   8825.\n  9040.   9002.   9006.   9151.   9093.   9038.   8921.   8834.   9036.\n  9430.   9352.   9301.   9200.   9075.   8975.   9150.   9140.   9201.\n  9466.   9408.   9340.   9255.   9190.   9150.   9260.   9388.   9200.\n  8830.   8819.   8660.   8929.   8755.   8750.   8850.   8709.   8488.\n  8450.   8280.   8320.   8300.   8700.   9012.   9101.   9145.   8950.\n  8760.   8753.   9261.   9348.   9404.   9460.   9508.   9461.   9250.\n  9104.   9225.   9400.   9365.  10100.  10475.  10020.  10292.  10210.\n 10381.  10347.  10368.  10450.  10690.  10927.  10846.  10751.  10673.\n 10800.  10835.  10532.  10400.  10380.  10260.  10589.  10643.  10250.\n 10289.  10376.  10492.  10475.  10262.  10308.  10544.  10734.  10615.\n 10670.  10743.  10544.  10372.  10291.  10205.  10167.  10269.  10339.\n 10350.  10648.  10700.  10600.  10789.  10432.  10555.  10530.  10391.\n 10539.  10507.  10490.  10590.  10411.  10491.  10351.  10245.  10219.\n 10144.  10100.  10535.  10567.  10605.  10525.  10526.  10430.  10405.\n 10450.  10551.  10630.  10530.  10421.  10360.   9740.   9860.   9651.\n  9850.   9910.   9870.   9920.  10138.  10267.  10351.  10380.  10450.\n 10487.  10430.  10420.  10380.  10290.  10500.  10297.  10350.  10550.\n 10649.  10580.  10730.  10423.  10350.  10693.  10602.  10532.  10720.\n 10597.  10709.  10750.  10411.  10408.  10327.  10400.  10665.  10795.\n 11000.  11347.  11220.  10875.  10900.  10819.  10534.  10000.   9880.\n  9640.   9830.   9825.   9695.   9800.   9730.   9694.   9690.   9625.\n 10020.   9900.   9625.   9650.   9700.   9495.   9580.   9640.   9550.\n  9577.   9862.  10002.  10078.  10030.  10000.   9930.   9700.   9577.\n  9540.   9194.   8825.   9190.   9133.   9150.   9250.   9175.   9250.\n  9233.   9061.   9155.   9235.   9270.   9346.   9700.   9700.   9780.\n  9730.   9440.   9370.   9350.   9351.   9600.   9327.   9580.   9261.\n  9313.   9261.   9470.   9550.   9430.   9360.   9265.   9100.   9160.\n  8985.   9135.   9113.   9000.   9110.   9070.   9008.   8825.   8823.\n  8825.   8776.   8821.   8685.   8841.   8900.   9140.   9010.   8985.\n  9180.   9238.   9440.   9255.   9190.   9413.   9280.   9205.   9359.\n  9450.   9300.   9240.   9197.   9070.   8875.   8989.   9053.   9204.\n  9270.   9435.   9589.   9588.   9449.   9412.   9539.   9613.   9499.\n  9330.   9280.   9301.   9504.   9471.   9103.   9180.   9115.   9105.\n  9165.   9200.   9313.   9360.   9370.   9340.   9545.   9720.   9618.\n  9600.   9530.   9504.   9405.   9598.   9540.   9750.   9797.   9680.\n  9525.   9372.   9470.   9428.   9321.   9401.   9497.   9407.   9333.\n  9358.   9370.   9360.   9470.   9447.   9335.   9492.   9556.   9744.\n  9812.   9799.  10000.  10247.  10650.  10800.  10590.  10510.  10630.\n 10540.  10544.  10527.  10680.  10795.  10700.  10434.  10397.  10320.\n 10376.  10465.  10340.  10260.  10140.  10090.  10163.  10089.  10100.\n 10085. ].\nReshape your data either using array.reshape(-1, 1) if your data has a single feature or array.reshape(1, -1) if it contains a single sample."
     ]
    }
   ],
   "source": [
    "\n"
   ]
  },
  {
   "cell_type": "code",
   "execution_count": null,
   "metadata": {},
   "outputs": [],
   "source": []
  }
 ],
 "metadata": {
  "kernelspec": {
   "display_name": "Python 3",
   "language": "python",
   "name": "python3"
  },
  "language_info": {
   "codemirror_mode": {
    "name": "ipython",
    "version": 3
   },
   "file_extension": ".py",
   "mimetype": "text/x-python",
   "name": "python",
   "nbconvert_exporter": "python",
   "pygments_lexer": "ipython3",
   "version": "3.7.2"
  }
 },
 "nbformat": 4,
 "nbformat_minor": 2
}
