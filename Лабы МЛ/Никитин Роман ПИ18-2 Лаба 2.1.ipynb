{
 "cells": [
  {
   "cell_type": "code",
   "execution_count": 5,
   "metadata": {},
   "outputs": [],
   "source": [
    "import numpy as np\n",
    "import matplotlib.pyplot as plt\n",
    "import pandas as pd\n",
    "from sklearn.datasets import load_breast_cancer\n",
    "from sklearn.model_selection import train_test_split\n",
    "from sklearn.model_selection import GridSearchCV\n",
    "from  sklearn.ensemble import RandomForestClassifier\n",
    "from sklearn.discriminant_analysis import LinearDiscriminantAnalysis\n",
    "from sklearn.neighbors import KNeighborsClassifier\n",
    "from sklearn.svm import SVC\n",
    "from sklearn.model_selection import train_test_split"
   ]
  },
  {
   "cell_type": "code",
   "execution_count": 2,
   "metadata": {},
   "outputs": [],
   "source": [
    "breast_cancer = load_breast_cancer()\n",
    "X = breast_cancer.data\n",
    "y = breast_cancer.target\n",
    "X_2d = X[:, :2]\n",
    "X_train, X_test, y_train, y_test = train_test_split(X_2d, y, test_size = 0.2, random_state=47)"
   ]
  },
  {
   "cell_type": "code",
   "execution_count": 3,
   "metadata": {},
   "outputs": [
    {
     "data": {
      "text/plain": [
       "array([[1.799e+01, 1.038e+01, 1.228e+02, ..., 2.654e-01, 4.601e-01,\n",
       "        1.189e-01],\n",
       "       [2.057e+01, 1.777e+01, 1.329e+02, ..., 1.860e-01, 2.750e-01,\n",
       "        8.902e-02],\n",
       "       [1.969e+01, 2.125e+01, 1.300e+02, ..., 2.430e-01, 3.613e-01,\n",
       "        8.758e-02],\n",
       "       ...,\n",
       "       [1.660e+01, 2.808e+01, 1.083e+02, ..., 1.418e-01, 2.218e-01,\n",
       "        7.820e-02],\n",
       "       [2.060e+01, 2.933e+01, 1.401e+02, ..., 2.650e-01, 4.087e-01,\n",
       "        1.240e-01],\n",
       "       [7.760e+00, 2.454e+01, 4.792e+01, ..., 0.000e+00, 2.871e-01,\n",
       "        7.039e-02]])"
      ]
     },
     "execution_count": 3,
     "metadata": {},
     "output_type": "execute_result"
    }
   ],
   "source": [
    "X"
   ]
  },
  {
   "cell_type": "code",
   "execution_count": 4,
   "metadata": {},
   "outputs": [
    {
     "data": {
      "text/plain": [
       "array([[17.99, 10.38],\n",
       "       [20.57, 17.77],\n",
       "       [19.69, 21.25],\n",
       "       ...,\n",
       "       [16.6 , 28.08],\n",
       "       [20.6 , 29.33],\n",
       "       [ 7.76, 24.54]])"
      ]
     },
     "execution_count": 4,
     "metadata": {},
     "output_type": "execute_result"
    }
   ],
   "source": [
    "X_2d"
   ]
  },
  {
   "cell_type": "code",
   "execution_count": 118,
   "metadata": {},
   "outputs": [
    {
     "data": {
      "text/plain": [
       "455"
      ]
     },
     "execution_count": 118,
     "metadata": {},
     "output_type": "execute_result"
    }
   ],
   "source": [
    "len(X_train)"
   ]
  },
  {
   "cell_type": "code",
   "execution_count": 90,
   "metadata": {},
   "outputs": [
    {
     "name": "stdout",
     "output_type": "stream",
     "text": [
      "0.6945054945054945\n",
      "0.6666666666666666\n"
     ]
    }
   ],
   "source": [
    "clf = SVC(C=0.01)\n",
    " \n",
    "clf.fit(X_train, y_train)\n",
    " \n",
    "print(clf.score(X_train, y_train))\n",
    "print(clf.score(X_test, y_test))"
   ]
  },
  {
   "cell_type": "code",
   "execution_count": 91,
   "metadata": {},
   "outputs": [
    {
     "data": {
      "text/plain": [
       "<matplotlib.legend.Legend at 0x1c201b646a0>"
      ]
     },
     "execution_count": 91,
     "metadata": {},
     "output_type": "execute_result"
    },
    {
     "data": {
      "image/png": "[encoded data removed]",
      "text/plain": [
       "<Figure size 720x360 with 1 Axes>"
      ]
     },
     "metadata": {
      "needs_background": "light"
     },
     "output_type": "display_data"
    }
   ],
   "source": [
    "training_scores = []\n",
    "test_scores = []\n",
    "numbers = []\n",
    " \n",
    "for i in np.linspace(20, len(X_train), 20):\n",
    "    \n",
    "    clf = SVC(C=10, kernel='rbf')\n",
    "    X = X_train[:int(i)]\n",
    "    y = y_train[:int(i)]\n",
    "    clf.fit(X, y)\n",
    "    \n",
    "    numbers.append(int(i))\n",
    "    training_scores.append(clf.score(X_train, y_train))\n",
    "    test_scores.append(clf.score(X_test, y_test))\n",
    "    \n",
    "plt.figure(figsize=(10, 5))\n",
    "plt.plot(numbers, training_scores, label=\"training scores\")\n",
    "plt.plot(numbers, test_scores, label=\"test scores\")\n",
    "plt.legend(loc=\"best\")"
   ]
  },
  {
   "cell_type": "markdown",
   "metadata": {},
   "source": [
    "Чем больше данных для обучения и теста модели, тем лучше модель."
   ]
  },
  {
   "cell_type": "markdown",
   "metadata": {},
   "source": [
    "1) При увеличении количества наблюдений качество модели может вырасти.\n",
    "\n",
    "2) При добавлении новых признаков в модель есть шансы улучшения ее качества.\n",
    "\n",
    "3) Это же касается и полиномиальных признаков.\n",
    "\n",
    "4) Более сложные модели вполне могут улучшить качество предсказания.\n",
    "\n",
    "5) Действия с регуляризацией в данном случае не приведут к улучшению модели."
   ]
  },
  {
   "cell_type": "code",
   "execution_count": 92,
   "metadata": {},
   "outputs": [
    {
     "data": {
      "text/html": [
       "<div>\n",
       "<style scoped>\n",
       "    .dataframe tbody tr th:only-of-type {\n",
       "        vertical-align: middle;\n",
       "    }\n",
       "\n",
       "    .dataframe tbody tr th {\n",
       "        vertical-align: top;\n",
       "    }\n",
       "\n",
       "    .dataframe thead th {\n",
       "        text-align: right;\n",
       "    }\n",
       "</style>\n",
       "<table border=\"1\" class=\"dataframe\">\n",
       "  <thead>\n",
       "    <tr style=\"text-align: right;\">\n",
       "      <th></th>\n",
       "      <th>0</th>\n",
       "      <th>1</th>\n",
       "      <th>y</th>\n",
       "    </tr>\n",
       "  </thead>\n",
       "  <tbody>\n",
       "    <tr>\n",
       "      <th>0</th>\n",
       "      <td>1.000000</td>\n",
       "      <td>0.317126</td>\n",
       "      <td>-0.730193</td>\n",
       "    </tr>\n",
       "    <tr>\n",
       "      <th>1</th>\n",
       "      <td>0.317126</td>\n",
       "      <td>1.000000</td>\n",
       "      <td>-0.405756</td>\n",
       "    </tr>\n",
       "    <tr>\n",
       "      <th>y</th>\n",
       "      <td>-0.730193</td>\n",
       "      <td>-0.405756</td>\n",
       "      <td>1.000000</td>\n",
       "    </tr>\n",
       "  </tbody>\n",
       "</table>\n",
       "</div>"
      ],
      "text/plain": [
       "          0         1         y\n",
       "0  1.000000  0.317126 -0.730193\n",
       "1  0.317126  1.000000 -0.405756\n",
       "y -0.730193 -0.405756  1.000000"
      ]
     },
     "execution_count": 92,
     "metadata": {},
     "output_type": "execute_result"
    }
   ],
   "source": [
    "df = pd.DataFrame(X[:, :2])\n",
    "df['y'] = y\n",
    "df.corr()"
   ]
  },
  {
   "cell_type": "code",
   "execution_count": 109,
   "metadata": {},
   "outputs": [],
   "source": [
    "rfclf = RandomForestClassifier()\n",
    "params = {\n",
    "    'n_estimators': [100,150,200,300,500, 1000],\n",
    "    'criterion': ['gini', 'entropy'],\n",
    "    'max_depth': [4,5,6,7,10],\n",
    "    'min_samples_split': [2,3,4,5],\n",
    "    'max_features': ['auto', 'sqrt', 'log2'],\n",
    "    'class_weight': ['balanced', 'balanced_subsample'],\n",
    "}"
   ]
  },
  {
   "cell_type": "code",
   "execution_count": 110,
   "metadata": {},
   "outputs": [],
   "source": [
    "gscv = GridSearchCV(rfclf, params, n_jobs = -1, verbose = 1, cv=3)"
   ]
  },
  {
   "cell_type": "code",
   "execution_count": 111,
   "metadata": {},
   "outputs": [
    {
     "name": "stdout",
     "output_type": "stream",
     "text": [
      "Fitting 3 folds for each of 1440 candidates, totalling 4320 fits\n"
     ]
    },
    {
     "name": "stderr",
     "output_type": "stream",
     "text": [
      "[Parallel(n_jobs=-1)]: Using backend LokyBackend with 8 concurrent workers.\n",
      "[Parallel(n_jobs=-1)]: Done  34 tasks      | elapsed:    3.5s\n",
      "[Parallel(n_jobs=-1)]: Done 184 tasks      | elapsed:   15.5s\n",
      "[Parallel(n_jobs=-1)]: Done 434 tasks      | elapsed:   41.8s\n",
      "[Parallel(n_jobs=-1)]: Done 784 tasks      | elapsed:  1.3min\n",
      "[Parallel(n_jobs=-1)]: Done 1234 tasks      | elapsed:  2.2min\n",
      "[Parallel(n_jobs=-1)]: Done 1784 tasks      | elapsed:  3.2min\n",
      "[Parallel(n_jobs=-1)]: Done 2434 tasks      | elapsed:  4.5min\n",
      "[Parallel(n_jobs=-1)]: Done 3184 tasks      | elapsed:  6.2min\n",
      "[Parallel(n_jobs=-1)]: Done 4034 tasks      | elapsed:  8.2min\n",
      "[Parallel(n_jobs=-1)]: Done 4320 out of 4320 | elapsed:  8.9min finished\n"
     ]
    },
    {
     "data": {
      "text/plain": [
       "GridSearchCV(cv=3, error_score=nan,\n",
       "             estimator=RandomForestClassifier(bootstrap=True, ccp_alpha=0.0,\n",
       "                                              class_weight=None,\n",
       "                                              criterion='gini', max_depth=None,\n",
       "                                              max_features='auto',\n",
       "                                              max_leaf_nodes=None,\n",
       "                                              max_samples=None,\n",
       "                                              min_impurity_decrease=0.0,\n",
       "                                              min_impurity_split=None,\n",
       "                                              min_samples_leaf=1,\n",
       "                                              min_samples_split=2,\n",
       "                                              min_weight_fraction_leaf=0.0,\n",
       "                                              n_estimators=100, n_jobs=None,...\n",
       "                                              warm_start=False),\n",
       "             iid='deprecated', n_jobs=-1,\n",
       "             param_grid={'class_weight': ['balanced', 'balanced_subsample'],\n",
       "                         'criterion': ['gini', 'entropy'],\n",
       "                         'max_depth': [4, 5, 6, 7, 10],\n",
       "                         'max_features': ['auto', 'sqrt', 'log2'],\n",
       "                         'min_samples_split': [2, 3, 4, 5],\n",
       "                         'n_estimators': [100, 150, 200, 300, 500, 1000]},\n",
       "             pre_dispatch='2*n_jobs', refit=True, return_train_score=False,\n",
       "             scoring=None, verbose=1)"
      ]
     },
     "execution_count": 111,
     "metadata": {},
     "output_type": "execute_result"
    }
   ],
   "source": [
    "gscv.fit(X_train, y_train)"
   ]
  },
  {
   "cell_type": "code",
   "execution_count": 138,
   "metadata": {},
   "outputs": [
    {
     "data": {
      "text/plain": [
       "{'class_weight': 'balanced',\n",
       " 'criterion': 'entropy',\n",
       " 'max_depth': 4,\n",
       " 'max_features': 'sqrt',\n",
       " 'min_samples_split': 2,\n",
       " 'n_estimators': 200}"
      ]
     },
     "execution_count": 138,
     "metadata": {},
     "output_type": "execute_result"
    }
   ],
   "source": [
    "gscv.best_params_"
   ]
  },
  {
   "cell_type": "code",
   "execution_count": 142,
   "metadata": {},
   "outputs": [
    {
     "data": {
      "text/plain": [
       "<matplotlib.legend.Legend at 0x1c26acc39b0>"
      ]
     },
     "execution_count": 142,
     "metadata": {},
     "output_type": "execute_result"
    },
    {
     "data": {
      "image/png": "[encoded data removed]",
      "text/plain": [
       "<Figure size 720x360 with 1 Axes>"
      ]
     },
     "metadata": {
      "needs_background": "light"
     },
     "output_type": "display_data"
    }
   ],
   "source": [
    "training_scores = []\n",
    "test_scores = []\n",
    "numbers = []\n",
    "clf = RandomForestClassifier(\n",
    "        class_weight  = 'balanced',\n",
    "         criterion  = 'entropy',\n",
    "         max_depth  = 3,\n",
    "         max_features  = 'sqrt',\n",
    "         min_samples_split = 10,\n",
    "         n_estimators  = 300)\n",
    "for i in np.linspace(20, len(X_train), 30):\n",
    "    X = X_train[:int(i)]\n",
    "    y = y_train[:int(i)]\n",
    "    clf.fit(X, y)\n",
    "    \n",
    "    numbers.append(int(i))\n",
    "    training_scores.append(clf.score(X_train, y_train))\n",
    "    test_scores.append(clf.score(X_test, y_test))\n",
    "\n",
    "plt.figure(figsize=(10, 5))\n",
    "plt.plot(numbers, training_scores, label=\"training scores\")\n",
    "plt.plot(numbers, test_scores, label=\"test scores\")\n",
    "plt.legend(loc=\"best\")"
   ]
  },
  {
   "cell_type": "code",
   "execution_count": 143,
   "metadata": {},
   "outputs": [
    {
     "name": "stdout",
     "output_type": "stream",
     "text": [
      "0.9164835164835164\n",
      "0.8771929824561403\n"
     ]
    }
   ],
   "source": [
    "clf = RandomForestClassifier(max_depth=3)\n",
    "clf.fit(X_train, y_train)\n",
    "print(clf.score(X_train, y_train))\n",
    "print(clf.score(X_test, y_test))"
   ]
  },
  {
   "cell_type": "markdown",
   "metadata": {},
   "source": [
    "Повторите предыдущий пункт для различных значений C в диапазоне от 0,0001 до 1 000 000. Обратите внимание на шкалу по вертикальной оси. Для каких значений тестовая точность оптимальна? Какие значения дают недообучение? Какие - переобучение?"
   ]
  },
  {
   "cell_type": "code",
   "execution_count": 144,
   "metadata": {},
   "outputs": [
    {
     "name": "stdout",
     "output_type": "stream",
     "text": [
      "[1, 2, 3, 4, 5, 6, 7, 8, 9, 10, 11, 12, 13, 14, 15, 16, 17, 18, 19, 20, 21, 22, 23, 24, 25, 26, 27, 28, 29, 30, 31, 32, 33, 34, 35, 36, 37, 38, 39, 40, 41, 42, 43, 44, 45, 46, 47, 48, 49, 50, 51, 52, 53, 54, 55, 56, 57, 58, 59, 60, 61, 62, 63, 64, 65, 66, 67, 68, 69, 70, 71, 72, 73, 74, 75, 76, 77, 78, 79, 80, 81, 82, 83, 84, 85, 86, 87, 88, 89, 90, 91, 92, 93, 94, 95, 96, 97, 98, 99, 100, 101, 102, 103, 104, 105, 106, 107, 108, 109, 110, 111, 112, 113, 114, 115, 116, 117, 118, 119, 120, 121, 122, 123, 124, 125, 126, 127, 128, 129, 130, 131]\n",
      "[0.0001, 0.0101, 0.0201, 0.0301, 0.0401, 0.0501, 0.0601, 0.0701, 0.0801, 0.0901, 0.1001, 0.1101, 0.1201, 0.1301, 0.1401, 0.1501, 0.1601, 0.1701, 0.1801, 0.1901, 0.2001, 0.2101, 0.2201, 0.2301, 0.2401, 0.2501, 0.2601, 0.2701, 0.2801, 0.2901, 0.3001, 0.3101, 0.3201, 0.3301, 0.3401, 0.3501, 0.3601, 0.3701, 0.3801, 0.3901, 0.4001, 0.4101, 0.4201, 0.4301, 0.4401, 0.4501, 0.4601, 0.4701, 0.4801, 0.4901, 0.5001, 0.5101, 0.5201, 0.5301, 0.5401, 0.5501, 0.5601, 0.5701, 0.5801, 0.5901, 0.6001, 0.6101, 0.6201, 0.6301, 0.6401, 0.6501, 0.6601, 0.6701, 0.6801, 0.6901, 0.7001, 0.7101, 0.7201, 0.7301, 0.7401, 0.7501, 0.7601, 0.7701, 0.7801, 0.7901, 0.8001, 0.8101, 0.8201, 0.8301, 0.8401, 0.8501, 0.8601, 0.8701, 0.8801, 0.8901, 0.9001, 0.9101, 0.9201, 0.9301, 0.9401, 0.9501, 0.9601, 0.9701, 0.9801, 0.9901, 1, 6, 11, 16, 21, 26, 31, 36, 41, 46, 51, 56, 61, 66, 71, 76, 81, 86, 91, 96, 100, 100100, 200100, 300100, 400100, 500100, 600100, 700100, 800100, 900100, 1000000]\n",
      "[0.6307692307692307, 0.6967032967032967, 0.8791208791208791, 0.8857142857142857, 0.8879120879120879, 0.8989010989010989, 0.9054945054945055, 0.9054945054945055, 0.9054945054945055, 0.9076923076923077, 0.9076923076923077, 0.9076923076923077, 0.9076923076923077, 0.9098901098901099, 0.9120879120879121, 0.9120879120879121, 0.9098901098901099, 0.9142857142857143, 0.9120879120879121, 0.9120879120879121, 0.9120879120879121, 0.9120879120879121, 0.9120879120879121, 0.9120879120879121, 0.9120879120879121, 0.9142857142857143, 0.9120879120879121, 0.9120879120879121, 0.9120879120879121, 0.9098901098901099, 0.9098901098901099, 0.9098901098901099, 0.9120879120879121, 0.9120879120879121, 0.9120879120879121, 0.9120879120879121, 0.9120879120879121, 0.9120879120879121, 0.9098901098901099, 0.9098901098901099, 0.9098901098901099, 0.9098901098901099, 0.9098901098901099, 0.9098901098901099, 0.9098901098901099, 0.9098901098901099, 0.9098901098901099, 0.9098901098901099, 0.9098901098901099, 0.9098901098901099, 0.9098901098901099, 0.9076923076923077, 0.9076923076923077, 0.9076923076923077, 0.9076923076923077, 0.9076923076923077, 0.9076923076923077, 0.9076923076923077, 0.9076923076923077, 0.9076923076923077, 0.9076923076923077, 0.9076923076923077, 0.9098901098901099, 0.9120879120879121, 0.9120879120879121, 0.9120879120879121, 0.9120879120879121, 0.9120879120879121, 0.9120879120879121, 0.9120879120879121, 0.9120879120879121, 0.9098901098901099, 0.9120879120879121, 0.9120879120879121, 0.9120879120879121, 0.9120879120879121, 0.9120879120879121, 0.9120879120879121, 0.9120879120879121, 0.9120879120879121, 0.9120879120879121, 0.9120879120879121, 0.9120879120879121, 0.9120879120879121, 0.9120879120879121, 0.9120879120879121, 0.9120879120879121, 0.9120879120879121, 0.9120879120879121, 0.9120879120879121, 0.9120879120879121, 0.9120879120879121, 0.9120879120879121, 0.9120879120879121, 0.9120879120879121, 0.9120879120879121, 0.9120879120879121, 0.9120879120879121, 0.9120879120879121, 0.9120879120879121, 0.9120879120879121, 0.9098901098901099, 0.9120879120879121, 0.9142857142857143, 0.9164835164835164, 0.9164835164835164, 0.9164835164835164, 0.9142857142857143, 0.9142857142857143, 0.9120879120879121, 0.9120879120879121, 0.9120879120879121, 0.9120879120879121, 0.9120879120879121, 0.9142857142857143, 0.9164835164835164, 0.9164835164835164, 0.9164835164835164, 0.9142857142857143, 0.9120879120879121, 0.9120879120879121, 0.9098901098901099, 0.9120879120879121, 0.9120879120879121, 0.9098901098901099, 0.9120879120879121, 0.9120879120879121, 0.9120879120879121, 0.9076923076923077, 0.9076923076923077, 0.9076923076923077]\n",
      "[0.6140350877192983, 0.6666666666666666, 0.8245614035087719, 0.8333333333333334, 0.8421052631578947, 0.8508771929824561, 0.8508771929824561, 0.8508771929824561, 0.8596491228070176, 0.8596491228070176, 0.8596491228070176, 0.8596491228070176, 0.8596491228070176, 0.8596491228070176, 0.868421052631579, 0.868421052631579, 0.868421052631579, 0.8771929824561403, 0.8771929824561403, 0.8771929824561403, 0.868421052631579, 0.868421052631579, 0.868421052631579, 0.868421052631579, 0.8771929824561403, 0.8771929824561403, 0.8771929824561403, 0.868421052631579, 0.8771929824561403, 0.8771929824561403, 0.8771929824561403, 0.8771929824561403, 0.8771929824561403, 0.8771929824561403, 0.8771929824561403, 0.8771929824561403, 0.8771929824561403, 0.8771929824561403, 0.8771929824561403, 0.8771929824561403, 0.8771929824561403, 0.8771929824561403, 0.8771929824561403, 0.8771929824561403, 0.8771929824561403, 0.8771929824561403, 0.8771929824561403, 0.8771929824561403, 0.8771929824561403, 0.8771929824561403, 0.8771929824561403, 0.8771929824561403, 0.8771929824561403, 0.8771929824561403, 0.8771929824561403, 0.8771929824561403, 0.8771929824561403, 0.8771929824561403, 0.8859649122807017, 0.8859649122807017, 0.8859649122807017, 0.8859649122807017, 0.8859649122807017, 0.8771929824561403, 0.8771929824561403, 0.8771929824561403, 0.8771929824561403, 0.8771929824561403, 0.8771929824561403, 0.8771929824561403, 0.8771929824561403, 0.8771929824561403, 0.8771929824561403, 0.8771929824561403, 0.8771929824561403, 0.8771929824561403, 0.8771929824561403, 0.8771929824561403, 0.8771929824561403, 0.8771929824561403, 0.8771929824561403, 0.8771929824561403, 0.8771929824561403, 0.8771929824561403, 0.8771929824561403, 0.8771929824561403, 0.8771929824561403, 0.8771929824561403, 0.8771929824561403, 0.8771929824561403, 0.8771929824561403, 0.8771929824561403, 0.8771929824561403, 0.8771929824561403, 0.8771929824561403, 0.8771929824561403, 0.8771929824561403, 0.8771929824561403, 0.8771929824561403, 0.8771929824561403, 0.8771929824561403, 0.8859649122807017, 0.8771929824561403, 0.8859649122807017, 0.8947368421052632, 0.8947368421052632, 0.8947368421052632, 0.8947368421052632, 0.8947368421052632, 0.8859649122807017, 0.8859649122807017, 0.8859649122807017, 0.8859649122807017, 0.8771929824561403, 0.8771929824561403, 0.8771929824561403, 0.8771929824561403, 0.8771929824561403, 0.8771929824561403, 0.8859649122807017, 0.8859649122807017, 0.8859649122807017, 0.8859649122807017, 0.8859649122807017, 0.8859649122807017, 0.8859649122807017, 0.8859649122807017, 0.8859649122807017, 0.8771929824561403, 0.8771929824561403, 0.8771929824561403]\n"
     ]
    },
    {
     "data": {
      "image/png": "[encoded data removed]",
      "text/plain": [
       "<Figure size 720x360 with 1 Axes>"
      ]
     },
     "metadata": {
      "needs_background": "light"
     },
     "output_type": "display_data"
    }
   ],
   "source": [
    "training_scores = []\n",
    "test_scores = []\n",
    "C = [i/10000 for i in range(1, 10000, 100)]\n",
    "M = [i for i in range(1,100, 5)]\n",
    "N = [i for i in range(100,1000000, 100000)]\n",
    "for i in M:\n",
    "    C.append(i)\n",
    "for i in N:\n",
    "    C.append(i)\n",
    "C.append(1000000)\n",
    "numbers = []\n",
    "kek = 0\n",
    "\n",
    "for c in C:\n",
    "    kek += 1\n",
    "    clf = SVC(c, kernel='rbf')\n",
    "    clf.fit(X_train, y_train)\n",
    "    numbers.append(kek)\n",
    "    training_scores.append(clf.score(X_train, y_train))\n",
    "    test_scores.append(clf.score(X_test, y_test))\n",
    "\n",
    "plt.figure(figsize=(10, 5))\n",
    "plt.plot(numbers, training_scores, label=\"training scores\")\n",
    "plt.plot(numbers, test_scores, label=\"test scores\")\n",
    "plt.legend(loc=\"best\")\n",
    "\n",
    "print(numbers)\n",
    "print(C)\n",
    "print(training_scores)\n",
    "print(test_scores)"
   ]
  },
  {
   "cell_type": "markdown",
   "metadata": {},
   "source": [
    "На оси х - айди итерации. Чтоб более адекватный график был."
   ]
  },
  {
   "cell_type": "markdown",
   "metadata": {},
   "source": [
    "Cfloat, default=1.0\n",
    "Regularization parameter. The strength of the regularization is inversely proportional to C. Must be strictly positive. The penalty is a squared l2 penalty.\n",
    "Вкратце- это параметр регуляризации. Судя по графику, оптимальное значение С=1. В данном случае чем выше степень регуляризации, тем лучше предсказание на тестовом множестве. Оптимально- на единице."
   ]
  },
  {
   "cell_type": "code",
   "execution_count": 147,
   "metadata": {},
   "outputs": [
    {
     "name": "stdout",
     "output_type": "stream",
     "text": [
      "0.9120879120879121\n",
      "0.8771929824561403\n"
     ]
    }
   ],
   "source": [
    "clf = SVC(C=1, kernel='rbf')\n",
    "clf.fit(X_train, y_train)\n",
    "print(clf.score(X_train, y_train))\n",
    "print(clf.score(X_test, y_test))"
   ]
  },
  {
   "cell_type": "code",
   "execution_count": 148,
   "metadata": {},
   "outputs": [
    {
     "name": "stdout",
     "output_type": "stream",
     "text": [
      "0.9076923076923077\n",
      "0.8771929824561403\n"
     ]
    }
   ],
   "source": [
    "clf = SVC(C=1000000, kernel='rbf')\n",
    "clf.fit(X_train, y_train)\n",
    "print(clf.score(X_train, y_train))\n",
    "print(clf.score(X_test, y_test))"
   ]
  },
  {
   "cell_type": "code",
   "execution_count": 149,
   "metadata": {},
   "outputs": [
    {
     "name": "stdout",
     "output_type": "stream",
     "text": [
      "Fitting 3 folds for each of 262 candidates, totalling 786 fits\n"
     ]
    },
    {
     "name": "stderr",
     "output_type": "stream",
     "text": [
      "[Parallel(n_jobs=-1)]: Using backend LokyBackend with 8 concurrent workers.\n",
      "[Parallel(n_jobs=-1)]: Done  34 tasks      | elapsed:    1.3s\n",
      "[Parallel(n_jobs=-1)]: Done 786 out of 786 | elapsed:  3.4min finished\n"
     ]
    },
    {
     "data": {
      "text/plain": [
       "{'C': 0.2601, 'kernel': 'rbf'}"
      ]
     },
     "execution_count": 149,
     "metadata": {},
     "output_type": "execute_result"
    }
   ],
   "source": [
    "clf = SVC()\n",
    "params = {'C': C, 'kernel': ['rbf', 'linear']}\n",
    "gscv = GridSearchCV(clf, params, n_jobs = -1, verbose = 1, cv=3)\n",
    "gscv.fit(X_train, y_train)\n",
    "gscv.best_params_"
   ]
  },
  {
   "cell_type": "code",
   "execution_count": 152,
   "metadata": {},
   "outputs": [
    {
     "name": "stdout",
     "output_type": "stream",
     "text": [
      "0.9120879120879121\n",
      "0.8771929824561403\n"
     ]
    }
   ],
   "source": [
    "clf = SVC(C= 0.2601, kernel= 'rbf').fit(X_train, y_train)\n",
    "clf.fit(X_train, y_train)\n",
    "print(clf.score(X_train, y_train))\n",
    "print(clf.score(X_test, y_test))"
   ]
  },
  {
   "cell_type": "markdown",
   "metadata": {},
   "source": [
    "Лучше модель с rbf ядром."
   ]
  },
  {
   "cell_type": "code",
   "execution_count": 153,
   "metadata": {},
   "outputs": [
    {
     "data": {
      "text/plain": [
       "<matplotlib.legend.Legend at 0x1c20ce3f908>"
      ]
     },
     "execution_count": 153,
     "metadata": {},
     "output_type": "execute_result"
    },
    {
     "data": {
      "image/png": "[encoded data removed]",
      "text/plain": [
       "<Figure size 720x360 with 1 Axes>"
      ]
     },
     "metadata": {
      "needs_background": "light"
     },
     "output_type": "display_data"
    }
   ],
   "source": [
    "training_scores = []\n",
    "test_scores = []\n",
    "numbers = []\n",
    "clf = SVC(degree=3, kernel='poly')\n",
    "\n",
    "for i in np.linspace(20, len(X_train), 20):\n",
    "    \n",
    "    X = X_train[:int(i)]\n",
    "    y = y_train[:int(i)]\n",
    "    clf.fit(X, y)\n",
    "    \n",
    "    numbers.append(int(i))\n",
    "    training_scores.append(clf.score(X_train, y_train))\n",
    "    test_scores.append(clf.score(X_test, y_test))\n",
    "    \n",
    "plt.figure(figsize=(10, 5))\n",
    "plt.plot(numbers, training_scores, label=\"training scores\")\n",
    "plt.plot(numbers, test_scores, label=\"test scores\")\n",
    "plt.legend(loc=\"best\")"
   ]
  },
  {
   "cell_type": "markdown",
   "metadata": {},
   "source": [
    "Что очевидно, полином справляется с задачей лучше линейного ядра. В данном случае при степени свободы 3 сложно сильно переобучить модель, поэтому можно считать ее близкой к эталонной."
   ]
  },
  {
   "cell_type": "code",
   "execution_count": 4,
   "metadata": {},
   "outputs": [
    {
     "name": "stdout",
     "output_type": "stream",
     "text": [
      "1\n",
      "3\n",
      "5\n",
      "7\n",
      "[1, 3, 5, 7]\n",
      "[1, 3, 5, 7]\n",
      "[0.8901098901098901, 0.9032967032967033, 0.9120879120879121, 0.8791208791208791]\n",
      "[0.8859649122807017, 0.8947368421052632, 0.8771929824561403, 0.8596491228070176]\n"
     ]
    },
    {
     "data": {
      "image/png": "[encoded data removed]",
      "text/plain": [
       "<Figure size 720x360 with 1 Axes>"
      ]
     },
     "metadata": {
      "needs_background": "light"
     },
     "output_type": "display_data"
    }
   ],
   "source": [
    "training_scores = []\n",
    "test_scores = []\n",
    "numbers = []\n",
    "degrees = [i for i in range(1,8, 2)]\n",
    "\n",
    "for degree in degrees:\n",
    "    clf = SVC(degree = degree, kernel='poly')\n",
    "    clf.fit(X_train, y_train)\n",
    "    numbers.append(degree)\n",
    "    training_scores.append(clf.score(X_train, y_train))\n",
    "    test_scores.append(clf.score(X_test, y_test))\n",
    "    print(degree)\n",
    "\n",
    "plt.figure(figsize=(10, 5))\n",
    "plt.plot(numbers, training_scores, label=\"training scores\")\n",
    "plt.plot(numbers, test_scores, label=\"test scores\")\n",
    "plt.legend(loc=\"best\")\n",
    "\n",
    "print(numbers)\n",
    "print(degrees)\n",
    "print(training_scores)\n",
    "print(test_scores)"
   ]
  },
  {
   "cell_type": "markdown",
   "metadata": {},
   "source": [
    "В этом же примере видно, что при повышении степени полинома, мы недообучиваем модель, что не есть хорошо. Оптимальная степень-3. Забавный факт- по дефолту стоит именно 3. Совпадение? Не думаю!)"
   ]
  },
  {
   "cell_type": "markdown",
   "metadata": {},
   "source": [
    "Другие модели и другие гиперпараметры в студию:"
   ]
  },
  {
   "cell_type": "code",
   "execution_count": 8,
   "metadata": {},
   "outputs": [
    {
     "name": "stdout",
     "output_type": "stream",
     "text": [
      "[3, 5, 7, 9, 11, 13, 15, 17, 19]\n",
      "[1, 3, 5, 7]\n",
      "[0.9230769230769231, 0.9362637362637363, 0.9758241758241758, 0.9978021978021978, 1.0, 1.0, 0.9978021978021978, 1.0, 1.0]\n",
      "[0.868421052631579, 0.868421052631579, 0.8421052631578947, 0.8508771929824561, 0.8508771929824561, 0.8508771929824561, 0.8508771929824561, 0.8508771929824561, 0.8596491228070176]\n"
     ]
    },
    {
     "data": {
      "image/png": "[encoded data removed]",
      "text/plain": [
       "<Figure size 720x360 with 1 Axes>"
      ]
     },
     "metadata": {
      "needs_background": "light"
     },
     "output_type": "display_data"
    }
   ],
   "source": [
    "training_scores = []\n",
    "test_scores = []\n",
    "numbers = []\n",
    "max_depths = [i for i in range(3,20, 2)]\n",
    "\n",
    "for max_depth in max_depths:\n",
    "    clf = RandomForestClassifier(max_depth = max_depth)\n",
    "    clf.fit(X_train, y_train)\n",
    "    numbers.append(max_depth)\n",
    "    training_scores.append(clf.score(X_train, y_train))\n",
    "    test_scores.append(clf.score(X_test, y_test))\n",
    "\n",
    "plt.figure(figsize=(10, 5))\n",
    "plt.plot(numbers, training_scores, label=\"training scores\")\n",
    "plt.plot(numbers, test_scores, label=\"test scores\")\n",
    "plt.legend(loc=\"best\")\n",
    "\n",
    "print(numbers)\n",
    "print(degrees)\n",
    "print(training_scores)\n",
    "print(test_scores)"
   ]
  },
  {
   "cell_type": "markdown",
   "metadata": {},
   "source": [
    "Чем больше глубина спуска, тем сильнее каждыя модель из ансамбля рандомных деревьев переобучается на нашем датасете. Из за того, что фичи всего 2, рандом форест на этой задаче работает плохо. Больше фичей в студию и тогда поговорим!"
   ]
  },
  {
   "cell_type": "code",
   "execution_count": 22,
   "metadata": {},
   "outputs": [
    {
     "name": "stdout",
     "output_type": "stream",
     "text": [
      "[1, 2, 3, 4, 5, 6, 7, 8, 9, 10, 11, 12, 13, 14, 15, 16, 17, 18, 19]\n",
      "[1, 2, 3, 4, 5, 6, 7, 8, 9, 10, 11, 12, 13, 14, 15, 16, 17, 18, 19]\n",
      "[1.0, 0.9252747252747253, 0.9340659340659341, 0.9120879120879121, 0.9142857142857143, 0.9120879120879121, 0.9076923076923077, 0.9054945054945055, 0.9010989010989011, 0.9098901098901099, 0.9010989010989011, 0.9032967032967033, 0.9076923076923077, 0.9054945054945055, 0.9010989010989011, 0.9032967032967033, 0.9054945054945055, 0.9010989010989011, 0.9032967032967033]\n",
      "[0.8508771929824561, 0.8421052631578947, 0.8157894736842105, 0.8421052631578947, 0.8421052631578947, 0.8333333333333334, 0.8508771929824561, 0.868421052631579, 0.8771929824561403, 0.8771929824561403, 0.868421052631579, 0.8859649122807017, 0.868421052631579, 0.8859649122807017, 0.8771929824561403, 0.9035087719298246, 0.8947368421052632, 0.9035087719298246, 0.8947368421052632]\n"
     ]
    },
    {
     "data": {
      "image/png": "[encoded data removed]",
      "text/plain": [
       "<Figure size 720x360 with 1 Axes>"
      ]
     },
     "metadata": {
      "needs_background": "light"
     },
     "output_type": "display_data"
    }
   ],
   "source": [
    "training_scores = []\n",
    "test_scores = []\n",
    "numbers = []\n",
    "params = [i for i in range(1,20)]\n",
    "\n",
    "for param in params:\n",
    "    clf = KNeighborsClassifier(n_neighbors=param)\n",
    "    clf.fit(X_train, y_train)\n",
    "    numbers.append(param)\n",
    "    training_scores.append(clf.score(X_train, y_train))\n",
    "    test_scores.append(clf.score(X_test, y_test))\n",
    "\n",
    "plt.figure(figsize=(10, 5))\n",
    "plt.plot(numbers, training_scores, label=\"training scores\")\n",
    "plt.plot(numbers, test_scores, label=\"test scores\")\n",
    "plt.legend(loc=\"best\")\n",
    "\n",
    "print(numbers)\n",
    "print(params)\n",
    "print(training_scores)\n",
    "print(test_scores)"
   ]
  },
  {
   "cell_type": "markdown",
   "metadata": {},
   "source": [
    "Чем большее количество ближайших соседей нас интересует при классифицировании конкретной точки, тем больше сходятся наши трейны и тесты. На мой взгляд, оптимальное значение для данного параметра- 16"
   ]
  },
  {
   "cell_type": "code",
   "execution_count": 23,
   "metadata": {},
   "outputs": [
    {
     "name": "stdout",
     "output_type": "stream",
     "text": [
      "[1, 2, 3, 4, 5, 6, 7, 8, 9, 10, 11, 12, 13, 14, 15, 16, 17, 18, 19, 20, 21, 22, 23, 24, 25, 26, 27, 28, 29, 30, 31, 32, 33, 34, 35, 36, 37, 38, 39, 40, 41, 42, 43, 44, 45, 46, 47, 48, 49, 50, 51, 52, 53, 54, 55, 56, 57, 58, 59, 60, 61, 62, 63, 64, 65, 66, 67, 68, 69, 70, 71, 72, 73, 74, 75, 76, 77, 78, 79, 80, 81, 82, 83, 84, 85, 86, 87, 88, 89, 90, 91, 92, 93, 94, 95, 96, 97, 98, 99, 100, 101, 102, 103, 104, 105, 106, 107, 108, 109, 110, 111, 112, 113, 114, 115, 116, 117, 118, 119, 120, 121, 122, 123, 124, 125, 126, 127, 128, 129, 130, 131]\n",
      "[0.0001, 0.0101, 0.0201, 0.0301, 0.0401, 0.0501, 0.0601, 0.0701, 0.0801, 0.0901, 0.1001, 0.1101, 0.1201, 0.1301, 0.1401, 0.1501, 0.1601, 0.1701, 0.1801, 0.1901, 0.2001, 0.2101, 0.2201, 0.2301, 0.2401, 0.2501, 0.2601, 0.2701, 0.2801, 0.2901, 0.3001, 0.3101, 0.3201, 0.3301, 0.3401, 0.3501, 0.3601, 0.3701, 0.3801, 0.3901, 0.4001, 0.4101, 0.4201, 0.4301, 0.4401, 0.4501, 0.4601, 0.4701, 0.4801, 0.4901, 0.5001, 0.5101, 0.5201, 0.5301, 0.5401, 0.5501, 0.5601, 0.5701, 0.5801, 0.5901, 0.6001, 0.6101, 0.6201, 0.6301, 0.6401, 0.6501, 0.6601, 0.6701, 0.6801, 0.6901, 0.7001, 0.7101, 0.7201, 0.7301, 0.7401, 0.7501, 0.7601, 0.7701, 0.7801, 0.7901, 0.8001, 0.8101, 0.8201, 0.8301, 0.8401, 0.8501, 0.8601, 0.8701, 0.8801, 0.8901, 0.9001, 0.9101, 0.9201, 0.9301, 0.9401, 0.9501, 0.9601, 0.9701, 0.9801, 0.9901, 1, 6, 11, 16, 21, 26, 31, 36, 41, 46, 51, 56, 61, 66, 71, 76, 81, 86, 91, 96, 100, 100100, 200100, 300100, 400100, 500100, 600100, 700100, 800100, 900100, 1000000]\n",
      "[0.6307692307692307, 0.7912087912087912, 0.8615384615384616, 0.8681318681318682, 0.8747252747252747, 0.8769230769230769, 0.8813186813186813, 0.8835164835164835, 0.8901098901098901, 0.8923076923076924, 0.8945054945054945, 0.8967032967032967, 0.8967032967032967, 0.8967032967032967, 0.8989010989010989, 0.8989010989010989, 0.9010989010989011, 0.8989010989010989, 0.8989010989010989, 0.9010989010989011, 0.9032967032967033, 0.9054945054945055, 0.9054945054945055, 0.9054945054945055, 0.9054945054945055, 0.9054945054945055, 0.9076923076923077, 0.9076923076923077, 0.9076923076923077, 0.9076923076923077, 0.9076923076923077, 0.9076923076923077, 0.9076923076923077, 0.9076923076923077, 0.9076923076923077, 0.9076923076923077, 0.9076923076923077, 0.9098901098901099, 0.9098901098901099, 0.9098901098901099, 0.9076923076923077, 0.9076923076923077, 0.9076923076923077, 0.9076923076923077, 0.9076923076923077, 0.9076923076923077, 0.9076923076923077, 0.9076923076923077, 0.9076923076923077, 0.9076923076923077, 0.9076923076923077, 0.9098901098901099, 0.9076923076923077, 0.9076923076923077, 0.9076923076923077, 0.9076923076923077, 0.9076923076923077, 0.9120879120879121, 0.9142857142857143, 0.9142857142857143, 0.9142857142857143, 0.9142857142857143, 0.9142857142857143, 0.9142857142857143, 0.9142857142857143, 0.9142857142857143, 0.9142857142857143, 0.9142857142857143, 0.9142857142857143, 0.9142857142857143, 0.9120879120879121, 0.9120879120879121, 0.9142857142857143, 0.9142857142857143, 0.9142857142857143, 0.9142857142857143, 0.9142857142857143, 0.9142857142857143, 0.9142857142857143, 0.9098901098901099, 0.9098901098901099, 0.9098901098901099, 0.9098901098901099, 0.9098901098901099, 0.9164835164835164, 0.9164835164835164, 0.9186813186813186, 0.9208791208791208, 0.9208791208791208, 0.9208791208791208, 0.9208791208791208, 0.9208791208791208, 0.9208791208791208, 0.9208791208791208, 0.9186813186813186, 0.9186813186813186, 0.9208791208791208, 0.9208791208791208, 0.9208791208791208, 0.9230769230769231, 0.9230769230769231, 0.9274725274725275, 0.9252747252747253, 0.9274725274725275, 0.9252747252747253, 0.9318681318681319, 0.9340659340659341, 0.9340659340659341, 0.9384615384615385, 0.9362637362637363, 0.9340659340659341, 0.9362637362637363, 0.9384615384615385, 0.9384615384615385, 0.9384615384615385, 0.9384615384615385, 0.9384615384615385, 0.9384615384615385, 0.9406593406593406, 0.9406593406593406, 0.9406593406593406, 0.978021978021978, 0.978021978021978, 0.978021978021978, 0.9802197802197802, 0.9824175824175824, 0.9824175824175824, 0.9802197802197802, 0.9802197802197802, 0.9802197802197802, 0.9802197802197802]\n",
      "[0.6140350877192983, 0.7807017543859649, 0.8596491228070176, 0.868421052631579, 0.868421052631579, 0.8771929824561403, 0.868421052631579, 0.8771929824561403, 0.8771929824561403, 0.8771929824561403, 0.8771929824561403, 0.8771929824561403, 0.8771929824561403, 0.8771929824561403, 0.8771929824561403, 0.8771929824561403, 0.8859649122807017, 0.8771929824561403, 0.8771929824561403, 0.8859649122807017, 0.8859649122807017, 0.8859649122807017, 0.8859649122807017, 0.8859649122807017, 0.8859649122807017, 0.8859649122807017, 0.8859649122807017, 0.8859649122807017, 0.8859649122807017, 0.8859649122807017, 0.8859649122807017, 0.8859649122807017, 0.8859649122807017, 0.8859649122807017, 0.8859649122807017, 0.8859649122807017, 0.8859649122807017, 0.8859649122807017, 0.8859649122807017, 0.8859649122807017, 0.8859649122807017, 0.8947368421052632, 0.8947368421052632, 0.8947368421052632, 0.8947368421052632, 0.9035087719298246, 0.9035087719298246, 0.9035087719298246, 0.9035087719298246, 0.9035087719298246, 0.8947368421052632, 0.8947368421052632, 0.8947368421052632, 0.8947368421052632, 0.8947368421052632, 0.8947368421052632, 0.8947368421052632, 0.8947368421052632, 0.8947368421052632, 0.8947368421052632, 0.8947368421052632, 0.8947368421052632, 0.8947368421052632, 0.8947368421052632, 0.8947368421052632, 0.8947368421052632, 0.8947368421052632, 0.8947368421052632, 0.8947368421052632, 0.8947368421052632, 0.8947368421052632, 0.8947368421052632, 0.8947368421052632, 0.8947368421052632, 0.8947368421052632, 0.8947368421052632, 0.8947368421052632, 0.8947368421052632, 0.8947368421052632, 0.8947368421052632, 0.8947368421052632, 0.8947368421052632, 0.8947368421052632, 0.8947368421052632, 0.8947368421052632, 0.9035087719298246, 0.9035087719298246, 0.9035087719298246, 0.9035087719298246, 0.9122807017543859, 0.9122807017543859, 0.9122807017543859, 0.9035087719298246, 0.9035087719298246, 0.9035087719298246, 0.9035087719298246, 0.9035087719298246, 0.9035087719298246, 0.9122807017543859, 0.9122807017543859, 0.9122807017543859, 0.9122807017543859, 0.9210526315789473, 0.9385964912280702, 0.9298245614035088, 0.9210526315789473, 0.9210526315789473, 0.9210526315789473, 0.9298245614035088, 0.9298245614035088, 0.9298245614035088, 0.9298245614035088, 0.9298245614035088, 0.9298245614035088, 0.9298245614035088, 0.9298245614035088, 0.9298245614035088, 0.9298245614035088, 0.9298245614035088, 0.9298245614035088, 0.9298245614035088, 0.9473684210526315, 0.9473684210526315, 0.956140350877193, 0.956140350877193, 0.956140350877193, 0.956140350877193, 0.956140350877193, 0.956140350877193, 0.9473684210526315, 0.9473684210526315]\n"
     ]
    },
    {
     "data": {
      "image/png": "[encoded data removed]",
      "text/plain": [
       "<Figure size 720x360 with 1 Axes>"
      ]
     },
     "metadata": {
      "needs_background": "light"
     },
     "output_type": "display_data"
    }
   ],
   "source": [
    "X_train, X_test, y_train, y_test = train_test_split(X, y, test_size = 0.2, random_state=47)\n",
    "training_scores = []\n",
    "test_scores = []\n",
    "C = [i/10000 for i in range(1, 10000, 100)]\n",
    "M = [i for i in range(1,100, 5)]\n",
    "N = [i for i in range(100,1000000, 100000)]\n",
    "for i in M:\n",
    "    C.append(i)\n",
    "for i in N:\n",
    "    C.append(i)\n",
    "C.append(1000000)\n",
    "numbers = []\n",
    "kek = 0\n",
    "\n",
    "for c in C:\n",
    "    kek += 1\n",
    "    clf = SVC(c, kernel='rbf')\n",
    "    clf.fit(X_train, y_train)\n",
    "    numbers.append(kek)\n",
    "    training_scores.append(clf.score(X_train, y_train))\n",
    "    test_scores.append(clf.score(X_test, y_test))\n",
    "\n",
    "plt.figure(figsize=(10, 5))\n",
    "plt.plot(numbers, training_scores, label=\"training scores\")\n",
    "plt.plot(numbers, test_scores, label=\"test scores\")\n",
    "plt.legend(loc=\"best\")\n",
    "\n",
    "print(numbers)\n",
    "print(C)\n",
    "print(training_scores)\n",
    "print(test_scores)"
   ]
  },
  {
   "cell_type": "markdown",
   "metadata": {},
   "source": [
    "При большем количестве фичей качество модели заметно выросло, что не удивительно. Так же при высоких значениях регуляризации достигается и пик предсказательной силы модели."
   ]
  },
  {
   "cell_type": "markdown",
   "metadata": {},
   "source": [
    "Ниже- Случайный Лес. Проверим его."
   ]
  },
  {
   "cell_type": "code",
   "execution_count": 27,
   "metadata": {},
   "outputs": [
    {
     "name": "stdout",
     "output_type": "stream",
     "text": [
      "[2, 3, 4, 5, 6, 7, 8, 9]\n",
      "[1, 3, 5, 7]\n",
      "[0.967032967032967, 0.9802197802197802, 0.9868131868131869, 0.9934065934065934, 0.9956043956043956, 0.9978021978021978, 1.0, 1.0]\n",
      "[0.9385964912280702, 0.956140350877193, 0.956140350877193, 0.9473684210526315, 0.956140350877193, 0.9473684210526315, 0.956140350877193, 0.9473684210526315]\n"
     ]
    },
    {
     "data": {
      "image/png": "[encoded data removed]",
      "text/plain": [
       "<Figure size 720x360 with 1 Axes>"
      ]
     },
     "metadata": {
      "needs_background": "light"
     },
     "output_type": "display_data"
    }
   ],
   "source": [
    "training_scores = []\n",
    "test_scores = []\n",
    "numbers = []\n",
    "max_depths = [i for i in range(2,10)]\n",
    "\n",
    "for max_depth in max_depths:\n",
    "    clf = RandomForestClassifier(max_depth = max_depth)\n",
    "    clf.fit(X_train, y_train)\n",
    "    numbers.append(max_depth)\n",
    "    training_scores.append(clf.score(X_train, y_train))\n",
    "    test_scores.append(clf.score(X_test, y_test))\n",
    "\n",
    "plt.figure(figsize=(10, 5))\n",
    "plt.plot(numbers, training_scores, label=\"training scores\")\n",
    "plt.plot(numbers, test_scores, label=\"test scores\")\n",
    "plt.legend(loc=\"best\")\n",
    "\n",
    "print(numbers)\n",
    "print(degrees)\n",
    "print(training_scores)\n",
    "print(test_scores)"
   ]
  },
  {
   "cell_type": "code",
   "execution_count": 28,
   "metadata": {},
   "outputs": [],
   "source": [
    "rfclf = RandomForestClassifier()\n",
    "params = {\n",
    "    'n_estimators': [100,200,300,500, 750, 1000],\n",
    "    'criterion': ['gini', 'entropy'],\n",
    "    'max_depth': [4,5,7,10],\n",
    "    'min_samples_split': [2,4,7],\n",
    "    'max_features': ['auto', 'sqrt', 'log2'],\n",
    "    'class_weight': ['balanced', 'balanced_subsample'],\n",
    "}"
   ]
  },
  {
   "cell_type": "code",
   "execution_count": 29,
   "metadata": {},
   "outputs": [
    {
     "name": "stdout",
     "output_type": "stream",
     "text": [
      "Fitting 3 folds for each of 864 candidates, totalling 2592 fits\n"
     ]
    },
    {
     "name": "stderr",
     "output_type": "stream",
     "text": [
      "[Parallel(n_jobs=-1)]: Using backend LokyBackend with 8 concurrent workers.\n",
      "[Parallel(n_jobs=-1)]: Done  34 tasks      | elapsed:    4.9s\n",
      "[Parallel(n_jobs=-1)]: Done 184 tasks      | elapsed:   24.5s\n",
      "[Parallel(n_jobs=-1)]: Done 434 tasks      | elapsed:  1.1min\n",
      "[Parallel(n_jobs=-1)]: Done 784 tasks      | elapsed:  2.0min\n",
      "[Parallel(n_jobs=-1)]: Done 1234 tasks      | elapsed:  3.4min\n",
      "[Parallel(n_jobs=-1)]: Done 1784 tasks      | elapsed:  5.2min\n",
      "[Parallel(n_jobs=-1)]: Done 2434 tasks      | elapsed:  7.6min\n",
      "[Parallel(n_jobs=-1)]: Done 2592 out of 2592 | elapsed:  8.2min finished\n"
     ]
    },
    {
     "data": {
      "text/plain": [
       "{'class_weight': 'balanced_subsample',\n",
       " 'criterion': 'entropy',\n",
       " 'max_depth': 7,\n",
       " 'max_features': 'sqrt',\n",
       " 'min_samples_split': 2,\n",
       " 'n_estimators': 100}"
      ]
     },
     "execution_count": 29,
     "metadata": {},
     "output_type": "execute_result"
    }
   ],
   "source": [
    "gscv = GridSearchCV(rfclf, params, n_jobs = -1, verbose = 1, cv=3)\n",
    "gscv.fit(X_train, y_train)\n",
    "gscv.best_params_"
   ]
  },
  {
   "cell_type": "code",
   "execution_count": 30,
   "metadata": {},
   "outputs": [
    {
     "name": "stdout",
     "output_type": "stream",
     "text": [
      "1.0\n",
      "0.9736842105263158\n"
     ]
    }
   ],
   "source": [
    "print(gscv.score(X_train, y_train))\n",
    "print(gscv.score(X_test, y_test))"
   ]
  },
  {
   "cell_type": "markdown",
   "metadata": {},
   "source": [
    "Случайный лес справился отлично."
   ]
  },
  {
   "cell_type": "code",
   "execution_count": 39,
   "metadata": {},
   "outputs": [
    {
     "data": {
      "text/plain": [
       "<matplotlib.legend.Legend at 0x1ef675284e0>"
      ]
     },
     "execution_count": 39,
     "metadata": {},
     "output_type": "execute_result"
    },
    {
     "data": {
      "image/png": "[encoded data removed]",
      "text/plain": [
       "<Figure size 720x360 with 1 Axes>"
      ]
     },
     "metadata": {
      "needs_background": "light"
     },
     "output_type": "display_data"
    }
   ],
   "source": [
    "training_scores = []\n",
    "test_scores = []\n",
    "numbers = []\n",
    "clf = RandomForestClassifier(\n",
    "        class_weight  = 'balanced_subsample',\n",
    "         criterion  = 'entropy',\n",
    "         max_depth  = 7,\n",
    "         max_features  = 'sqrt',\n",
    "         min_samples_split = 2,\n",
    "         n_estimators  = 100)\n",
    "for i in np.linspace(20, len(X_train), 30):\n",
    "    X = X_train[:int(i)]\n",
    "    y = y_train[:int(i)]\n",
    "    clf.fit(X, y)\n",
    "    \n",
    "    numbers.append(int(i))\n",
    "    training_scores.append(clf.score(X_train, y_train))\n",
    "    test_scores.append(clf.score(X_test, y_test))\n",
    "\n",
    "plt.figure(figsize=(10, 5))\n",
    "plt.plot(numbers, training_scores, label=\"training scores\")\n",
    "plt.plot(numbers, test_scores, label=\"test scores\")\n",
    "plt.legend(loc=\"best\")"
   ]
  },
  {
   "cell_type": "markdown",
   "metadata": {},
   "source": [
    "Нашел Датасет С классификацией грибов. Ан подходит под Ваши условия как нельзя лучше."
   ]
  },
  {
   "cell_type": "code",
   "execution_count": 41,
   "metadata": {},
   "outputs": [
    {
     "data": {
      "text/html": [
       "<div>\n",
       "<style scoped>\n",
       "    .dataframe tbody tr th:only-of-type {\n",
       "        vertical-align: middle;\n",
       "    }\n",
       "\n",
       "    .dataframe tbody tr th {\n",
       "        vertical-align: top;\n",
       "    }\n",
       "\n",
       "    .dataframe thead th {\n",
       "        text-align: right;\n",
       "    }\n",
       "</style>\n",
       "<table border=\"1\" class=\"dataframe\">\n",
       "  <thead>\n",
       "    <tr style=\"text-align: right;\">\n",
       "      <th></th>\n",
       "      <th>class</th>\n",
       "      <th>cap-shape</th>\n",
       "      <th>cap-surface</th>\n",
       "      <th>cap-color</th>\n",
       "      <th>bruises</th>\n",
       "      <th>odor</th>\n",
       "      <th>gill-attachment</th>\n",
       "      <th>gill-spacing</th>\n",
       "      <th>gill-size</th>\n",
       "      <th>gill-color</th>\n",
       "      <th>...</th>\n",
       "      <th>stalk-surface-below-ring</th>\n",
       "      <th>stalk-color-above-ring</th>\n",
       "      <th>stalk-color-below-ring</th>\n",
       "      <th>veil-type</th>\n",
       "      <th>veil-color</th>\n",
       "      <th>ring-number</th>\n",
       "      <th>ring-type</th>\n",
       "      <th>spore-print-color</th>\n",
       "      <th>population</th>\n",
       "      <th>habitat</th>\n",
       "    </tr>\n",
       "  </thead>\n",
       "  <tbody>\n",
       "    <tr>\n",
       "      <th>0</th>\n",
       "      <td>p</td>\n",
       "      <td>x</td>\n",
       "      <td>s</td>\n",
       "      <td>n</td>\n",
       "      <td>t</td>\n",
       "      <td>p</td>\n",
       "      <td>f</td>\n",
       "      <td>c</td>\n",
       "      <td>n</td>\n",
       "      <td>k</td>\n",
       "      <td>...</td>\n",
       "      <td>s</td>\n",
       "      <td>w</td>\n",
       "      <td>w</td>\n",
       "      <td>p</td>\n",
       "      <td>w</td>\n",
       "      <td>o</td>\n",
       "      <td>p</td>\n",
       "      <td>k</td>\n",
       "      <td>s</td>\n",
       "      <td>u</td>\n",
       "    </tr>\n",
       "    <tr>\n",
       "      <th>1</th>\n",
       "      <td>e</td>\n",
       "      <td>x</td>\n",
       "      <td>s</td>\n",
       "      <td>y</td>\n",
       "      <td>t</td>\n",
       "      <td>a</td>\n",
       "      <td>f</td>\n",
       "      <td>c</td>\n",
       "      <td>b</td>\n",
       "      <td>k</td>\n",
       "      <td>...</td>\n",
       "      <td>s</td>\n",
       "      <td>w</td>\n",
       "      <td>w</td>\n",
       "      <td>p</td>\n",
       "      <td>w</td>\n",
       "      <td>o</td>\n",
       "      <td>p</td>\n",
       "      <td>n</td>\n",
       "      <td>n</td>\n",
       "      <td>g</td>\n",
       "    </tr>\n",
       "    <tr>\n",
       "      <th>2</th>\n",
       "      <td>e</td>\n",
       "      <td>b</td>\n",
       "      <td>s</td>\n",
       "      <td>w</td>\n",
       "      <td>t</td>\n",
       "      <td>l</td>\n",
       "      <td>f</td>\n",
       "      <td>c</td>\n",
       "      <td>b</td>\n",
       "      <td>n</td>\n",
       "      <td>...</td>\n",
       "      <td>s</td>\n",
       "      <td>w</td>\n",
       "      <td>w</td>\n",
       "      <td>p</td>\n",
       "      <td>w</td>\n",
       "      <td>o</td>\n",
       "      <td>p</td>\n",
       "      <td>n</td>\n",
       "      <td>n</td>\n",
       "      <td>m</td>\n",
       "    </tr>\n",
       "    <tr>\n",
       "      <th>3</th>\n",
       "      <td>p</td>\n",
       "      <td>x</td>\n",
       "      <td>y</td>\n",
       "      <td>w</td>\n",
       "      <td>t</td>\n",
       "      <td>p</td>\n",
       "      <td>f</td>\n",
       "      <td>c</td>\n",
       "      <td>n</td>\n",
       "      <td>n</td>\n",
       "      <td>...</td>\n",
       "      <td>s</td>\n",
       "      <td>w</td>\n",
       "      <td>w</td>\n",
       "      <td>p</td>\n",
       "      <td>w</td>\n",
       "      <td>o</td>\n",
       "      <td>p</td>\n",
       "      <td>k</td>\n",
       "      <td>s</td>\n",
       "      <td>u</td>\n",
       "    </tr>\n",
       "    <tr>\n",
       "      <th>4</th>\n",
       "      <td>e</td>\n",
       "      <td>x</td>\n",
       "      <td>s</td>\n",
       "      <td>g</td>\n",
       "      <td>f</td>\n",
       "      <td>n</td>\n",
       "      <td>f</td>\n",
       "      <td>w</td>\n",
       "      <td>b</td>\n",
       "      <td>k</td>\n",
       "      <td>...</td>\n",
       "      <td>s</td>\n",
       "      <td>w</td>\n",
       "      <td>w</td>\n",
       "      <td>p</td>\n",
       "      <td>w</td>\n",
       "      <td>o</td>\n",
       "      <td>e</td>\n",
       "      <td>n</td>\n",
       "      <td>a</td>\n",
       "      <td>g</td>\n",
       "    </tr>\n",
       "  </tbody>\n",
       "</table>\n",
       "<p>5 rows × 23 columns</p>\n",
       "</div>"
      ],
      "text/plain": [
       "  class cap-shape cap-surface cap-color bruises odor gill-attachment  \\\n",
       "0     p         x           s         n       t    p               f   \n",
       "1     e         x           s         y       t    a               f   \n",
       "2     e         b           s         w       t    l               f   \n",
       "3     p         x           y         w       t    p               f   \n",
       "4     e         x           s         g       f    n               f   \n",
       "\n",
       "  gill-spacing gill-size gill-color  ... stalk-surface-below-ring  \\\n",
       "0            c         n          k  ...                        s   \n",
       "1            c         b          k  ...                        s   \n",
       "2            c         b          n  ...                        s   \n",
       "3            c         n          n  ...                        s   \n",
       "4            w         b          k  ...                        s   \n",
       "\n",
       "  stalk-color-above-ring stalk-color-below-ring veil-type veil-color  \\\n",
       "0                      w                      w         p          w   \n",
       "1                      w                      w         p          w   \n",
       "2                      w                      w         p          w   \n",
       "3                      w                      w         p          w   \n",
       "4                      w                      w         p          w   \n",
       "\n",
       "  ring-number ring-type spore-print-color population habitat  \n",
       "0           o         p                 k          s       u  \n",
       "1           o         p                 n          n       g  \n",
       "2           o         p                 n          n       m  \n",
       "3           o         p                 k          s       u  \n",
       "4           o         e                 n          a       g  \n",
       "\n",
       "[5 rows x 23 columns]"
      ]
     },
     "execution_count": 41,
     "metadata": {},
     "output_type": "execute_result"
    }
   ],
   "source": [
    "dataset=pd.read_csv(\"mushrooms.csv\")\n",
    "dataset.head()"
   ]
  },
  {
   "cell_type": "code",
   "execution_count": 42,
   "metadata": {},
   "outputs": [
    {
     "data": {
      "text/html": [
       "<div>\n",
       "<style scoped>\n",
       "    .dataframe tbody tr th:only-of-type {\n",
       "        vertical-align: middle;\n",
       "    }\n",
       "\n",
       "    .dataframe tbody tr th {\n",
       "        vertical-align: top;\n",
       "    }\n",
       "\n",
       "    .dataframe thead th {\n",
       "        text-align: right;\n",
       "    }\n",
       "</style>\n",
       "<table border=\"1\" class=\"dataframe\">\n",
       "  <thead>\n",
       "    <tr style=\"text-align: right;\">\n",
       "      <th></th>\n",
       "      <th>cap-shape</th>\n",
       "      <th>cap-surface</th>\n",
       "      <th>cap-color</th>\n",
       "      <th>bruises</th>\n",
       "      <th>odor</th>\n",
       "      <th>gill-attachment</th>\n",
       "      <th>gill-spacing</th>\n",
       "      <th>gill-size</th>\n",
       "      <th>gill-color</th>\n",
       "      <th>stalk-shape</th>\n",
       "      <th>...</th>\n",
       "      <th>stalk-surface-below-ring</th>\n",
       "      <th>stalk-color-above-ring</th>\n",
       "      <th>stalk-color-below-ring</th>\n",
       "      <th>veil-type</th>\n",
       "      <th>veil-color</th>\n",
       "      <th>ring-number</th>\n",
       "      <th>ring-type</th>\n",
       "      <th>spore-print-color</th>\n",
       "      <th>population</th>\n",
       "      <th>habitat</th>\n",
       "    </tr>\n",
       "  </thead>\n",
       "  <tbody>\n",
       "    <tr>\n",
       "      <th>0</th>\n",
       "      <td>x</td>\n",
       "      <td>s</td>\n",
       "      <td>n</td>\n",
       "      <td>t</td>\n",
       "      <td>p</td>\n",
       "      <td>f</td>\n",
       "      <td>c</td>\n",
       "      <td>n</td>\n",
       "      <td>k</td>\n",
       "      <td>e</td>\n",
       "      <td>...</td>\n",
       "      <td>s</td>\n",
       "      <td>w</td>\n",
       "      <td>w</td>\n",
       "      <td>p</td>\n",
       "      <td>w</td>\n",
       "      <td>o</td>\n",
       "      <td>p</td>\n",
       "      <td>k</td>\n",
       "      <td>s</td>\n",
       "      <td>u</td>\n",
       "    </tr>\n",
       "    <tr>\n",
       "      <th>1</th>\n",
       "      <td>x</td>\n",
       "      <td>s</td>\n",
       "      <td>y</td>\n",
       "      <td>t</td>\n",
       "      <td>a</td>\n",
       "      <td>f</td>\n",
       "      <td>c</td>\n",
       "      <td>b</td>\n",
       "      <td>k</td>\n",
       "      <td>e</td>\n",
       "      <td>...</td>\n",
       "      <td>s</td>\n",
       "      <td>w</td>\n",
       "      <td>w</td>\n",
       "      <td>p</td>\n",
       "      <td>w</td>\n",
       "      <td>o</td>\n",
       "      <td>p</td>\n",
       "      <td>n</td>\n",
       "      <td>n</td>\n",
       "      <td>g</td>\n",
       "    </tr>\n",
       "    <tr>\n",
       "      <th>2</th>\n",
       "      <td>b</td>\n",
       "      <td>s</td>\n",
       "      <td>w</td>\n",
       "      <td>t</td>\n",
       "      <td>l</td>\n",
       "      <td>f</td>\n",
       "      <td>c</td>\n",
       "      <td>b</td>\n",
       "      <td>n</td>\n",
       "      <td>e</td>\n",
       "      <td>...</td>\n",
       "      <td>s</td>\n",
       "      <td>w</td>\n",
       "      <td>w</td>\n",
       "      <td>p</td>\n",
       "      <td>w</td>\n",
       "      <td>o</td>\n",
       "      <td>p</td>\n",
       "      <td>n</td>\n",
       "      <td>n</td>\n",
       "      <td>m</td>\n",
       "    </tr>\n",
       "    <tr>\n",
       "      <th>3</th>\n",
       "      <td>x</td>\n",
       "      <td>y</td>\n",
       "      <td>w</td>\n",
       "      <td>t</td>\n",
       "      <td>p</td>\n",
       "      <td>f</td>\n",
       "      <td>c</td>\n",
       "      <td>n</td>\n",
       "      <td>n</td>\n",
       "      <td>e</td>\n",
       "      <td>...</td>\n",
       "      <td>s</td>\n",
       "      <td>w</td>\n",
       "      <td>w</td>\n",
       "      <td>p</td>\n",
       "      <td>w</td>\n",
       "      <td>o</td>\n",
       "      <td>p</td>\n",
       "      <td>k</td>\n",
       "      <td>s</td>\n",
       "      <td>u</td>\n",
       "    </tr>\n",
       "    <tr>\n",
       "      <th>4</th>\n",
       "      <td>x</td>\n",
       "      <td>s</td>\n",
       "      <td>g</td>\n",
       "      <td>f</td>\n",
       "      <td>n</td>\n",
       "      <td>f</td>\n",
       "      <td>w</td>\n",
       "      <td>b</td>\n",
       "      <td>k</td>\n",
       "      <td>t</td>\n",
       "      <td>...</td>\n",
       "      <td>s</td>\n",
       "      <td>w</td>\n",
       "      <td>w</td>\n",
       "      <td>p</td>\n",
       "      <td>w</td>\n",
       "      <td>o</td>\n",
       "      <td>e</td>\n",
       "      <td>n</td>\n",
       "      <td>a</td>\n",
       "      <td>g</td>\n",
       "    </tr>\n",
       "  </tbody>\n",
       "</table>\n",
       "<p>5 rows × 22 columns</p>\n",
       "</div>"
      ],
      "text/plain": [
       "  cap-shape cap-surface cap-color bruises odor gill-attachment gill-spacing  \\\n",
       "0         x           s         n       t    p               f            c   \n",
       "1         x           s         y       t    a               f            c   \n",
       "2         b           s         w       t    l               f            c   \n",
       "3         x           y         w       t    p               f            c   \n",
       "4         x           s         g       f    n               f            w   \n",
       "\n",
       "  gill-size gill-color stalk-shape  ... stalk-surface-below-ring  \\\n",
       "0         n          k           e  ...                        s   \n",
       "1         b          k           e  ...                        s   \n",
       "2         b          n           e  ...                        s   \n",
       "3         n          n           e  ...                        s   \n",
       "4         b          k           t  ...                        s   \n",
       "\n",
       "  stalk-color-above-ring stalk-color-below-ring veil-type veil-color  \\\n",
       "0                      w                      w         p          w   \n",
       "1                      w                      w         p          w   \n",
       "2                      w                      w         p          w   \n",
       "3                      w                      w         p          w   \n",
       "4                      w                      w         p          w   \n",
       "\n",
       "  ring-number ring-type spore-print-color population habitat  \n",
       "0           o         p                 k          s       u  \n",
       "1           o         p                 n          n       g  \n",
       "2           o         p                 n          n       m  \n",
       "3           o         p                 k          s       u  \n",
       "4           o         e                 n          a       g  \n",
       "\n",
       "[5 rows x 22 columns]"
      ]
     },
     "execution_count": 42,
     "metadata": {},
     "output_type": "execute_result"
    }
   ],
   "source": [
    "X=dataset.drop('class',axis=1) #Predictors\n",
    "y=dataset['class'] #Response\n",
    "X.head()"
   ]
  },
  {
   "cell_type": "code",
   "execution_count": 48,
   "metadata": {},
   "outputs": [
    {
     "data": {
      "text/html": [
       "<div>\n",
       "<style scoped>\n",
       "    .dataframe tbody tr th:only-of-type {\n",
       "        vertical-align: middle;\n",
       "    }\n",
       "\n",
       "    .dataframe tbody tr th {\n",
       "        vertical-align: top;\n",
       "    }\n",
       "\n",
       "    .dataframe thead th {\n",
       "        text-align: right;\n",
       "    }\n",
       "</style>\n",
       "<table border=\"1\" class=\"dataframe\">\n",
       "  <thead>\n",
       "    <tr style=\"text-align: right;\">\n",
       "      <th></th>\n",
       "      <th>cap-shape</th>\n",
       "      <th>cap-surface</th>\n",
       "      <th>cap-color</th>\n",
       "      <th>bruises</th>\n",
       "      <th>odor</th>\n",
       "      <th>gill-attachment</th>\n",
       "      <th>gill-spacing</th>\n",
       "      <th>gill-size</th>\n",
       "      <th>gill-color</th>\n",
       "      <th>stalk-shape</th>\n",
       "      <th>...</th>\n",
       "      <th>stalk-surface-below-ring</th>\n",
       "      <th>stalk-color-above-ring</th>\n",
       "      <th>stalk-color-below-ring</th>\n",
       "      <th>veil-type</th>\n",
       "      <th>veil-color</th>\n",
       "      <th>ring-number</th>\n",
       "      <th>ring-type</th>\n",
       "      <th>spore-print-color</th>\n",
       "      <th>population</th>\n",
       "      <th>habitat</th>\n",
       "    </tr>\n",
       "  </thead>\n",
       "  <tbody>\n",
       "    <tr>\n",
       "      <th>0</th>\n",
       "      <td>5</td>\n",
       "      <td>2</td>\n",
       "      <td>4</td>\n",
       "      <td>1</td>\n",
       "      <td>6</td>\n",
       "      <td>1</td>\n",
       "      <td>0</td>\n",
       "      <td>1</td>\n",
       "      <td>4</td>\n",
       "      <td>0</td>\n",
       "      <td>...</td>\n",
       "      <td>2</td>\n",
       "      <td>7</td>\n",
       "      <td>7</td>\n",
       "      <td>0</td>\n",
       "      <td>2</td>\n",
       "      <td>1</td>\n",
       "      <td>4</td>\n",
       "      <td>2</td>\n",
       "      <td>3</td>\n",
       "      <td>5</td>\n",
       "    </tr>\n",
       "    <tr>\n",
       "      <th>1</th>\n",
       "      <td>5</td>\n",
       "      <td>2</td>\n",
       "      <td>9</td>\n",
       "      <td>1</td>\n",
       "      <td>0</td>\n",
       "      <td>1</td>\n",
       "      <td>0</td>\n",
       "      <td>0</td>\n",
       "      <td>4</td>\n",
       "      <td>0</td>\n",
       "      <td>...</td>\n",
       "      <td>2</td>\n",
       "      <td>7</td>\n",
       "      <td>7</td>\n",
       "      <td>0</td>\n",
       "      <td>2</td>\n",
       "      <td>1</td>\n",
       "      <td>4</td>\n",
       "      <td>3</td>\n",
       "      <td>2</td>\n",
       "      <td>1</td>\n",
       "    </tr>\n",
       "    <tr>\n",
       "      <th>2</th>\n",
       "      <td>0</td>\n",
       "      <td>2</td>\n",
       "      <td>8</td>\n",
       "      <td>1</td>\n",
       "      <td>3</td>\n",
       "      <td>1</td>\n",
       "      <td>0</td>\n",
       "      <td>0</td>\n",
       "      <td>5</td>\n",
       "      <td>0</td>\n",
       "      <td>...</td>\n",
       "      <td>2</td>\n",
       "      <td>7</td>\n",
       "      <td>7</td>\n",
       "      <td>0</td>\n",
       "      <td>2</td>\n",
       "      <td>1</td>\n",
       "      <td>4</td>\n",
       "      <td>3</td>\n",
       "      <td>2</td>\n",
       "      <td>3</td>\n",
       "    </tr>\n",
       "    <tr>\n",
       "      <th>3</th>\n",
       "      <td>5</td>\n",
       "      <td>3</td>\n",
       "      <td>8</td>\n",
       "      <td>1</td>\n",
       "      <td>6</td>\n",
       "      <td>1</td>\n",
       "      <td>0</td>\n",
       "      <td>1</td>\n",
       "      <td>5</td>\n",
       "      <td>0</td>\n",
       "      <td>...</td>\n",
       "      <td>2</td>\n",
       "      <td>7</td>\n",
       "      <td>7</td>\n",
       "      <td>0</td>\n",
       "      <td>2</td>\n",
       "      <td>1</td>\n",
       "      <td>4</td>\n",
       "      <td>2</td>\n",
       "      <td>3</td>\n",
       "      <td>5</td>\n",
       "    </tr>\n",
       "    <tr>\n",
       "      <th>4</th>\n",
       "      <td>5</td>\n",
       "      <td>2</td>\n",
       "      <td>3</td>\n",
       "      <td>0</td>\n",
       "      <td>5</td>\n",
       "      <td>1</td>\n",
       "      <td>1</td>\n",
       "      <td>0</td>\n",
       "      <td>4</td>\n",
       "      <td>1</td>\n",
       "      <td>...</td>\n",
       "      <td>2</td>\n",
       "      <td>7</td>\n",
       "      <td>7</td>\n",
       "      <td>0</td>\n",
       "      <td>2</td>\n",
       "      <td>1</td>\n",
       "      <td>0</td>\n",
       "      <td>3</td>\n",
       "      <td>0</td>\n",
       "      <td>1</td>\n",
       "    </tr>\n",
       "  </tbody>\n",
       "</table>\n",
       "<p>5 rows × 22 columns</p>\n",
       "</div>"
      ],
      "text/plain": [
       "   cap-shape  cap-surface  cap-color  bruises  odor  gill-attachment  \\\n",
       "0          5            2          4        1     6                1   \n",
       "1          5            2          9        1     0                1   \n",
       "2          0            2          8        1     3                1   \n",
       "3          5            3          8        1     6                1   \n",
       "4          5            2          3        0     5                1   \n",
       "\n",
       "   gill-spacing  gill-size  gill-color  stalk-shape  ...  \\\n",
       "0             0          1           4            0  ...   \n",
       "1             0          0           4            0  ...   \n",
       "2             0          0           5            0  ...   \n",
       "3             0          1           5            0  ...   \n",
       "4             1          0           4            1  ...   \n",
       "\n",
       "   stalk-surface-below-ring  stalk-color-above-ring  stalk-color-below-ring  \\\n",
       "0                         2                       7                       7   \n",
       "1                         2                       7                       7   \n",
       "2                         2                       7                       7   \n",
       "3                         2                       7                       7   \n",
       "4                         2                       7                       7   \n",
       "\n",
       "   veil-type  veil-color  ring-number  ring-type  spore-print-color  \\\n",
       "0          0           2            1          4                  2   \n",
       "1          0           2            1          4                  3   \n",
       "2          0           2            1          4                  3   \n",
       "3          0           2            1          4                  2   \n",
       "4          0           2            1          0                  3   \n",
       "\n",
       "   population  habitat  \n",
       "0           3        5  \n",
       "1           2        1  \n",
       "2           2        3  \n",
       "3           3        5  \n",
       "4           0        1  \n",
       "\n",
       "[5 rows x 22 columns]"
      ]
     },
     "execution_count": 48,
     "metadata": {},
     "output_type": "execute_result"
    }
   ],
   "source": [
    "from sklearn.preprocessing import LabelEncoder\n",
    "Encoder_X = LabelEncoder() \n",
    "for col in X.columns:\n",
    "    X[col] = Encoder_X.fit_transform(X[col])\n",
    "Encoder_y=LabelEncoder()\n",
    "y = Encoder_y.fit_transform(y)\n",
    "\n",
    "from sklearn.model_selection import train_test_split\n",
    "X_train, X_test, y_train, y_test = train_test_split(X, y, test_size=0.3, random_state=42)\n",
    "X.head()"
   ]
  },
  {
   "cell_type": "code",
   "execution_count": 49,
   "metadata": {},
   "outputs": [],
   "source": [
    "from sklearn.model_selection import cross_val_score\n",
    "from sklearn.metrics import confusion_matrix,classification_report,accuracy_score\n",
    "def print_score(classifier,X_train,y_train,X_test,y_test,train=True):\n",
    "    if train == True:\n",
    "        print(\"Training results:\\n\")\n",
    "        print('Accuracy Score: {0:.4f}\\n'.format(accuracy_score(y_train,classifier.predict(X_train))))\n",
    "        print('Classification Report:\\n{}\\n'.format(classification_report(y_train,classifier.predict(X_train))))\n",
    "        print('Confusion Matrix:\\n{}\\n'.format(confusion_matrix(y_train,classifier.predict(X_train))))\n",
    "        res = cross_val_score(classifier, X_train, y_train, cv=10, n_jobs=-1, scoring='accuracy')\n",
    "        print('Average Accuracy:\\t{0:.4f}\\n'.format(res.mean()))\n",
    "        print('Standard Deviation:\\t{0:.4f}'.format(res.std()))\n",
    "    elif train == False:\n",
    "        print(\"Test results:\\n\")\n",
    "        print('Accuracy Score: {0:.4f}\\n'.format(accuracy_score(y_test,classifier.predict(X_test))))\n",
    "        print('Classification Report:\\n{}\\n'.format(classification_report(y_test,classifier.predict(X_test))))\n",
    "        print('Confusion Matrix:\\n{}\\n'.format(confusion_matrix(y_test,classifier.predict(X_test))))"
   ]
  },
  {
   "cell_type": "code",
   "execution_count": 50,
   "metadata": {},
   "outputs": [
    {
     "name": "stderr",
     "output_type": "stream",
     "text": [
      "c:\\program files\\python37\\lib\\site-packages\\sklearn\\linear_model\\_logistic.py:940: ConvergenceWarning: lbfgs failed to converge (status=1):\n",
      "STOP: TOTAL NO. of ITERATIONS REACHED LIMIT.\n",
      "\n",
      "Increase the number of iterations (max_iter) or scale the data as shown in:\n",
      "    https://scikit-learn.org/stable/modules/preprocessing.html\n",
      "Please also refer to the documentation for alternative solver options:\n",
      "    https://scikit-learn.org/stable/modules/linear_model.html#logistic-regression\n",
      "  extra_warning_msg=_LOGISTIC_SOLVER_CONVERGENCE_MSG)\n"
     ]
    },
    {
     "data": {
      "text/plain": [
       "LogisticRegression(C=1.0, class_weight=None, dual=False, fit_intercept=True,\n",
       "                   intercept_scaling=1, l1_ratio=None, max_iter=100,\n",
       "                   multi_class='auto', n_jobs=None, penalty='l2',\n",
       "                   random_state=None, solver='lbfgs', tol=0.0001, verbose=0,\n",
       "                   warm_start=False)"
      ]
     },
     "execution_count": 50,
     "metadata": {},
     "output_type": "execute_result"
    }
   ],
   "source": [
    "from sklearn.linear_model import LogisticRegression\n",
    "classifier = LogisticRegression()\n",
    "\n",
    "classifier.fit(X_train,y_train)"
   ]
  },
  {
   "cell_type": "code",
   "execution_count": 51,
   "metadata": {},
   "outputs": [
    {
     "name": "stdout",
     "output_type": "stream",
     "text": [
      "Training results:\n",
      "\n",
      "Accuracy Score: 0.9509\n",
      "\n",
      "Classification Report:\n",
      "              precision    recall  f1-score   support\n",
      "\n",
      "           0       0.95      0.96      0.95      2951\n",
      "           1       0.96      0.94      0.95      2735\n",
      "\n",
      "    accuracy                           0.95      5686\n",
      "   macro avg       0.95      0.95      0.95      5686\n",
      "weighted avg       0.95      0.95      0.95      5686\n",
      "\n",
      "\n",
      "Confusion Matrix:\n",
      "[[2831  120]\n",
      " [ 159 2576]]\n",
      "\n",
      "Average Accuracy:\t0.9469\n",
      "\n",
      "Standard Deviation:\t0.0092\n"
     ]
    }
   ],
   "source": [
    "print_score(classifier,X_train,y_train,X_test,y_test,train=True)"
   ]
  },
  {
   "cell_type": "code",
   "execution_count": 52,
   "metadata": {},
   "outputs": [
    {
     "name": "stdout",
     "output_type": "stream",
     "text": [
      "Test results:\n",
      "\n",
      "Accuracy Score: 0.9500\n",
      "\n",
      "Classification Report:\n",
      "              precision    recall  f1-score   support\n",
      "\n",
      "           0       0.95      0.95      0.95      1257\n",
      "           1       0.95      0.94      0.95      1181\n",
      "\n",
      "    accuracy                           0.95      2438\n",
      "   macro avg       0.95      0.95      0.95      2438\n",
      "weighted avg       0.95      0.95      0.95      2438\n",
      "\n",
      "\n",
      "Confusion Matrix:\n",
      "[[1200   57]\n",
      " [  65 1116]]\n",
      "\n"
     ]
    }
   ],
   "source": [
    "print_score(classifier,X_train,y_train,X_test,y_test,train=False)"
   ]
  },
  {
   "cell_type": "markdown",
   "metadata": {},
   "source": [
    "Препроцессинг частично взят с kaggle. Но лучше сделать я бы не смог."
   ]
  }
 ],
 "metadata": {
  "kernelspec": {
   "display_name": "Python 3",
   "language": "python",
   "name": "python3"
  },
  "language_info": {
   "codemirror_mode": {
    "name": "ipython",
    "version": 3
   },
   "file_extension": ".py",
   "mimetype": "text/x-python",
   "name": "python",
   "nbconvert_exporter": "python",
   "pygments_lexer": "ipython3",
   "version": "3.7.2"
  }
 },
 "nbformat": 4,
 "nbformat_minor": 2
}
