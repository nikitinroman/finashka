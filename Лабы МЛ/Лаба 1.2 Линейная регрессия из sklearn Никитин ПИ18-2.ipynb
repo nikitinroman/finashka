{
 "cells": [
  {
   "cell_type": "code",
   "execution_count": 1,
   "metadata": {},
   "outputs": [],
   "source": [
    "import numpy as np\n",
    "import pandas as pd\n",
    "from sklearn.linear_model import LinearRegression \n",
    "from sklearn.model_selection import train_test_split\n",
    "from sklearn.preprocessing import PolynomialFeatures\n",
    "from sklearn.model_selection import GridSearchCV\n",
    "from sklearn.decomposition import FactorAnalysis\n",
    "from sklearn.linear_model import Lasso\n",
    "from sklearn import preprocessing\n",
    "from sklearn.metrics import mean_squared_error\n",
    "from sklearn.metrics import max_error\n",
    "from sklearn.metrics import mean_gamma_deviance\n",
    "from pandas.plotting import scatter_matrix"
   ]
  },
  {
   "cell_type": "code",
   "execution_count": 47,
   "metadata": {},
   "outputs": [
    {
     "data": {
      "text/html": [
       "<div>\n",
       "<style scoped>\n",
       "    .dataframe tbody tr th:only-of-type {\n",
       "        vertical-align: middle;\n",
       "    }\n",
       "\n",
       "    .dataframe tbody tr th {\n",
       "        vertical-align: top;\n",
       "    }\n",
       "\n",
       "    .dataframe thead th {\n",
       "        text-align: right;\n",
       "    }\n",
       "</style>\n",
       "<table border=\"1\" class=\"dataframe\">\n",
       "  <thead>\n",
       "    <tr style=\"text-align: right;\">\n",
       "      <th></th>\n",
       "      <th>0</th>\n",
       "      <th>1</th>\n",
       "      <th>2</th>\n",
       "    </tr>\n",
       "  </thead>\n",
       "  <tbody>\n",
       "    <tr>\n",
       "      <th>0</th>\n",
       "      <td>-0.416460</td>\n",
       "      <td>0.143270</td>\n",
       "      <td>2.182420</td>\n",
       "    </tr>\n",
       "    <tr>\n",
       "      <th>1</th>\n",
       "      <td>0.831731</td>\n",
       "      <td>-0.255851</td>\n",
       "      <td>-1.104323</td>\n",
       "    </tr>\n",
       "    <tr>\n",
       "      <th>2</th>\n",
       "      <td>-1.484082</td>\n",
       "      <td>0.353354</td>\n",
       "      <td>-1.670359</td>\n",
       "    </tr>\n",
       "    <tr>\n",
       "      <th>3</th>\n",
       "      <td>-0.912516</td>\n",
       "      <td>-0.555212</td>\n",
       "      <td>-0.208646</td>\n",
       "    </tr>\n",
       "    <tr>\n",
       "      <th>4</th>\n",
       "      <td>0.459094</td>\n",
       "      <td>-0.358333</td>\n",
       "      <td>0.067595</td>\n",
       "    </tr>\n",
       "  </tbody>\n",
       "</table>\n",
       "</div>"
      ],
      "text/plain": [
       "          0         1         2\n",
       "0 -0.416460  0.143270  2.182420\n",
       "1  0.831731 -0.255851 -1.104323\n",
       "2 -1.484082  0.353354 -1.670359\n",
       "3 -0.912516 -0.555212 -0.208646\n",
       "4  0.459094 -0.358333  0.067595"
      ]
     },
     "execution_count": 47,
     "metadata": {},
     "output_type": "execute_result"
    }
   ],
   "source": [
    "X = pd.read_csv('12_x.csv', header=None)\n",
    "X.head()"
   ]
  },
  {
   "cell_type": "code",
   "execution_count": 48,
   "metadata": {},
   "outputs": [
    {
     "data": {
      "image/png": "[encoded data removed]",
      "text/plain": [
       "<Figure size 432x288 with 9 Axes>"
      ]
     },
     "metadata": {
      "needs_background": "light"
     },
     "output_type": "display_data"
    }
   ],
   "source": [
    "scatter_matrix(X);"
   ]
  },
  {
   "cell_type": "code",
   "execution_count": 49,
   "metadata": {},
   "outputs": [
    {
     "data": {
      "text/html": [
       "<div>\n",
       "<style scoped>\n",
       "    .dataframe tbody tr th:only-of-type {\n",
       "        vertical-align: middle;\n",
       "    }\n",
       "\n",
       "    .dataframe tbody tr th {\n",
       "        vertical-align: top;\n",
       "    }\n",
       "\n",
       "    .dataframe thead th {\n",
       "        text-align: right;\n",
       "    }\n",
       "</style>\n",
       "<table border=\"1\" class=\"dataframe\">\n",
       "  <thead>\n",
       "    <tr style=\"text-align: right;\">\n",
       "      <th></th>\n",
       "      <th>0</th>\n",
       "      <th>1</th>\n",
       "      <th>2</th>\n",
       "    </tr>\n",
       "  </thead>\n",
       "  <tbody>\n",
       "    <tr>\n",
       "      <th>count</th>\n",
       "      <td>54.000000</td>\n",
       "      <td>54.000000</td>\n",
       "      <td>54.000000</td>\n",
       "    </tr>\n",
       "    <tr>\n",
       "      <th>mean</th>\n",
       "      <td>0.004790</td>\n",
       "      <td>-0.000471</td>\n",
       "      <td>0.092761</td>\n",
       "    </tr>\n",
       "    <tr>\n",
       "      <th>std</th>\n",
       "      <td>0.922068</td>\n",
       "      <td>1.042722</td>\n",
       "      <td>0.829793</td>\n",
       "    </tr>\n",
       "    <tr>\n",
       "      <th>min</th>\n",
       "      <td>-2.218824</td>\n",
       "      <td>-2.907968</td>\n",
       "      <td>-1.670359</td>\n",
       "    </tr>\n",
       "    <tr>\n",
       "      <th>25%</th>\n",
       "      <td>-0.557818</td>\n",
       "      <td>-0.560806</td>\n",
       "      <td>-0.357181</td>\n",
       "    </tr>\n",
       "    <tr>\n",
       "      <th>50%</th>\n",
       "      <td>-0.026097</td>\n",
       "      <td>-0.083161</td>\n",
       "      <td>0.017504</td>\n",
       "    </tr>\n",
       "    <tr>\n",
       "      <th>75%</th>\n",
       "      <td>0.772568</td>\n",
       "      <td>0.728773</td>\n",
       "      <td>0.566161</td>\n",
       "    </tr>\n",
       "    <tr>\n",
       "      <th>max</th>\n",
       "      <td>1.948271</td>\n",
       "      <td>2.520265</td>\n",
       "      <td>2.182420</td>\n",
       "    </tr>\n",
       "  </tbody>\n",
       "</table>\n",
       "</div>"
      ],
      "text/plain": [
       "               0          1          2\n",
       "count  54.000000  54.000000  54.000000\n",
       "mean    0.004790  -0.000471   0.092761\n",
       "std     0.922068   1.042722   0.829793\n",
       "min    -2.218824  -2.907968  -1.670359\n",
       "25%    -0.557818  -0.560806  -0.357181\n",
       "50%    -0.026097  -0.083161   0.017504\n",
       "75%     0.772568   0.728773   0.566161\n",
       "max     1.948271   2.520265   2.182420"
      ]
     },
     "execution_count": 49,
     "metadata": {},
     "output_type": "execute_result"
    }
   ],
   "source": [
    "X.describe()"
   ]
  },
  {
   "cell_type": "code",
   "execution_count": 50,
   "metadata": {},
   "outputs": [
    {
     "data": {
      "text/html": [
       "<div>\n",
       "<style scoped>\n",
       "    .dataframe tbody tr th:only-of-type {\n",
       "        vertical-align: middle;\n",
       "    }\n",
       "\n",
       "    .dataframe tbody tr th {\n",
       "        vertical-align: top;\n",
       "    }\n",
       "\n",
       "    .dataframe thead th {\n",
       "        text-align: right;\n",
       "    }\n",
       "</style>\n",
       "<table border=\"1\" class=\"dataframe\">\n",
       "  <thead>\n",
       "    <tr style=\"text-align: right;\">\n",
       "      <th></th>\n",
       "      <th>0</th>\n",
       "      <th>1</th>\n",
       "      <th>2</th>\n",
       "    </tr>\n",
       "  </thead>\n",
       "  <tbody>\n",
       "    <tr>\n",
       "      <th>0</th>\n",
       "      <td>1.000000</td>\n",
       "      <td>0.222621</td>\n",
       "      <td>0.057510</td>\n",
       "    </tr>\n",
       "    <tr>\n",
       "      <th>1</th>\n",
       "      <td>0.222621</td>\n",
       "      <td>1.000000</td>\n",
       "      <td>-0.013383</td>\n",
       "    </tr>\n",
       "    <tr>\n",
       "      <th>2</th>\n",
       "      <td>0.057510</td>\n",
       "      <td>-0.013383</td>\n",
       "      <td>1.000000</td>\n",
       "    </tr>\n",
       "  </tbody>\n",
       "</table>\n",
       "</div>"
      ],
      "text/plain": [
       "          0         1         2\n",
       "0  1.000000  0.222621  0.057510\n",
       "1  0.222621  1.000000 -0.013383\n",
       "2  0.057510 -0.013383  1.000000"
      ]
     },
     "execution_count": 50,
     "metadata": {},
     "output_type": "execute_result"
    }
   ],
   "source": [
    "X.corr()"
   ]
  },
  {
   "cell_type": "markdown",
   "metadata": {},
   "source": [
    "По сути- Лассо регрессия не должна толком отработать, так как нет больших корреляций между фичами, но почему бы и нет?)"
   ]
  },
  {
   "cell_type": "code",
   "execution_count": 51,
   "metadata": {},
   "outputs": [
    {
     "data": {
      "text/html": [
       "<div>\n",
       "<style scoped>\n",
       "    .dataframe tbody tr th:only-of-type {\n",
       "        vertical-align: middle;\n",
       "    }\n",
       "\n",
       "    .dataframe tbody tr th {\n",
       "        vertical-align: top;\n",
       "    }\n",
       "\n",
       "    .dataframe thead th {\n",
       "        text-align: right;\n",
       "    }\n",
       "</style>\n",
       "<table border=\"1\" class=\"dataframe\">\n",
       "  <thead>\n",
       "    <tr style=\"text-align: right;\">\n",
       "      <th></th>\n",
       "      <th>0</th>\n",
       "    </tr>\n",
       "  </thead>\n",
       "  <tbody>\n",
       "    <tr>\n",
       "      <th>0</th>\n",
       "      <td>95.976160</td>\n",
       "    </tr>\n",
       "    <tr>\n",
       "      <th>1</th>\n",
       "      <td>-59.524249</td>\n",
       "    </tr>\n",
       "    <tr>\n",
       "      <th>2</th>\n",
       "      <td>-38.388468</td>\n",
       "    </tr>\n",
       "    <tr>\n",
       "      <th>3</th>\n",
       "      <td>-65.905431</td>\n",
       "    </tr>\n",
       "    <tr>\n",
       "      <th>4</th>\n",
       "      <td>-26.345846</td>\n",
       "    </tr>\n",
       "  </tbody>\n",
       "</table>\n",
       "</div>"
      ],
      "text/plain": [
       "           0\n",
       "0  95.976160\n",
       "1 -59.524249\n",
       "2 -38.388468\n",
       "3 -65.905431\n",
       "4 -26.345846"
      ]
     },
     "execution_count": 51,
     "metadata": {},
     "output_type": "execute_result"
    }
   ],
   "source": [
    "y = pd.read_csv('12_y.csv', header=None)\n",
    "y.head()"
   ]
  },
  {
   "cell_type": "code",
   "execution_count": 66,
   "metadata": {},
   "outputs": [
    {
     "data": {
      "text/html": [
       "<div>\n",
       "<style scoped>\n",
       "    .dataframe tbody tr th:only-of-type {\n",
       "        vertical-align: middle;\n",
       "    }\n",
       "\n",
       "    .dataframe tbody tr th {\n",
       "        vertical-align: top;\n",
       "    }\n",
       "\n",
       "    .dataframe thead th {\n",
       "        text-align: right;\n",
       "    }\n",
       "</style>\n",
       "<table border=\"1\" class=\"dataframe\">\n",
       "  <thead>\n",
       "    <tr style=\"text-align: right;\">\n",
       "      <th></th>\n",
       "      <th>0</th>\n",
       "      <th>1</th>\n",
       "      <th>2</th>\n",
       "      <th>3</th>\n",
       "    </tr>\n",
       "  </thead>\n",
       "  <tbody>\n",
       "    <tr>\n",
       "      <th>0</th>\n",
       "      <td>1.000000</td>\n",
       "      <td>0.222621</td>\n",
       "      <td>0.057510</td>\n",
       "      <td>0.223137</td>\n",
       "    </tr>\n",
       "    <tr>\n",
       "      <th>1</th>\n",
       "      <td>0.222621</td>\n",
       "      <td>1.000000</td>\n",
       "      <td>-0.013383</td>\n",
       "      <td>0.923676</td>\n",
       "    </tr>\n",
       "    <tr>\n",
       "      <th>2</th>\n",
       "      <td>0.057510</td>\n",
       "      <td>-0.013383</td>\n",
       "      <td>1.000000</td>\n",
       "      <td>0.355608</td>\n",
       "    </tr>\n",
       "    <tr>\n",
       "      <th>3</th>\n",
       "      <td>0.223137</td>\n",
       "      <td>0.923676</td>\n",
       "      <td>0.355608</td>\n",
       "      <td>1.000000</td>\n",
       "    </tr>\n",
       "  </tbody>\n",
       "</table>\n",
       "</div>"
      ],
      "text/plain": [
       "          0         1         2         3\n",
       "0  1.000000  0.222621  0.057510  0.223137\n",
       "1  0.222621  1.000000 -0.013383  0.923676\n",
       "2  0.057510 -0.013383  1.000000  0.355608\n",
       "3  0.223137  0.923676  0.355608  1.000000"
      ]
     },
     "execution_count": 66,
     "metadata": {},
     "output_type": "execute_result"
    }
   ],
   "source": [
    "Xy = pd.read_csv('12_x+y.csv', delimiter=';', header=None)\n",
    "Xy.corr()"
   ]
  },
  {
   "cell_type": "markdown",
   "metadata": {},
   "source": [
    "Первый столбец очень сильно коррелирует с 3им, что означает, что он в максимальной степени объясняет его. По сути, тут хватит и одной парной регрессии, толком не потеряв качества модели."
   ]
  },
  {
   "cell_type": "code",
   "execution_count": 69,
   "metadata": {},
   "outputs": [
    {
     "data": {
      "text/html": [
       "<div>\n",
       "<style scoped>\n",
       "    .dataframe tbody tr th:only-of-type {\n",
       "        vertical-align: middle;\n",
       "    }\n",
       "\n",
       "    .dataframe tbody tr th {\n",
       "        vertical-align: top;\n",
       "    }\n",
       "\n",
       "    .dataframe thead th {\n",
       "        text-align: right;\n",
       "    }\n",
       "</style>\n",
       "<table border=\"1\" class=\"dataframe\">\n",
       "  <thead>\n",
       "    <tr style=\"text-align: right;\">\n",
       "      <th></th>\n",
       "      <th>0</th>\n",
       "      <th>1</th>\n",
       "      <th>2</th>\n",
       "      <th>3</th>\n",
       "    </tr>\n",
       "  </thead>\n",
       "  <tbody>\n",
       "    <tr>\n",
       "      <th>count</th>\n",
       "      <td>54.000000</td>\n",
       "      <td>54.000000</td>\n",
       "      <td>54.000000</td>\n",
       "      <td>54.000000</td>\n",
       "    </tr>\n",
       "    <tr>\n",
       "      <th>mean</th>\n",
       "      <td>0.004790</td>\n",
       "      <td>-0.000471</td>\n",
       "      <td>0.092761</td>\n",
       "      <td>2.871168</td>\n",
       "    </tr>\n",
       "    <tr>\n",
       "      <th>std</th>\n",
       "      <td>0.922068</td>\n",
       "      <td>1.042722</td>\n",
       "      <td>0.829793</td>\n",
       "      <td>86.765380</td>\n",
       "    </tr>\n",
       "    <tr>\n",
       "      <th>min</th>\n",
       "      <td>-2.218824</td>\n",
       "      <td>-2.907968</td>\n",
       "      <td>-1.670359</td>\n",
       "      <td>-177.541464</td>\n",
       "    </tr>\n",
       "    <tr>\n",
       "      <th>25%</th>\n",
       "      <td>-0.557818</td>\n",
       "      <td>-0.560806</td>\n",
       "      <td>-0.357181</td>\n",
       "      <td>-48.016357</td>\n",
       "    </tr>\n",
       "    <tr>\n",
       "      <th>50%</th>\n",
       "      <td>-0.026097</td>\n",
       "      <td>-0.083161</td>\n",
       "      <td>0.017504</td>\n",
       "      <td>-6.449615</td>\n",
       "    </tr>\n",
       "    <tr>\n",
       "      <th>75%</th>\n",
       "      <td>0.772568</td>\n",
       "      <td>0.728773</td>\n",
       "      <td>0.566161</td>\n",
       "      <td>60.065963</td>\n",
       "    </tr>\n",
       "    <tr>\n",
       "      <th>max</th>\n",
       "      <td>1.948271</td>\n",
       "      <td>2.520265</td>\n",
       "      <td>2.182420</td>\n",
       "      <td>186.883660</td>\n",
       "    </tr>\n",
       "  </tbody>\n",
       "</table>\n",
       "</div>"
      ],
      "text/plain": [
       "               0          1          2           3\n",
       "count  54.000000  54.000000  54.000000   54.000000\n",
       "mean    0.004790  -0.000471   0.092761    2.871168\n",
       "std     0.922068   1.042722   0.829793   86.765380\n",
       "min    -2.218824  -2.907968  -1.670359 -177.541464\n",
       "25%    -0.557818  -0.560806  -0.357181  -48.016357\n",
       "50%    -0.026097  -0.083161   0.017504   -6.449615\n",
       "75%     0.772568   0.728773   0.566161   60.065963\n",
       "max     1.948271   2.520265   2.182420  186.883660"
      ]
     },
     "execution_count": 69,
     "metadata": {},
     "output_type": "execute_result"
    }
   ],
   "source": [
    "Xy.describe()"
   ]
  },
  {
   "cell_type": "code",
   "execution_count": 71,
   "metadata": {},
   "outputs": [
    {
     "data": {
      "image/png": "[encoded data removed]",
      "text/plain": [
       "<Figure size 432x288 with 16 Axes>"
      ]
     },
     "metadata": {
      "needs_background": "light"
     },
     "output_type": "display_data"
    }
   ],
   "source": [
    "scatter_matrix(Xy);"
   ]
  },
  {
   "cell_type": "code",
   "execution_count": 7,
   "metadata": {},
   "outputs": [],
   "source": [
    "clf = LinearRegression(normalize=True, n_jobs=-1)"
   ]
  },
  {
   "cell_type": "code",
   "execution_count": 8,
   "metadata": {},
   "outputs": [],
   "source": [
    "X_train, X_test, y_train, y_test = train_test_split(X, y, test_size=0.2, random_state=42)"
   ]
  },
  {
   "cell_type": "code",
   "execution_count": 9,
   "metadata": {},
   "outputs": [
    {
     "data": {
      "text/plain": [
       "LinearRegression(copy_X=True, fit_intercept=True, n_jobs=-1, normalize=True)"
      ]
     },
     "execution_count": 9,
     "metadata": {},
     "output_type": "execute_result"
    }
   ],
   "source": [
    "clf.fit(X_train,y_train)"
   ]
  },
  {
   "cell_type": "code",
   "execution_count": 10,
   "metadata": {},
   "outputs": [
    {
     "data": {
      "text/plain": [
       "0.9920410662636993"
      ]
     },
     "execution_count": 10,
     "metadata": {},
     "output_type": "execute_result"
    }
   ],
   "source": [
    "clf.score(X_train,y_train)"
   ]
  },
  {
   "cell_type": "code",
   "execution_count": 11,
   "metadata": {},
   "outputs": [
    {
     "data": {
      "text/plain": [
       "array([[-0.71171634, 77.64356682, 40.15917562]])"
      ]
     },
     "execution_count": 11,
     "metadata": {},
     "output_type": "execute_result"
    }
   ],
   "source": [
    "clf.coef_"
   ]
  },
  {
   "cell_type": "code",
   "execution_count": 12,
   "metadata": {},
   "outputs": [
    {
     "data": {
      "text/plain": [
       "0.9432002998272357"
      ]
     },
     "execution_count": 12,
     "metadata": {},
     "output_type": "execute_result"
    }
   ],
   "source": [
    "clf.score(X_test,y_test)"
   ]
  },
  {
   "cell_type": "code",
   "execution_count": 13,
   "metadata": {},
   "outputs": [
    {
     "data": {
      "text/plain": [
       "array([[ -7.36055808],\n",
       "       [-37.3643578 ],\n",
       "       [-19.60981133],\n",
       "       [112.0136677 ],\n",
       "       [-25.8067709 ]])"
      ]
     },
     "execution_count": 13,
     "metadata": {},
     "output_type": "execute_result"
    }
   ],
   "source": [
    "clf.predict(X_train.iloc[0:5])"
   ]
  },
  {
   "cell_type": "code",
   "execution_count": 14,
   "metadata": {},
   "outputs": [
    {
     "data": {
      "text/html": [
       "<div>\n",
       "<style scoped>\n",
       "    .dataframe tbody tr th:only-of-type {\n",
       "        vertical-align: middle;\n",
       "    }\n",
       "\n",
       "    .dataframe tbody tr th {\n",
       "        vertical-align: top;\n",
       "    }\n",
       "\n",
       "    .dataframe thead th {\n",
       "        text-align: right;\n",
       "    }\n",
       "</style>\n",
       "<table border=\"1\" class=\"dataframe\">\n",
       "  <thead>\n",
       "    <tr style=\"text-align: right;\">\n",
       "      <th></th>\n",
       "      <th>0</th>\n",
       "    </tr>\n",
       "  </thead>\n",
       "  <tbody>\n",
       "    <tr>\n",
       "      <th>8</th>\n",
       "      <td>-4.821324</td>\n",
       "    </tr>\n",
       "    <tr>\n",
       "      <th>26</th>\n",
       "      <td>-44.667797</td>\n",
       "    </tr>\n",
       "    <tr>\n",
       "      <th>6</th>\n",
       "      <td>-30.310693</td>\n",
       "    </tr>\n",
       "    <tr>\n",
       "      <th>34</th>\n",
       "      <td>110.339641</td>\n",
       "    </tr>\n",
       "    <tr>\n",
       "      <th>4</th>\n",
       "      <td>-26.345846</td>\n",
       "    </tr>\n",
       "  </tbody>\n",
       "</table>\n",
       "</div>"
      ],
      "text/plain": [
       "             0\n",
       "8    -4.821324\n",
       "26  -44.667797\n",
       "6   -30.310693\n",
       "34  110.339641\n",
       "4   -26.345846"
      ]
     },
     "execution_count": 14,
     "metadata": {},
     "output_type": "execute_result"
    }
   ],
   "source": [
    "y_train.iloc[0:5]"
   ]
  },
  {
   "cell_type": "code",
   "execution_count": 15,
   "metadata": {},
   "outputs": [],
   "source": [
    "poly = PolynomialFeatures(7)\n",
    "X_poly = poly.fit_transform(X)"
   ]
  },
  {
   "cell_type": "code",
   "execution_count": 16,
   "metadata": {},
   "outputs": [],
   "source": [
    "X_train, X_test, y_train, y_test = train_test_split(X_poly, y, test_size=0.33, random_state=42)"
   ]
  },
  {
   "cell_type": "code",
   "execution_count": 17,
   "metadata": {},
   "outputs": [
    {
     "data": {
      "text/plain": [
       "LinearRegression(copy_X=True, fit_intercept=True, n_jobs=-1, normalize=False)"
      ]
     },
     "execution_count": 17,
     "metadata": {},
     "output_type": "execute_result"
    }
   ],
   "source": [
    "clf = LinearRegression(n_jobs=-1)\n",
    "clf.fit(X_train,y_train)"
   ]
  },
  {
   "cell_type": "code",
   "execution_count": 18,
   "metadata": {},
   "outputs": [
    {
     "data": {
      "text/plain": [
       "1.0"
      ]
     },
     "execution_count": 18,
     "metadata": {},
     "output_type": "execute_result"
    }
   ],
   "source": [
    "clf.score(X_train,y_train)"
   ]
  },
  {
   "cell_type": "code",
   "execution_count": 19,
   "metadata": {},
   "outputs": [
    {
     "data": {
      "text/plain": [
       "-678.4825576817063"
      ]
     },
     "execution_count": 19,
     "metadata": {},
     "output_type": "execute_result"
    }
   ],
   "source": [
    "clf.score(X_train,y_train)\n",
    "clf.score(X_test,y_test)"
   ]
  },
  {
   "cell_type": "code",
   "execution_count": 20,
   "metadata": {},
   "outputs": [
    {
     "data": {
      "text/html": [
       "<div>\n",
       "<style scoped>\n",
       "    .dataframe tbody tr th:only-of-type {\n",
       "        vertical-align: middle;\n",
       "    }\n",
       "\n",
       "    .dataframe tbody tr th {\n",
       "        vertical-align: top;\n",
       "    }\n",
       "\n",
       "    .dataframe thead th {\n",
       "        text-align: right;\n",
       "    }\n",
       "</style>\n",
       "<table border=\"1\" class=\"dataframe\">\n",
       "  <thead>\n",
       "    <tr style=\"text-align: right;\">\n",
       "      <th></th>\n",
       "      <th>0</th>\n",
       "    </tr>\n",
       "  </thead>\n",
       "  <tbody>\n",
       "    <tr>\n",
       "      <th>45</th>\n",
       "      <td>160.143587</td>\n",
       "    </tr>\n",
       "    <tr>\n",
       "      <th>33</th>\n",
       "      <td>57.707599</td>\n",
       "    </tr>\n",
       "    <tr>\n",
       "      <th>50</th>\n",
       "      <td>-88.116155</td>\n",
       "    </tr>\n",
       "    <tr>\n",
       "      <th>15</th>\n",
       "      <td>-77.512985</td>\n",
       "    </tr>\n",
       "    <tr>\n",
       "      <th>9</th>\n",
       "      <td>-109.283582</td>\n",
       "    </tr>\n",
       "  </tbody>\n",
       "</table>\n",
       "</div>"
      ],
      "text/plain": [
       "             0\n",
       "45  160.143587\n",
       "33   57.707599\n",
       "50  -88.116155\n",
       "15  -77.512985\n",
       "9  -109.283582"
      ]
     },
     "execution_count": 20,
     "metadata": {},
     "output_type": "execute_result"
    }
   ],
   "source": [
    "y_train[:5]"
   ]
  },
  {
   "cell_type": "code",
   "execution_count": 21,
   "metadata": {},
   "outputs": [
    {
     "data": {
      "text/plain": [
       "array([[ 160.14358684],\n",
       "       [  57.70759874],\n",
       "       [ -88.11615451],\n",
       "       [ -77.51298505],\n",
       "       [-109.28358238]])"
      ]
     },
     "execution_count": 21,
     "metadata": {},
     "output_type": "execute_result"
    }
   ],
   "source": [
    "clf.predict(X_train[:5])"
   ]
  },
  {
   "cell_type": "code",
   "execution_count": 22,
   "metadata": {},
   "outputs": [
    {
     "data": {
      "text/html": [
       "<div>\n",
       "<style scoped>\n",
       "    .dataframe tbody tr th:only-of-type {\n",
       "        vertical-align: middle;\n",
       "    }\n",
       "\n",
       "    .dataframe tbody tr th {\n",
       "        vertical-align: top;\n",
       "    }\n",
       "\n",
       "    .dataframe thead th {\n",
       "        text-align: right;\n",
       "    }\n",
       "</style>\n",
       "<table border=\"1\" class=\"dataframe\">\n",
       "  <thead>\n",
       "    <tr style=\"text-align: right;\">\n",
       "      <th></th>\n",
       "      <th>0</th>\n",
       "    </tr>\n",
       "  </thead>\n",
       "  <tbody>\n",
       "    <tr>\n",
       "      <th>19</th>\n",
       "      <td>17.971047</td>\n",
       "    </tr>\n",
       "    <tr>\n",
       "      <th>49</th>\n",
       "      <td>-77.616183</td>\n",
       "    </tr>\n",
       "    <tr>\n",
       "      <th>48</th>\n",
       "      <td>8.995362</td>\n",
       "    </tr>\n",
       "    <tr>\n",
       "      <th>12</th>\n",
       "      <td>100.501119</td>\n",
       "    </tr>\n",
       "    <tr>\n",
       "      <th>44</th>\n",
       "      <td>-69.997696</td>\n",
       "    </tr>\n",
       "  </tbody>\n",
       "</table>\n",
       "</div>"
      ],
      "text/plain": [
       "             0\n",
       "19   17.971047\n",
       "49  -77.616183\n",
       "48    8.995362\n",
       "12  100.501119\n",
       "44  -69.997696"
      ]
     },
     "execution_count": 22,
     "metadata": {},
     "output_type": "execute_result"
    }
   ],
   "source": [
    "y_test[:5]"
   ]
  },
  {
   "cell_type": "code",
   "execution_count": 23,
   "metadata": {},
   "outputs": [
    {
     "data": {
      "text/plain": [
       "array([[  28.85498662],\n",
       "       [ -80.52040528],\n",
       "       [-202.34336926],\n",
       "       [-187.0077491 ],\n",
       "       [-332.602764  ]])"
      ]
     },
     "execution_count": 23,
     "metadata": {},
     "output_type": "execute_result"
    }
   ],
   "source": [
    "clf.predict(X_test[:5])"
   ]
  },
  {
   "cell_type": "markdown",
   "metadata": {},
   "source": [
    "Факторный анализ вместо парной регрессии"
   ]
  },
  {
   "cell_type": "code",
   "execution_count": 24,
   "metadata": {},
   "outputs": [
    {
     "data": {
      "text/plain": [
       "FactorAnalysis(copy=True, iterated_power=3, max_iter=1000, n_components=2,\n",
       "               noise_variance_init=None, random_state=0,\n",
       "               svd_method='randomized', tol=0.01)"
      ]
     },
     "execution_count": 24,
     "metadata": {},
     "output_type": "execute_result"
    }
   ],
   "source": [
    "df_scaled = preprocessing.scale(X)\n",
    "fa = FactorAnalysis(n_components=2)\n",
    "fa.fit(df_scaled)"
   ]
  },
  {
   "cell_type": "code",
   "execution_count": 25,
   "metadata": {},
   "outputs": [
    {
     "data": {
      "text/html": [
       "<div>\n",
       "<style scoped>\n",
       "    .dataframe tbody tr th:only-of-type {\n",
       "        vertical-align: middle;\n",
       "    }\n",
       "\n",
       "    .dataframe tbody tr th {\n",
       "        vertical-align: top;\n",
       "    }\n",
       "\n",
       "    .dataframe thead th {\n",
       "        text-align: right;\n",
       "    }\n",
       "</style>\n",
       "<table border=\"1\" class=\"dataframe\">\n",
       "  <thead>\n",
       "    <tr style=\"text-align: right;\">\n",
       "      <th></th>\n",
       "      <th>0</th>\n",
       "      <th>1</th>\n",
       "      <th>2</th>\n",
       "    </tr>\n",
       "  </thead>\n",
       "  <tbody>\n",
       "    <tr>\n",
       "      <th>0</th>\n",
       "      <td>0.490199</td>\n",
       "      <td>0.468207</td>\n",
       "      <td>0.055269</td>\n",
       "    </tr>\n",
       "    <tr>\n",
       "      <th>1</th>\n",
       "      <td>-0.093525</td>\n",
       "      <td>0.126428</td>\n",
       "      <td>-0.273026</td>\n",
       "    </tr>\n",
       "  </tbody>\n",
       "</table>\n",
       "</div>"
      ],
      "text/plain": [
       "          0         1         2\n",
       "0  0.490199  0.468207  0.055269\n",
       "1 -0.093525  0.126428 -0.273026"
      ]
     },
     "execution_count": 25,
     "metadata": {},
     "output_type": "execute_result"
    }
   ],
   "source": [
    "pd.DataFrame(fa.components_, columns=X.columns)"
   ]
  },
  {
   "cell_type": "markdown",
   "metadata": {},
   "source": [
    "Уникальность фич в смысле дисперсии, объяснённой факторами (чем больше, тем хуже объясняется факторами) содержится в атрибуте noise_variance_."
   ]
  },
  {
   "cell_type": "code",
   "execution_count": 26,
   "metadata": {},
   "outputs": [
    {
     "name": "stdout",
     "output_type": "stream",
     "text": [
      "Uniqueness:\n"
     ]
    },
    {
     "data": {
      "text/plain": [
       "0    0.756033\n",
       "1    0.769588\n",
       "2    0.927099\n",
       "dtype: float64"
      ]
     },
     "execution_count": 26,
     "metadata": {},
     "output_type": "execute_result"
    }
   ],
   "source": [
    "print('Uniqueness:')\n",
    "pd.Series(fa.noise_variance_, X.columns)"
   ]
  },
  {
   "cell_type": "markdown",
   "metadata": {},
   "source": [
    "Исходя из того, то слишком высокие дисперсии, а корреляции между факторами и фичами несущественны, факторный анализ тут по сути бесполезен.\n",
    "Но я все же выдам 2 фактора, чтобы было."
   ]
  },
  {
   "cell_type": "code",
   "execution_count": 27,
   "metadata": {},
   "outputs": [
    {
     "data": {
      "text/html": [
       "<div>\n",
       "<style scoped>\n",
       "    .dataframe tbody tr th:only-of-type {\n",
       "        vertical-align: middle;\n",
       "    }\n",
       "\n",
       "    .dataframe tbody tr th {\n",
       "        vertical-align: top;\n",
       "    }\n",
       "\n",
       "    .dataframe thead th {\n",
       "        text-align: right;\n",
       "    }\n",
       "</style>\n",
       "<table border=\"1\" class=\"dataframe\">\n",
       "  <thead>\n",
       "    <tr style=\"text-align: right;\">\n",
       "      <th></th>\n",
       "      <th>factor1</th>\n",
       "      <th>factor2</th>\n",
       "    </tr>\n",
       "  </thead>\n",
       "  <tbody>\n",
       "    <tr>\n",
       "      <th>0</th>\n",
       "      <td>-0.039106</td>\n",
       "      <td>-0.600931</td>\n",
       "    </tr>\n",
       "    <tr>\n",
       "      <th>1</th>\n",
       "      <td>0.217772</td>\n",
       "      <td>0.248250</td>\n",
       "    </tr>\n",
       "    <tr>\n",
       "      <th>2</th>\n",
       "      <td>-0.607889</td>\n",
       "      <td>0.799377</td>\n",
       "    </tr>\n",
       "    <tr>\n",
       "      <th>3</th>\n",
       "      <td>-0.622458</td>\n",
       "      <td>0.129389</td>\n",
       "    </tr>\n",
       "    <tr>\n",
       "      <th>4</th>\n",
       "      <td>0.068416</td>\n",
       "      <td>-0.098331</td>\n",
       "    </tr>\n",
       "  </tbody>\n",
       "</table>\n",
       "</div>"
      ],
      "text/plain": [
       "    factor1   factor2\n",
       "0 -0.039106 -0.600931\n",
       "1  0.217772  0.248250\n",
       "2 -0.607889  0.799377\n",
       "3 -0.622458  0.129389\n",
       "4  0.068416 -0.098331"
      ]
     },
     "execution_count": 27,
     "metadata": {},
     "output_type": "execute_result"
    }
   ],
   "source": [
    "scores = pd.DataFrame(fa.transform(df_scaled), columns=['factor1', 'factor2'])\n",
    "scores.head()"
   ]
  },
  {
   "cell_type": "markdown",
   "metadata": {},
   "source": [
    "Попробую при помощи Lasso-регрессии не учитывать в построении модели те факторы, которые коррелируют между собой для сокращения размерности."
   ]
  },
  {
   "cell_type": "code",
   "execution_count": 28,
   "metadata": {},
   "outputs": [],
   "source": [
    "lg_clf = Lasso()"
   ]
  },
  {
   "cell_type": "code",
   "execution_count": 29,
   "metadata": {},
   "outputs": [],
   "source": [
    "params = {'alpha': [0.1,0.2,0.3,0.5,1], 'normalize': [True, False], 'max_iter': [100, 500, 700], 'tol': [0.0001, 0.0005,0.0001]}"
   ]
  },
  {
   "cell_type": "code",
   "execution_count": 30,
   "metadata": {},
   "outputs": [],
   "source": [
    "GSL = GridSearchCV(lg_clf, params, cv=3, n_jobs=-1, verbose=1)"
   ]
  },
  {
   "cell_type": "code",
   "execution_count": 31,
   "metadata": {},
   "outputs": [
    {
     "name": "stdout",
     "output_type": "stream",
     "text": [
      "Fitting 3 folds for each of 90 candidates, totalling 270 fits\n"
     ]
    },
    {
     "name": "stderr",
     "output_type": "stream",
     "text": [
      "[Parallel(n_jobs=-1)]: Using backend LokyBackend with 8 concurrent workers.\n",
      "[Parallel(n_jobs=-1)]: Done  34 tasks      | elapsed:    2.1s\n",
      "[Parallel(n_jobs=-1)]: Done 270 out of 270 | elapsed:    2.5s finished\n"
     ]
    },
    {
     "data": {
      "text/plain": [
       "GridSearchCV(cv=3, error_score=nan,\n",
       "             estimator=Lasso(alpha=1.0, copy_X=True, fit_intercept=True,\n",
       "                             max_iter=1000, normalize=False, positive=False,\n",
       "                             precompute=False, random_state=None,\n",
       "                             selection='cyclic', tol=0.0001, warm_start=False),\n",
       "             iid='deprecated', n_jobs=-1,\n",
       "             param_grid={'alpha': [0.1, 0.2, 0.3, 0.5, 1],\n",
       "                         'max_iter': [100, 500, 700],\n",
       "                         'normalize': [True, False],\n",
       "                         'tol': [0.0001, 0.0005, 0.0001]},\n",
       "             pre_dispatch='2*n_jobs', refit=True, return_train_score=False,\n",
       "             scoring=None, verbose=1)"
      ]
     },
     "execution_count": 31,
     "metadata": {},
     "output_type": "execute_result"
    }
   ],
   "source": [
    "GSL.fit(X_train, y_train)"
   ]
  },
  {
   "cell_type": "code",
   "execution_count": 32,
   "metadata": {},
   "outputs": [
    {
     "data": {
      "text/plain": [
       "{'alpha': 0.2, 'max_iter': 100, 'normalize': True, 'tol': 0.0001}"
      ]
     },
     "execution_count": 32,
     "metadata": {},
     "output_type": "execute_result"
    }
   ],
   "source": [
    "GSL.best_params_"
   ]
  },
  {
   "cell_type": "code",
   "execution_count": 33,
   "metadata": {},
   "outputs": [
    {
     "data": {
      "text/plain": [
       "0.9924212262130214"
      ]
     },
     "execution_count": 33,
     "metadata": {},
     "output_type": "execute_result"
    }
   ],
   "source": [
    "GSL.score(X_train,y_train)"
   ]
  },
  {
   "cell_type": "code",
   "execution_count": 34,
   "metadata": {},
   "outputs": [
    {
     "data": {
      "text/plain": [
       "0.9735760937784478"
      ]
     },
     "execution_count": 34,
     "metadata": {},
     "output_type": "execute_result"
    }
   ],
   "source": [
    "GSL.score(X_test,y_test)"
   ]
  },
  {
   "cell_type": "markdown",
   "metadata": {},
   "source": [
    "Метод выше- Лассо регрессия, работает получше дефолтной линейной регрессии, отбрасывает факторы, не оказывающие влияния на предсказательную мощность модели."
   ]
  },
  {
   "cell_type": "code",
   "execution_count": 35,
   "metadata": {},
   "outputs": [],
   "source": [
    "parameters = {\"degree\": [7,10,100]}\n",
    "poly_GS = PolynomialFeatures()"
   ]
  },
  {
   "cell_type": "code",
   "execution_count": 36,
   "metadata": {},
   "outputs": [],
   "source": [
    "clf_GS = GridSearchCV(clf, parameters, cv=5)"
   ]
  },
  {
   "cell_type": "code",
   "execution_count": 37,
   "metadata": {},
   "outputs": [
    {
     "name": "stdout",
     "output_type": "stream",
     "text": [
      "[array([[ 0.        , -1.26742202, 78.81539346, 39.24449436, -1.57378104,\n",
      "         0.48057392, -2.23805553, -0.09262547, -1.52829648,  0.23819987]]), array([[ 6.36513064e-12,  2.98705260e+01,  9.32031063e+01,\n",
      "         5.48760498e+01,  3.12246291e+01,  1.03125897e+02,\n",
      "         6.67890896e+01, -1.68155231e+01,  2.72186793e+01,\n",
      "         3.29153722e+01,  9.25529595e-01,  2.03194899e-01,\n",
      "        -7.98556868e+01, -4.60184288e+01,  8.54024448e+01,\n",
      "        -4.57044741e+01, -3.71946278e+00,  1.28232486e-01,\n",
      "         2.09037234e+01, -3.56856727e+01, -6.97139302e+01,\n",
      "        -6.16968431e+01, -3.50778521e+01, -5.78764422e+00,\n",
      "        -4.49751328e+01, -1.56402683e+01, -3.18470470e+01,\n",
      "        -3.27797847e+01, -3.75404454e+01, -1.92355101e+01,\n",
      "         4.16378686e+00,  5.04846978e+01, -7.85945216e+00,\n",
      "        -2.84826164e+01, -1.65584170e+01, -3.50289576e+01,\n",
      "        -1.07200117e+01,  2.56844082e+01,  9.47753761e+00,\n",
      "         7.48482698e+01,  9.14565607e+00,  4.75558938e+01,\n",
      "         1.16795629e+02,  2.18821577e+01,  9.92808891e+00,\n",
      "         1.83777139e+01, -1.21531611e+02,  7.20559360e+01,\n",
      "        -2.61856160e+00,  8.89533730e+00, -2.70367511e+00,\n",
      "         7.11493299e+00, -9.66867950e+01,  3.38974450e+01,\n",
      "         2.44716681e+01,  9.87016062e+00]]), array([[ 2.17984738e-10,  3.99400722e+00,  6.86267094e+01,\n",
      "         4.19793884e+01,  2.39462477e+01,  3.35548933e+01,\n",
      "         2.85200741e+01, -2.91225715e+01,  6.94658857e+00,\n",
      "         7.11769328e+00,  6.31995268e+00,  1.95874067e-02,\n",
      "         7.26282250e+00, -3.20541799e+01,  2.80721168e+00,\n",
      "         4.93221703e+00,  2.00290069e+01, -2.42204321e+01,\n",
      "         1.04904102e+01, -1.46051486e+01, -6.45023957e+00,\n",
      "        -1.18368938e+01, -2.00004065e+00, -1.35318476e+00,\n",
      "        -2.18520796e+00,  5.97512192e+00,  1.93290946e+01,\n",
      "        -4.45881689e-01,  1.98306286e+00, -1.16316926e+01,\n",
      "         9.00765448e+00,  4.40900434e+00,  3.56954632e+00,\n",
      "         5.09897756e+00, -5.52944025e+00, -5.79441027e+00,\n",
      "         3.21069983e-01, -2.95631750e+00, -9.18935792e+00,\n",
      "         5.22559735e+00,  1.40328371e+00,  2.28660370e+00,\n",
      "        -6.71888973e+00,  3.12848063e+00, -1.56350613e+00,\n",
      "        -7.84048779e+00,  1.58421261e-01, -2.29234215e+00,\n",
      "         7.44092598e+00, -1.26623872e+00, -3.27941231e+00,\n",
      "         8.35972231e-01, -3.49009626e+00,  1.85185465e+00,\n",
      "         1.31239425e+00, -1.49130533e-01, -1.89907664e+01,\n",
      "        -1.34915148e+01, -1.02637833e+01,  3.63559674e+00,\n",
      "        -2.30381969e+00,  2.89867045e+00,  1.04023809e+00,\n",
      "         8.02378377e-01, -2.23287314e-01, -2.95982891e+00,\n",
      "        -4.30376557e+00,  3.57593896e+00, -2.76654628e-01,\n",
      "         3.16970928e+00, -1.79491603e+00,  2.16363723e+00,\n",
      "         1.62025936e+00,  1.98096115e-01, -2.30780033e+00,\n",
      "         1.32781020e+00, -4.62890590e+00,  1.56315861e+01,\n",
      "        -6.45607763e+00,  1.15741652e+01, -6.61814934e+00,\n",
      "         5.46770293e+00, -3.05145935e+00, -1.13379260e+00,\n",
      "        -9.48574827e+00,  2.20786641e+00, -4.92211479e+00,\n",
      "        -3.22716154e+00,  3.75925598e+00,  2.45494010e-01,\n",
      "        -2.85252283e-01, -7.48833773e-01,  3.96889971e-01,\n",
      "         1.53335471e+00, -3.01318390e+00,  2.07752968e+00,\n",
      "        -5.26221148e-01,  3.21872414e+00, -5.54429321e-01,\n",
      "        -3.49577875e+00, -2.04402121e+00,  1.86818999e+00,\n",
      "        -7.46270715e-01,  3.63903262e+00,  2.85031666e+00,\n",
      "        -4.20879323e-01, -5.76393040e+00,  1.19053714e+00,\n",
      "        -4.96424546e-01,  1.77065008e+00,  3.73171593e+00,\n",
      "         3.23885259e+00, -3.39943934e+00,  1.08217636e+01,\n",
      "        -1.00712979e+01,  7.79400972e+00, -6.36595675e+00,\n",
      "         5.32439621e+00,  2.92491654e-01,  3.52347736e+00,\n",
      "        -2.09274308e+01, -8.32270300e+00, -1.16784056e+01,\n",
      "         2.13521685e+00,  4.55865247e-01,  3.29381399e-01,\n",
      "        -1.44384396e+00,  7.73923791e-01,  3.06154557e-01,\n",
      "        -8.00459639e-01, -2.47203599e+00,  1.84249296e+00,\n",
      "         9.13780345e-01,  1.57813612e+00,  2.02361104e+00,\n",
      "         1.10829060e+00, -4.77987992e-01,  1.09118153e+00,\n",
      "        -8.62377880e-01,  2.09161916e+00,  1.46620379e+00,\n",
      "        -2.79099073e+00,  2.75471450e+00, -4.95118353e-01,\n",
      "         1.67380980e+00, -4.82860576e-01,  1.25873276e+00,\n",
      "        -1.05598860e+00, -4.71402278e+00,  1.50426308e+00,\n",
      "        -2.33363710e+00,  8.23451285e-01, -1.34176053e+00,\n",
      "        -2.20702163e-01, -1.21626205e+00,  8.07167048e-01,\n",
      "         6.69746943e+00, -6.85528945e+00,  1.14834317e+01,\n",
      "        -9.24085155e+00,  7.01074334e+00, -6.22085667e+00,\n",
      "         3.11576085e+00, -3.51262983e+00, -3.27688274e+00,\n",
      "        -1.48675326e+01,  1.30989211e+00, -4.43888443e+00,\n",
      "         2.41647919e+00,  9.28257549e-01,  8.25263618e-01,\n",
      "         8.03459947e-01,  9.03695985e-01,  1.41579106e-01,\n",
      "         2.07598057e+00,  2.42847303e+00, -3.08647484e-01,\n",
      "         1.23231955e+00,  1.76755700e+00,  3.31021784e-01,\n",
      "        -1.74291812e+00,  5.58323324e-01, -2.41672501e-02,\n",
      "         1.19684724e+00,  1.59444112e+00,  3.37356390e+00,\n",
      "         2.55322257e+00, -8.15859013e-01,  1.93529570e-02,\n",
      "         3.64481224e-01,  5.89203329e-01,  2.22948075e+00,\n",
      "        -3.75140861e-01, -3.89501253e+00, -4.74697764e-01,\n",
      "        -2.74753255e-01, -1.41206568e-01,  8.93177141e-01,\n",
      "         5.01665382e-01,  3.90236959e+00,  4.27093343e+00,\n",
      "         6.83112654e+00, -8.60035385e+00,  1.64833888e+00,\n",
      "        -3.39965039e+00,  1.82238451e+00, -1.16557464e+00,\n",
      "         3.45105609e+00,  1.13148440e+00,  5.48609269e+00,\n",
      "         3.27704253e-01,  7.96231344e+00, -1.12299103e+01,\n",
      "         5.90303401e+00, -8.20886461e+00,  4.59987110e+00,\n",
      "        -3.30285219e+00,  1.05442562e+00,  6.48643171e+00,\n",
      "         6.88047872e-01, -1.57336125e+00,  5.00090449e-01,\n",
      "        -8.85954906e+00, -1.64713657e+00,  4.83286389e+00,\n",
      "        -1.48395843e+00,  1.36813684e+00,  7.92232525e-02,\n",
      "         1.55570159e+00,  3.02763069e-01, -1.45790358e+00,\n",
      "         3.21614188e+00,  7.43867735e-02,  2.06272396e+00,\n",
      "         3.31530914e+00,  4.28222165e+00, -9.48904223e-01,\n",
      "         1.18587598e+00, -1.68424419e-01,  2.07799237e+00,\n",
      "         3.73573181e+00,  1.40158696e+00,  2.31565517e+00,\n",
      "        -7.39994326e-01,  1.38893244e+00,  6.06220001e-01,\n",
      "         1.10280772e+00,  3.09863479e+00,  5.82594799e+00,\n",
      "        -1.29466791e+00,  4.72840779e-01, -6.71603488e-01,\n",
      "         7.17953357e-01,  1.17833142e-01,  1.59287033e+00,\n",
      "         5.19147783e+00,  8.19382315e+00,  3.27610460e+00,\n",
      "        -6.52136420e-01,  8.30664009e-01, -6.01882782e-01,\n",
      "         6.07225043e-01, -4.70060190e-01,  2.18939765e-01,\n",
      "         1.57198035e-01, -4.11692673e+00, -3.75198306e-01,\n",
      "        -4.16484899e+00,  1.33872119e+00, -2.49472570e+00,\n",
      "         6.77790873e-01, -2.59708664e+00,  9.38636038e-01,\n",
      "        -4.14273016e+00,  3.16580642e+00, -6.29937354e+00,\n",
      "         8.03581470e-01,  5.47382618e+00, -7.82649619e+00,\n",
      "         4.08949011e+00, -6.37794739e+00,  1.74560388e+00,\n",
      "        -3.21083008e+00, -3.58197634e+00,  7.91937532e-01,\n",
      "         1.02564724e+00]])]\n"
     ]
    }
   ],
   "source": [
    "coefs = []\n",
    "scores = []\n",
    "different_scores = []\n",
    "different_scores_1 = []\n",
    "different_scores_2 = []\n",
    "for i in [2,5,10]:\n",
    "    poly = PolynomialFeatures(i)\n",
    "    X_poly = poly.fit_transform(X)\n",
    "    X_train, X_test, y_train, y_test = train_test_split(X_poly, y, test_size=0.2, random_state=42)\n",
    "    clf = LinearRegression(n_jobs=-1)\n",
    "    clf.fit(X_train,y_train)\n",
    "    X_train_predicted = clf.predict(X_train)\n",
    "    predicted = clf.predict(X_test)\n",
    "    coefs.append(clf.coef_)\n",
    "    scores.append([clf.score(X_train, y_train), clf.score(X_test, y_test)])\n",
    "    different_scores.append([mean_squared_error(X_train_predicted, y_train), mean_squared_error(predicted, y_test)])\n",
    "    different_scores_1.append([max_error(X_train_predicted, y_train), max_error(predicted, y_test)])\n",
    "    different_scores_2.append([mean_gamma_deviance(abs(X_train_predicted), abs(y_train)), mean_gamma_deviance(abs(predicted), abs(y_test))])\n",
    "print(coefs)"
   ]
  },
  {
   "cell_type": "markdown",
   "metadata": {},
   "source": [
    "Если ниже в списке первый элемент значительно (или незначительно) больше второго, то значит модель переобучена. Если же разность между ними слишком велика- вы сильно напортачили!"
   ]
  },
  {
   "cell_type": "code",
   "execution_count": 38,
   "metadata": {},
   "outputs": [
    {
     "data": {
      "text/html": [
       "<div>\n",
       "<style scoped>\n",
       "    .dataframe tbody tr th:only-of-type {\n",
       "        vertical-align: middle;\n",
       "    }\n",
       "\n",
       "    .dataframe tbody tr th {\n",
       "        vertical-align: top;\n",
       "    }\n",
       "\n",
       "    .dataframe thead th {\n",
       "        text-align: right;\n",
       "    }\n",
       "</style>\n",
       "<table border=\"1\" class=\"dataframe\">\n",
       "  <thead>\n",
       "    <tr style=\"text-align: right;\">\n",
       "      <th></th>\n",
       "      <th>0</th>\n",
       "      <th>1</th>\n",
       "    </tr>\n",
       "  </thead>\n",
       "  <tbody>\n",
       "    <tr>\n",
       "      <th>0</th>\n",
       "      <td>0.992914</td>\n",
       "      <td>0.949025</td>\n",
       "    </tr>\n",
       "    <tr>\n",
       "      <th>1</th>\n",
       "      <td>1.000000</td>\n",
       "      <td>-34.258859</td>\n",
       "    </tr>\n",
       "    <tr>\n",
       "      <th>2</th>\n",
       "      <td>1.000000</td>\n",
       "      <td>-974.046370</td>\n",
       "    </tr>\n",
       "  </tbody>\n",
       "</table>\n",
       "</div>"
      ],
      "text/plain": [
       "          0           1\n",
       "0  0.992914    0.949025\n",
       "1  1.000000  -34.258859\n",
       "2  1.000000 -974.046370"
      ]
     },
     "execution_count": 38,
     "metadata": {},
     "output_type": "execute_result"
    }
   ],
   "source": [
    "pd.DataFrame(scores)"
   ]
  },
  {
   "cell_type": "markdown",
   "metadata": {},
   "source": [
    "mean_squared_error - Mean squared error regression loss"
   ]
  },
  {
   "cell_type": "code",
   "execution_count": 39,
   "metadata": {},
   "outputs": [
    {
     "data": {
      "text/html": [
       "<div>\n",
       "<style scoped>\n",
       "    .dataframe tbody tr th:only-of-type {\n",
       "        vertical-align: middle;\n",
       "    }\n",
       "\n",
       "    .dataframe tbody tr th {\n",
       "        vertical-align: top;\n",
       "    }\n",
       "\n",
       "    .dataframe thead th {\n",
       "        text-align: right;\n",
       "    }\n",
       "</style>\n",
       "<table border=\"1\" class=\"dataframe\">\n",
       "  <thead>\n",
       "    <tr style=\"text-align: right;\">\n",
       "      <th></th>\n",
       "      <th>0</th>\n",
       "      <th>1</th>\n",
       "    </tr>\n",
       "  </thead>\n",
       "  <tbody>\n",
       "    <tr>\n",
       "      <th>0</th>\n",
       "      <td>6.048919e+01</td>\n",
       "      <td>1.410569e+02</td>\n",
       "    </tr>\n",
       "    <tr>\n",
       "      <th>1</th>\n",
       "      <td>2.165983e-24</td>\n",
       "      <td>9.756680e+04</td>\n",
       "    </tr>\n",
       "    <tr>\n",
       "      <th>2</th>\n",
       "      <td>3.544687e-21</td>\n",
       "      <td>2.698106e+06</td>\n",
       "    </tr>\n",
       "  </tbody>\n",
       "</table>\n",
       "</div>"
      ],
      "text/plain": [
       "              0             1\n",
       "0  6.048919e+01  1.410569e+02\n",
       "1  2.165983e-24  9.756680e+04\n",
       "2  3.544687e-21  2.698106e+06"
      ]
     },
     "execution_count": 39,
     "metadata": {},
     "output_type": "execute_result"
    }
   ],
   "source": [
    "pd.DataFrame(different_scores)"
   ]
  },
  {
   "cell_type": "markdown",
   "metadata": {},
   "source": [
    "max_error - metric calculates the maximum residual error."
   ]
  },
  {
   "cell_type": "code",
   "execution_count": 40,
   "metadata": {},
   "outputs": [
    {
     "data": {
      "text/html": [
       "<div>\n",
       "<style scoped>\n",
       "    .dataframe tbody tr th:only-of-type {\n",
       "        vertical-align: middle;\n",
       "    }\n",
       "\n",
       "    .dataframe tbody tr th {\n",
       "        vertical-align: top;\n",
       "    }\n",
       "\n",
       "    .dataframe thead th {\n",
       "        text-align: right;\n",
       "    }\n",
       "</style>\n",
       "<table border=\"1\" class=\"dataframe\">\n",
       "  <thead>\n",
       "    <tr style=\"text-align: right;\">\n",
       "      <th></th>\n",
       "      <th>0</th>\n",
       "      <th>1</th>\n",
       "    </tr>\n",
       "  </thead>\n",
       "  <tbody>\n",
       "    <tr>\n",
       "      <th>0</th>\n",
       "      <td>2.494132e+01</td>\n",
       "      <td>15.406157</td>\n",
       "    </tr>\n",
       "    <tr>\n",
       "      <th>1</th>\n",
       "      <td>6.735945e-12</td>\n",
       "      <td>867.629931</td>\n",
       "    </tr>\n",
       "    <tr>\n",
       "      <th>2</th>\n",
       "      <td>3.626610e-10</td>\n",
       "      <td>4885.622759</td>\n",
       "    </tr>\n",
       "  </tbody>\n",
       "</table>\n",
       "</div>"
      ],
      "text/plain": [
       "              0            1\n",
       "0  2.494132e+01    15.406157\n",
       "1  6.735945e-12   867.629931\n",
       "2  3.626610e-10  4885.622759"
      ]
     },
     "execution_count": 40,
     "metadata": {},
     "output_type": "execute_result"
    }
   ],
   "source": [
    "pd.DataFrame(different_scores_1)"
   ]
  },
  {
   "cell_type": "markdown",
   "metadata": {},
   "source": [
    "Mean Gamma deviance regression loss.\n",
    "\n",
    "Gamma deviance is equivalent to the Tweedie deviance with the power parameter power=2. It is invariant to scaling of the target variable, and measures relative errors."
   ]
  },
  {
   "cell_type": "code",
   "execution_count": 41,
   "metadata": {},
   "outputs": [
    {
     "data": {
      "text/html": [
       "<div>\n",
       "<style scoped>\n",
       "    .dataframe tbody tr th:only-of-type {\n",
       "        vertical-align: middle;\n",
       "    }\n",
       "\n",
       "    .dataframe tbody tr th {\n",
       "        vertical-align: top;\n",
       "    }\n",
       "\n",
       "    .dataframe thead th {\n",
       "        text-align: right;\n",
       "    }\n",
       "</style>\n",
       "<table border=\"1\" class=\"dataframe\">\n",
       "  <thead>\n",
       "    <tr style=\"text-align: right;\">\n",
       "      <th></th>\n",
       "      <th>0</th>\n",
       "      <th>1</th>\n",
       "    </tr>\n",
       "  </thead>\n",
       "  <tbody>\n",
       "    <tr>\n",
       "      <th>0</th>\n",
       "      <td>1.013936e+00</td>\n",
       "      <td>0.447561</td>\n",
       "    </tr>\n",
       "    <tr>\n",
       "      <th>1</th>\n",
       "      <td>-4.647445e-17</td>\n",
       "      <td>9.982920</td>\n",
       "    </tr>\n",
       "    <tr>\n",
       "      <th>2</th>\n",
       "      <td>-6.196594e-17</td>\n",
       "      <td>33.237203</td>\n",
       "    </tr>\n",
       "  </tbody>\n",
       "</table>\n",
       "</div>"
      ],
      "text/plain": [
       "              0          1\n",
       "0  1.013936e+00   0.447561\n",
       "1 -4.647445e-17   9.982920\n",
       "2 -6.196594e-17  33.237203"
      ]
     },
     "execution_count": 41,
     "metadata": {},
     "output_type": "execute_result"
    }
   ],
   "source": [
    "pd.DataFrame(different_scores_2)"
   ]
  }
 ],
 "metadata": {
  "kernelspec": {
   "display_name": "Python 3",
   "language": "python",
   "name": "python3"
  },
  "language_info": {
   "codemirror_mode": {
    "name": "ipython",
    "version": 3
   },
   "file_extension": ".py",
   "mimetype": "text/x-python",
   "name": "python",
   "nbconvert_exporter": "python",
   "pygments_lexer": "ipython3",
   "version": "3.7.2"
  }
 },
 "nbformat": 4,
 "nbformat_minor": 2
}
