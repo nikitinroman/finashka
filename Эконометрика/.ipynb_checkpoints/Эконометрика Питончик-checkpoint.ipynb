{
 "cells": [
  {
   "cell_type": "code",
   "execution_count": 112,
   "metadata": {},
   "outputs": [],
   "source": [
    "import pandas as pd\n",
    "import statsmodels.api as sm\n",
    "import numpy as np\n",
    "import math\n",
    "from statsmodels.regression.linear_model import OLS"
   ]
  },
  {
   "cell_type": "code",
   "execution_count": 114,
   "metadata": {
    "scrolled": true
   },
   "outputs": [],
   "source": [
    "data = pd.read_csv('data.csv', delimiter = ';')\n",
    "data.head()\n",
    "data['ylog'] = np.log(data['y'])\n",
    "data['xlog'] = np.log(data['x'])\n",
    "data['xhalf'] = data['x']/2"
   ]
  },
  {
   "cell_type": "code",
   "execution_count": 115,
   "metadata": {},
   "outputs": [
    {
     "data": {
      "text/html": [
       "<div>\n",
       "<style scoped>\n",
       "    .dataframe tbody tr th:only-of-type {\n",
       "        vertical-align: middle;\n",
       "    }\n",
       "\n",
       "    .dataframe tbody tr th {\n",
       "        vertical-align: top;\n",
       "    }\n",
       "\n",
       "    .dataframe thead th {\n",
       "        text-align: right;\n",
       "    }\n",
       "</style>\n",
       "<table border=\"1\" class=\"dataframe\">\n",
       "  <thead>\n",
       "    <tr style=\"text-align: right;\">\n",
       "      <th></th>\n",
       "      <th>y</th>\n",
       "      <th>x</th>\n",
       "      <th>ylog</th>\n",
       "      <th>xlog</th>\n",
       "      <th>xhalf</th>\n",
       "    </tr>\n",
       "  </thead>\n",
       "  <tbody>\n",
       "    <tr>\n",
       "      <th>0</th>\n",
       "      <td>310</td>\n",
       "      <td>390</td>\n",
       "      <td>5.736572</td>\n",
       "      <td>5.966147</td>\n",
       "      <td>195.0</td>\n",
       "    </tr>\n",
       "    <tr>\n",
       "      <th>1</th>\n",
       "      <td>350</td>\n",
       "      <td>385</td>\n",
       "      <td>5.857933</td>\n",
       "      <td>5.953243</td>\n",
       "      <td>192.5</td>\n",
       "    </tr>\n",
       "    <tr>\n",
       "      <th>2</th>\n",
       "      <td>330</td>\n",
       "      <td>545</td>\n",
       "      <td>5.799093</td>\n",
       "      <td>6.300786</td>\n",
       "      <td>272.5</td>\n",
       "    </tr>\n",
       "    <tr>\n",
       "      <th>3</th>\n",
       "      <td>425</td>\n",
       "      <td>680</td>\n",
       "      <td>6.052089</td>\n",
       "      <td>6.522093</td>\n",
       "      <td>340.0</td>\n",
       "    </tr>\n",
       "    <tr>\n",
       "      <th>4</th>\n",
       "      <td>502</td>\n",
       "      <td>810</td>\n",
       "      <td>6.218600</td>\n",
       "      <td>6.697034</td>\n",
       "      <td>405.0</td>\n",
       "    </tr>\n",
       "  </tbody>\n",
       "</table>\n",
       "</div>"
      ],
      "text/plain": [
       "     y    x      ylog      xlog  xhalf\n",
       "0  310  390  5.736572  5.966147  195.0\n",
       "1  350  385  5.857933  5.953243  192.5\n",
       "2  330  545  5.799093  6.300786  272.5\n",
       "3  425  680  6.052089  6.522093  340.0\n",
       "4  502  810  6.218600  6.697034  405.0"
      ]
     },
     "execution_count": 115,
     "metadata": {},
     "output_type": "execute_result"
    }
   ],
   "source": [
    "data.head()"
   ]
  },
  {
   "cell_type": "code",
   "execution_count": 116,
   "metadata": {},
   "outputs": [],
   "source": [
    "datas = [[data['y'], data['x']], [data['ylog'], data['x']], [data['ylog'], data['xlog']], [data['y'], data['xhalf']]]"
   ]
  },
  {
   "cell_type": "markdown",
   "metadata": {},
   "source": [
    "Сделаю все в цикле, ибо лень"
   ]
  },
  {
   "cell_type": "code",
   "execution_count": 144,
   "metadata": {},
   "outputs": [
    {
     "name": "stdout",
     "output_type": "stream",
     "text": [
      "                            OLS Regression Results                            \n",
      "==============================================================================\n",
      "Dep. Variable:                      y   R-squared:                       0.673\n",
      "Model:                            OLS   Adj. R-squared:                  0.658\n",
      "Method:                 Least Squares   F-statistic:                     45.23\n",
      "Date:                Fri, 23 Oct 2020   Prob (F-statistic):           9.27e-07\n",
      "Time:                        20:47:13   Log-Likelihood:                -121.84\n",
      "No. Observations:                  24   AIC:                             247.7\n",
      "Df Residuals:                      22   BIC:                             250.0\n",
      "Df Model:                           1                                         \n",
      "Covariance Type:            nonrobust                                         \n",
      "==============================================================================\n",
      "                 coef    std err          t      P>|t|      [0.025      0.975]\n",
      "------------------------------------------------------------------------------\n",
      "const        132.1547     41.799      3.162      0.005      45.470     218.840\n",
      "x              0.4186      0.062      6.725      0.000       0.289       0.548\n",
      "==============================================================================\n",
      "Omnibus:                        2.554   Durbin-Watson:                   1.528\n",
      "Prob(Omnibus):                  0.279   Jarque-Bera (JB):                2.011\n",
      "Skew:                          -0.695   Prob(JB):                        0.366\n",
      "Kurtosis:                       2.717   Cond. No.                     3.40e+03\n",
      "==============================================================================\n",
      "\n",
      "Notes:\n",
      "[1] Standard Errors assume that the covariance matrix of the errors is correctly specified.\n",
      "[2] The condition number is large, 3.4e+03. This might indicate that there are\n",
      "strong multicollinearity or other numerical problems.\n",
      "                            OLS Regression Results                            \n",
      "==============================================================================\n",
      "Dep. Variable:                   ylog   R-squared:                       0.688\n",
      "Model:                            OLS   Adj. R-squared:                  0.674\n",
      "Method:                 Least Squares   F-statistic:                     48.49\n",
      "Date:                Fri, 23 Oct 2020   Prob (F-statistic):           5.45e-07\n",
      "Time:                        20:47:13   Log-Likelihood:                 22.170\n",
      "No. Observations:                  24   AIC:                            -40.34\n",
      "Df Residuals:                      22   BIC:                            -37.98\n",
      "Df Model:                           1                                         \n",
      "Covariance Type:            nonrobust                                         \n",
      "==============================================================================\n",
      "                 coef    std err          t      P>|t|      [0.025      0.975]\n",
      "------------------------------------------------------------------------------\n",
      "const          5.2893      0.104     51.074      0.000       5.074       5.504\n",
      "x              0.0011      0.000      6.963      0.000       0.001       0.001\n",
      "==============================================================================\n",
      "Omnibus:                        2.454   Durbin-Watson:                   1.478\n",
      "Prob(Omnibus):                  0.293   Jarque-Bera (JB):                1.971\n",
      "Skew:                          -0.682   Prob(JB):                        0.373\n",
      "Kurtosis:                       2.671   Cond. No.                     3.40e+03\n",
      "==============================================================================\n",
      "\n",
      "Notes:\n",
      "[1] Standard Errors assume that the covariance matrix of the errors is correctly specified.\n",
      "[2] The condition number is large, 3.4e+03. This might indicate that there are\n",
      "strong multicollinearity or other numerical problems.\n",
      "                            OLS Regression Results                            \n",
      "==============================================================================\n",
      "Dep. Variable:                   ylog   R-squared:                       0.663\n",
      "Model:                            OLS   Adj. R-squared:                  0.648\n",
      "Method:                 Least Squares   F-statistic:                     43.28\n",
      "Date:                Fri, 23 Oct 2020   Prob (F-statistic):           1.29e-06\n",
      "Time:                        20:47:13   Log-Likelihood:                 21.249\n",
      "No. Observations:                  24   AIC:                            -38.50\n",
      "Df Residuals:                      22   BIC:                            -36.14\n",
      "Df Model:                           1                                         \n",
      "Covariance Type:            nonrobust                                         \n",
      "==============================================================================\n",
      "                 coef    std err          t      P>|t|      [0.025      0.975]\n",
      "------------------------------------------------------------------------------\n",
      "const          2.0224      0.604      3.346      0.003       0.769       3.276\n",
      "xlog           0.6146      0.093      6.578      0.000       0.421       0.808\n",
      "==============================================================================\n",
      "Omnibus:                        1.610   Durbin-Watson:                   1.598\n",
      "Prob(Omnibus):                  0.447   Jarque-Bera (JB):                1.431\n",
      "Skew:                          -0.530   Prob(JB):                        0.489\n",
      "Kurtosis:                       2.445   Cond. No.                         188.\n",
      "==============================================================================\n",
      "\n",
      "Notes:\n",
      "[1] Standard Errors assume that the covariance matrix of the errors is correctly specified.\n",
      "                            OLS Regression Results                            \n",
      "==============================================================================\n",
      "Dep. Variable:                      y   R-squared:                       0.673\n",
      "Model:                            OLS   Adj. R-squared:                  0.658\n",
      "Method:                 Least Squares   F-statistic:                     45.23\n",
      "Date:                Fri, 23 Oct 2020   Prob (F-statistic):           9.27e-07\n",
      "Time:                        20:47:13   Log-Likelihood:                -121.84\n",
      "No. Observations:                  24   AIC:                             247.7\n",
      "Df Residuals:                      22   BIC:                             250.0\n",
      "Df Model:                           1                                         \n",
      "Covariance Type:            nonrobust                                         \n",
      "==============================================================================\n",
      "                 coef    std err          t      P>|t|      [0.025      0.975]\n",
      "------------------------------------------------------------------------------\n",
      "const        132.1547     41.799      3.162      0.005      45.470     218.840\n",
      "xhalf          0.8371      0.124      6.725      0.000       0.579       1.095\n",
      "==============================================================================\n",
      "Omnibus:                        2.554   Durbin-Watson:                   1.528\n",
      "Prob(Omnibus):                  0.279   Jarque-Bera (JB):                2.011\n",
      "Skew:                          -0.695   Prob(JB):                        0.366\n",
      "Kurtosis:                       2.717   Cond. No.                     1.70e+03\n",
      "==============================================================================\n",
      "\n",
      "Notes:\n",
      "[1] Standard Errors assume that the covariance matrix of the errors is correctly specified.\n",
      "[2] The condition number is large, 1.7e+03. This might indicate that there are\n",
      "strong multicollinearity or other numerical problems.\n"
     ]
    }
   ],
   "source": [
    "for i in (datas):\n",
    "    X = sm.add_constant(i[1])\n",
    "    results = sm.OLS(i[0], X).fit()\n",
    "    print(results.summary())"
   ]
  },
  {
   "cell_type": "markdown",
   "metadata": {},
   "source": [
    "# Всё!)"
   ]
  },
  {
   "cell_type": "markdown",
   "metadata": {},
   "source": [
    "З.Ы. Никитин Роман ПИ18-2"
   ]
  }
 ],
 "metadata": {
  "kernelspec": {
   "display_name": "Python 3",
   "language": "python",
   "name": "python3"
  },
  "language_info": {
   "codemirror_mode": {
    "name": "ipython",
    "version": 3
   },
   "file_extension": ".py",
   "mimetype": "text/x-python",
   "name": "python",
   "nbconvert_exporter": "python",
   "pygments_lexer": "ipython3",
   "version": "3.7.2"
  }
 },
 "nbformat": 4,
 "nbformat_minor": 2
}
