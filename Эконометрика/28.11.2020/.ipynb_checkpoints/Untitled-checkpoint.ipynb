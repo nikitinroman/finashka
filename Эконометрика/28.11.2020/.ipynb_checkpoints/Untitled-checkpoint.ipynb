{
 "cells": [
  {
   "cell_type": "code",
   "execution_count": 38,
   "metadata": {},
   "outputs": [],
   "source": [
    "import pandas as pd\n",
    "import numpy as np\n",
    "from sklearn.linear_model import LinearRegression as LR"
   ]
  },
  {
   "cell_type": "markdown",
   "metadata": {},
   "source": [
    "4 задание Никитин ПИ18-2 (Дополнение к экселю и скрипту на R)"
   ]
  },
  {
   "cell_type": "code",
   "execution_count": 43,
   "metadata": {},
   "outputs": [
    {
     "name": "stdout",
     "output_type": "stream",
     "text": [
      "    x1t   x2t   x3t  yt\n",
      "0  10.3  20.8   4.1  40\n",
      "1  14.6  28.0  20.3  80\n",
      "2  11.4  23.0   9.8  55\n",
      "3  17.1  30.5   8.1  58\n",
      "4  10.6  21.7  17.7  70\n",
      "   x1t  x2t  x3t\n",
      "0    8   16    6\n"
     ]
    }
   ],
   "source": [
    "data = pd.read_csv('data_pd.csv', delimiter=';')\n",
    "print(data)\n",
    "X = data.drop(['yt'], axis=1)\n",
    "Y = data['yt']\n",
    "new_data = pd.DataFrame(np.array([[8,16,6]]),\n",
    "                   columns=['x1t', 'x2t', 'x3t'])\n",
    "print(new_data)"
   ]
  },
  {
   "cell_type": "markdown",
   "metadata": {},
   "source": [
    "На всех фичах без изменений"
   ]
  },
  {
   "cell_type": "code",
   "execution_count": 21,
   "metadata": {},
   "outputs": [
    {
     "data": {
      "text/plain": [
       "LinearRegression(copy_X=True, fit_intercept=True, n_jobs=None, normalize=False)"
      ]
     },
     "execution_count": 21,
     "metadata": {},
     "output_type": "execute_result"
    }
   ],
   "source": [
    "lr = LR()\n",
    "lr.fit(X, Y)"
   ]
  },
  {
   "cell_type": "code",
   "execution_count": 45,
   "metadata": {},
   "outputs": [
    {
     "name": "stdout",
     "output_type": "stream",
     "text": [
      "[41.01123649]\n"
     ]
    }
   ],
   "source": [
    "predicted_1 = lr.predict(new_data)\n",
    "print(predicted_1)"
   ]
  },
  {
   "cell_type": "markdown",
   "metadata": {},
   "source": [
    "Без 2 фичи"
   ]
  },
  {
   "cell_type": "code",
   "execution_count": 48,
   "metadata": {},
   "outputs": [
    {
     "name": "stdout",
     "output_type": "stream",
     "text": [
      "   x1t  x3t\n",
      "0    8    6\n",
      "[41.76350953]\n"
     ]
    }
   ],
   "source": [
    "X = data.drop(['yt', 'x2t'], axis=1)\n",
    "Y = data['yt']\n",
    "\n",
    "new_data = pd.DataFrame(np.array([[8,6]]),\n",
    "                   columns=['x1t', 'x3t'])\n",
    "print(new_data)\n",
    "\n",
    "lr_2 = LR()\n",
    "lr_2.fit(X, Y)\n",
    "\n",
    "predicted_2 = lr_2.predict(new_data)\n",
    "print(predicted_2)"
   ]
  },
  {
   "cell_type": "markdown",
   "metadata": {},
   "source": [
    "С условием из номера 3"
   ]
  },
  {
   "cell_type": "code",
   "execution_count": 54,
   "metadata": {},
   "outputs": [
    {
     "name": "stdout",
     "output_type": "stream",
     "text": [
      "     x1t   x2t   x3t\n",
      "0  31.20  20.8   4.1\n",
      "1  42.00  28.0  20.3\n",
      "2  34.50  23.0   9.8\n",
      "3  45.75  30.5   8.1\n",
      "4  32.55  21.7  17.7\n",
      "   x1t  x2t  x3t\n",
      "0    8   16    6\n",
      "[33.57699101]\n"
     ]
    }
   ],
   "source": [
    "X = data.drop(['yt'], axis=1)\n",
    "X['x1t'] = X['x2t']*1.5\n",
    "Y = data['yt']\n",
    "print(X)\n",
    "\n",
    "new_data = pd.DataFrame(np.array([[8,16,6]]),\n",
    "                   columns=['x1t', 'x2t', 'x3t'])\n",
    "print(new_data)\n",
    "\n",
    "\n",
    "lr_3 = LR()\n",
    "lr_3.fit(X, Y)\n",
    "\n",
    "predicted_3 = lr_3.predict(new_data)\n",
    "print(predicted_3)"
   ]
  }
 ],
 "metadata": {
  "kernelspec": {
   "display_name": "Python 3",
   "language": "python",
   "name": "python3"
  },
  "language_info": {
   "codemirror_mode": {
    "name": "ipython",
    "version": 3
   },
   "file_extension": ".py",
   "mimetype": "text/x-python",
   "name": "python",
   "nbconvert_exporter": "python",
   "pygments_lexer": "ipython3",
   "version": "3.7.2"
  }
 },
 "nbformat": 4,
 "nbformat_minor": 2
}
